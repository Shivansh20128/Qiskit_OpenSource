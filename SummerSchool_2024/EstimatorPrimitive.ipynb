{
 "cells": [
  {
   "cell_type": "code",
   "execution_count": 4,
   "metadata": {},
   "outputs": [],
   "source": [
    "from qiskit_ibm_runtime import EstimatorV2, QiskitRuntimeService\n",
    "from qiskit import QuantumCircuit, transpile\n",
    "bell = QuantumCircuit(2)\n",
    "bell.h(0)\n",
    "bell.cs(0,1)\n",
    "\n",
    "service = QiskitRuntimeService()\n",
    "backend = service.get_backend(\"ibm_brisbane\")\n",
    "isa_bell = transpile(bell,backend)"
   ]
  },
  {
   "cell_type": "code",
   "execution_count": 5,
   "metadata": {},
   "outputs": [],
   "source": [
    "import qiskit.quantum_info as qi\n",
    "obs = qi.SparsePauliOp([\"ZZ\"])\n",
    "isa_obs = obs.apply_layout(isa_bell.layout)"
   ]
  },
  {
   "cell_type": "code",
   "execution_count": 6,
   "metadata": {},
   "outputs": [],
   "source": [
    "estimator = EstimatorV2(backend)\n",
    "\n",
    "pub = (isa_bell,isa_obs)\n",
    "est_job_bell = estimator.run([pub])\n",
    "est_result_bell = est_job_bell.result()"
   ]
  },
  {
   "cell_type": "code",
   "execution_count": 7,
   "metadata": {},
   "outputs": [
    {
     "name": "stdout",
     "output_type": "stream",
     "text": [
      "<ZZ = 0.030+ 0.022\n"
     ]
    }
   ],
   "source": [
    "data = est_result_bell[0].data\n",
    "evs = data.evs\n",
    "stds = data.stds\n",
    "print(f\"<ZZ = {evs:.3f} + {stds:.3f}\")\n"
   ]
  },
  {
   "cell_type": "code",
   "execution_count": null,
   "metadata": {},
   "outputs": [],
   "source": []
  }
 ],
 "metadata": {
  "kernelspec": {
   "display_name": "qiskitenv",
   "language": "python",
   "name": "python3"
  },
  "language_info": {
   "codemirror_mode": {
    "name": "ipython",
    "version": 3
   },
   "file_extension": ".py",
   "mimetype": "text/x-python",
   "name": "python",
   "nbconvert_exporter": "python",
   "pygments_lexer": "ipython3",
   "version": "3.9.13"
  }
 },
 "nbformat": 4,
 "nbformat_minor": 2
}
