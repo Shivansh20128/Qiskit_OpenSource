{
 "cells": [
  {
   "cell_type": "code",
   "execution_count": 1,
   "metadata": {},
   "outputs": [],
   "source": [
    "from qiskit_ibm_runtime import QiskitRuntimeService\n",
    "\n",
    "service = QiskitRuntimeService()\n",
    "backend = service.get_backend(\"ibm_brisbane\")"
   ]
  },
  {
   "cell_type": "code",
   "execution_count": 2,
   "metadata": {},
   "outputs": [],
   "source": [
    "from qiskit import QuantumCircuit, transpile\n",
    "\n",
    "bell = QuantumCircuit(2)\n",
    "bell.h(0)\n",
    "bell.cx(0,1)\n",
    "bell.measure_all()\n",
    "\n",
    "isa_bell = transpile(bell, backend)\n",
    "\n",
    "pub_bell = (isa_bell,)"
   ]
  },
  {
   "cell_type": "code",
   "execution_count": 3,
   "metadata": {},
   "outputs": [],
   "source": [
    "from qiskit_ibm_runtime import SamplerV2\n",
    "\n",
    "sampler = SamplerV2(backend)\n",
    "job_bell = sampler.run([pub_bell], shots=10)\n",
    "\n",
    "result_bell = job_bell.result()\n",
    "data_bell = result_bell[0].data\n"
   ]
  },
  {
   "cell_type": "code",
   "execution_count": 4,
   "metadata": {},
   "outputs": [
    {
     "data": {
      "text/plain": [
       "DataBin(meas=BitArray(<shape=(), num_shots=10, num_bits=2>))"
      ]
     },
     "execution_count": 4,
     "metadata": {},
     "output_type": "execute_result"
    }
   ],
   "source": [
    "data_bell"
   ]
  },
  {
   "cell_type": "code",
   "execution_count": 6,
   "metadata": {},
   "outputs": [
    {
     "name": "stdout",
     "output_type": "stream",
     "text": [
      "shape: ()\n"
     ]
    }
   ],
   "source": [
    "bits = data_bell.meas\n",
    "print(\"shape:\", bits.shape)"
   ]
  },
  {
   "cell_type": "code",
   "execution_count": 7,
   "metadata": {},
   "outputs": [
    {
     "name": "stdout",
     "output_type": "stream",
     "text": [
      "num_bits: 2\n"
     ]
    }
   ],
   "source": [
    "print(\"num_bits:\", bits.num_bits)"
   ]
  },
  {
   "cell_type": "code",
   "execution_count": 8,
   "metadata": {},
   "outputs": [
    {
     "name": "stdout",
     "output_type": "stream",
     "text": [
      "array:\n",
      " [[3]\n",
      " [3]\n",
      " [0]\n",
      " [0]\n",
      " [0]\n",
      " [3]\n",
      " [1]\n",
      " [0]\n",
      " [0]\n",
      " [3]]\n"
     ]
    }
   ],
   "source": [
    "print(\"array:\\n\", bits.array)"
   ]
  },
  {
   "cell_type": "code",
   "execution_count": 9,
   "metadata": {},
   "outputs": [
    {
     "name": "stdout",
     "output_type": "stream",
     "text": [
      "['11', '11', '00', '00', '00', '11', '01', '00', '00', '11']\n"
     ]
    }
   ],
   "source": [
    "bitstrings = bits.get_bitstrings()\n",
    "print(bitstrings)"
   ]
  },
  {
   "cell_type": "code",
   "execution_count": 10,
   "metadata": {},
   "outputs": [],
   "source": [
    "import numpy as np\n",
    "\n",
    "params = np.linspace(0,np.pi,20)\n",
    "isa_par_bell = transpile(bell, backend)"
   ]
  },
  {
   "cell_type": "code",
   "execution_count": 11,
   "metadata": {},
   "outputs": [
    {
     "ename": "ValueError",
     "evalue": "Length of () inconsistent with last dimension of [0.         0.16534698 0.33069396 0.49604095 0.66138793 0.82673491\n 0.99208189 1.15742887 1.32277585 1.48812284 1.65346982 1.8188168\n 1.98416378 2.14951076 2.31485774 2.48020473 2.64555171 2.81089869\n 2.97624567 3.14159265]",
     "output_type": "error",
     "traceback": [
      "\u001b[1;31m---------------------------------------------------------------------------\u001b[0m",
      "\u001b[1;31mValueError\u001b[0m                                Traceback (most recent call last)",
      "Cell \u001b[1;32mIn[11], line 2\u001b[0m\n\u001b[0;32m      1\u001b[0m pub_par_bell \u001b[38;5;241m=\u001b[39m (isa_par_bell, params)\n\u001b[1;32m----> 2\u001b[0m job_par_bell \u001b[38;5;241m=\u001b[39m \u001b[43msampler\u001b[49m\u001b[38;5;241;43m.\u001b[39;49m\u001b[43mrun\u001b[49m\u001b[43m(\u001b[49m\u001b[43m[\u001b[49m\u001b[43mpub_par_bell\u001b[49m\u001b[43m]\u001b[49m\u001b[43m,\u001b[49m\u001b[43m \u001b[49m\u001b[43mshots\u001b[49m\u001b[38;5;241;43m=\u001b[39;49m\u001b[38;5;241;43m100\u001b[39;49m\u001b[43m)\u001b[49m\n\u001b[0;32m      3\u001b[0m result_par_bell \u001b[38;5;241m=\u001b[39m job_par_bell\u001b[38;5;241m.\u001b[39mresult()\n",
      "File \u001b[1;32md:\\Qiskit\\qiskitenv\\lib\\site-packages\\qiskit_ibm_runtime\\sampler.py:112\u001b[0m, in \u001b[0;36mSamplerV2.run\u001b[1;34m(self, pubs, shots)\u001b[0m\n\u001b[0;32m     94\u001b[0m \u001b[38;5;28;01mdef\u001b[39;00m \u001b[38;5;21mrun\u001b[39m(\u001b[38;5;28mself\u001b[39m, pubs: Iterable[SamplerPubLike], \u001b[38;5;241m*\u001b[39m, shots: \u001b[38;5;28mint\u001b[39m \u001b[38;5;241m|\u001b[39m \u001b[38;5;28;01mNone\u001b[39;00m \u001b[38;5;241m=\u001b[39m \u001b[38;5;28;01mNone\u001b[39;00m) \u001b[38;5;241m-\u001b[39m\u001b[38;5;241m>\u001b[39m RuntimeJobV2:\n\u001b[0;32m     95\u001b[0m \u001b[38;5;250m    \u001b[39m\u001b[38;5;124;03m\"\"\"Submit a request to the sampler primitive.\u001b[39;00m\n\u001b[0;32m     96\u001b[0m \n\u001b[0;32m     97\u001b[0m \u001b[38;5;124;03m    Args:\u001b[39;00m\n\u001b[1;32m   (...)\u001b[0m\n\u001b[0;32m    110\u001b[0m \u001b[38;5;124;03m        ValueError: Invalid arguments are given.\u001b[39;00m\n\u001b[0;32m    111\u001b[0m \u001b[38;5;124;03m    \"\"\"\u001b[39;00m\n\u001b[1;32m--> 112\u001b[0m     coerced_pubs \u001b[38;5;241m=\u001b[39m [SamplerPub\u001b[38;5;241m.\u001b[39mcoerce(pub, shots) \u001b[38;5;28;01mfor\u001b[39;00m pub \u001b[38;5;129;01min\u001b[39;00m pubs]\n\u001b[0;32m    114\u001b[0m     \u001b[38;5;28;01mif\u001b[39;00m \u001b[38;5;28many\u001b[39m(\u001b[38;5;28mlen\u001b[39m(pub\u001b[38;5;241m.\u001b[39mcircuit\u001b[38;5;241m.\u001b[39mcregs) \u001b[38;5;241m==\u001b[39m \u001b[38;5;241m0\u001b[39m \u001b[38;5;28;01mfor\u001b[39;00m pub \u001b[38;5;129;01min\u001b[39;00m coerced_pubs):\n\u001b[0;32m    115\u001b[0m         warnings\u001b[38;5;241m.\u001b[39mwarn(\n\u001b[0;32m    116\u001b[0m             \u001b[38;5;124m\"\u001b[39m\u001b[38;5;124mOne of your circuits has no output classical registers and so the result \u001b[39m\u001b[38;5;124m\"\u001b[39m\n\u001b[0;32m    117\u001b[0m             \u001b[38;5;124m\"\u001b[39m\u001b[38;5;124mwill be empty. Did you mean to add measurement instructions?\u001b[39m\u001b[38;5;124m\"\u001b[39m,\n\u001b[0;32m    118\u001b[0m             \u001b[38;5;167;01mUserWarning\u001b[39;00m,\n\u001b[0;32m    119\u001b[0m         )\n",
      "File \u001b[1;32md:\\Qiskit\\qiskitenv\\lib\\site-packages\\qiskit_ibm_runtime\\sampler.py:112\u001b[0m, in \u001b[0;36m<listcomp>\u001b[1;34m(.0)\u001b[0m\n\u001b[0;32m     94\u001b[0m \u001b[38;5;28;01mdef\u001b[39;00m \u001b[38;5;21mrun\u001b[39m(\u001b[38;5;28mself\u001b[39m, pubs: Iterable[SamplerPubLike], \u001b[38;5;241m*\u001b[39m, shots: \u001b[38;5;28mint\u001b[39m \u001b[38;5;241m|\u001b[39m \u001b[38;5;28;01mNone\u001b[39;00m \u001b[38;5;241m=\u001b[39m \u001b[38;5;28;01mNone\u001b[39;00m) \u001b[38;5;241m-\u001b[39m\u001b[38;5;241m>\u001b[39m RuntimeJobV2:\n\u001b[0;32m     95\u001b[0m \u001b[38;5;250m    \u001b[39m\u001b[38;5;124;03m\"\"\"Submit a request to the sampler primitive.\u001b[39;00m\n\u001b[0;32m     96\u001b[0m \n\u001b[0;32m     97\u001b[0m \u001b[38;5;124;03m    Args:\u001b[39;00m\n\u001b[1;32m   (...)\u001b[0m\n\u001b[0;32m    110\u001b[0m \u001b[38;5;124;03m        ValueError: Invalid arguments are given.\u001b[39;00m\n\u001b[0;32m    111\u001b[0m \u001b[38;5;124;03m    \"\"\"\u001b[39;00m\n\u001b[1;32m--> 112\u001b[0m     coerced_pubs \u001b[38;5;241m=\u001b[39m [\u001b[43mSamplerPub\u001b[49m\u001b[38;5;241;43m.\u001b[39;49m\u001b[43mcoerce\u001b[49m\u001b[43m(\u001b[49m\u001b[43mpub\u001b[49m\u001b[43m,\u001b[49m\u001b[43m \u001b[49m\u001b[43mshots\u001b[49m\u001b[43m)\u001b[49m \u001b[38;5;28;01mfor\u001b[39;00m pub \u001b[38;5;129;01min\u001b[39;00m pubs]\n\u001b[0;32m    114\u001b[0m     \u001b[38;5;28;01mif\u001b[39;00m \u001b[38;5;28many\u001b[39m(\u001b[38;5;28mlen\u001b[39m(pub\u001b[38;5;241m.\u001b[39mcircuit\u001b[38;5;241m.\u001b[39mcregs) \u001b[38;5;241m==\u001b[39m \u001b[38;5;241m0\u001b[39m \u001b[38;5;28;01mfor\u001b[39;00m pub \u001b[38;5;129;01min\u001b[39;00m coerced_pubs):\n\u001b[0;32m    115\u001b[0m         warnings\u001b[38;5;241m.\u001b[39mwarn(\n\u001b[0;32m    116\u001b[0m             \u001b[38;5;124m\"\u001b[39m\u001b[38;5;124mOne of your circuits has no output classical registers and so the result \u001b[39m\u001b[38;5;124m\"\u001b[39m\n\u001b[0;32m    117\u001b[0m             \u001b[38;5;124m\"\u001b[39m\u001b[38;5;124mwill be empty. Did you mean to add measurement instructions?\u001b[39m\u001b[38;5;124m\"\u001b[39m,\n\u001b[0;32m    118\u001b[0m             \u001b[38;5;167;01mUserWarning\u001b[39;00m,\n\u001b[0;32m    119\u001b[0m         )\n",
      "File \u001b[1;32md:\\Qiskit\\qiskitenv\\lib\\site-packages\\qiskit\\primitives\\containers\\sampler_pub.py:135\u001b[0m, in \u001b[0;36mSamplerPub.coerce\u001b[1;34m(cls, pub, shots)\u001b[0m\n\u001b[0;32m    133\u001b[0m     \u001b[38;5;28;01mif\u001b[39;00m \u001b[38;5;129;01mnot\u001b[39;00m \u001b[38;5;28misinstance\u001b[39m(values, (BindingsArray, Mapping)):\n\u001b[0;32m    134\u001b[0m         values \u001b[38;5;241m=\u001b[39m {\u001b[38;5;28mtuple\u001b[39m(circuit\u001b[38;5;241m.\u001b[39mparameters): values}\n\u001b[1;32m--> 135\u001b[0m     parameter_values \u001b[38;5;241m=\u001b[39m \u001b[43mBindingsArray\u001b[49m\u001b[38;5;241;43m.\u001b[39;49m\u001b[43mcoerce\u001b[49m\u001b[43m(\u001b[49m\u001b[43mvalues\u001b[49m\u001b[43m)\u001b[49m\n\u001b[0;32m    136\u001b[0m \u001b[38;5;28;01melse\u001b[39;00m:\n\u001b[0;32m    137\u001b[0m     parameter_values \u001b[38;5;241m=\u001b[39m \u001b[38;5;28;01mNone\u001b[39;00m\n",
      "File \u001b[1;32md:\\Qiskit\\qiskitenv\\lib\\site-packages\\qiskit\\primitives\\containers\\bindings_array.py:300\u001b[0m, in \u001b[0;36mBindingsArray.coerce\u001b[1;34m(cls, bindings_array)\u001b[0m\n\u001b[0;32m    298\u001b[0m     bindings_array \u001b[38;5;241m=\u001b[39m \u001b[38;5;28mcls\u001b[39m()\n\u001b[0;32m    299\u001b[0m \u001b[38;5;28;01melif\u001b[39;00m \u001b[38;5;28misinstance\u001b[39m(bindings_array, _Mapping):\n\u001b[1;32m--> 300\u001b[0m     bindings_array \u001b[38;5;241m=\u001b[39m \u001b[38;5;28;43mcls\u001b[39;49m\u001b[43m(\u001b[49m\u001b[43mdata\u001b[49m\u001b[38;5;241;43m=\u001b[39;49m\u001b[43mbindings_array\u001b[49m\u001b[43m)\u001b[49m\n\u001b[0;32m    301\u001b[0m \u001b[38;5;28;01melif\u001b[39;00m \u001b[38;5;28misinstance\u001b[39m(bindings_array, BindingsArray):\n\u001b[0;32m    302\u001b[0m     \u001b[38;5;28;01mreturn\u001b[39;00m bindings_array\n",
      "File \u001b[1;32md:\\Qiskit\\qiskitenv\\lib\\site-packages\\qiskit\\primitives\\containers\\bindings_array.py:130\u001b[0m, in \u001b[0;36mBindingsArray.__init__\u001b[1;34m(self, data, shape)\u001b[0m\n\u001b[0;32m    127\u001b[0m \u001b[38;5;28mself\u001b[39m\u001b[38;5;241m.\u001b[39m_shape \u001b[38;5;241m=\u001b[39m _infer_shape(\u001b[38;5;28mself\u001b[39m\u001b[38;5;241m.\u001b[39m_data) \u001b[38;5;28;01mif\u001b[39;00m shape \u001b[38;5;129;01mis\u001b[39;00m \u001b[38;5;28;01mNone\u001b[39;00m \u001b[38;5;28;01melse\u001b[39;00m shape_tuple(shape)\n\u001b[0;32m    128\u001b[0m \u001b[38;5;28mself\u001b[39m\u001b[38;5;241m.\u001b[39m_num_parameters \u001b[38;5;241m=\u001b[39m \u001b[38;5;28;01mNone\u001b[39;00m\n\u001b[1;32m--> 130\u001b[0m \u001b[38;5;28;43mself\u001b[39;49m\u001b[38;5;241;43m.\u001b[39;49m\u001b[43mvalidate\u001b[49m\u001b[43m(\u001b[49m\u001b[43m)\u001b[49m\n",
      "File \u001b[1;32md:\\Qiskit\\qiskitenv\\lib\\site-packages\\qiskit\\primitives\\containers\\bindings_array.py:312\u001b[0m, in \u001b[0;36mBindingsArray.validate\u001b[1;34m(self)\u001b[0m\n\u001b[0;32m    310\u001b[0m val \u001b[38;5;241m=\u001b[39m \u001b[38;5;28mself\u001b[39m\u001b[38;5;241m.\u001b[39m_data[parameters] \u001b[38;5;241m=\u001b[39m _standardize_shape(val, \u001b[38;5;28mself\u001b[39m\u001b[38;5;241m.\u001b[39m_shape)\n\u001b[0;32m    311\u001b[0m \u001b[38;5;28;01mif\u001b[39;00m \u001b[38;5;28mlen\u001b[39m(parameters) \u001b[38;5;241m!=\u001b[39m val\u001b[38;5;241m.\u001b[39mshape[\u001b[38;5;241m-\u001b[39m\u001b[38;5;241m1\u001b[39m]:\n\u001b[1;32m--> 312\u001b[0m     \u001b[38;5;28;01mraise\u001b[39;00m \u001b[38;5;167;01mValueError\u001b[39;00m(\n\u001b[0;32m    313\u001b[0m         \u001b[38;5;124mf\u001b[39m\u001b[38;5;124m\"\u001b[39m\u001b[38;5;124mLength of \u001b[39m\u001b[38;5;132;01m{\u001b[39;00mparameters\u001b[38;5;132;01m}\u001b[39;00m\u001b[38;5;124m inconsistent with last dimension of \u001b[39m\u001b[38;5;132;01m{\u001b[39;00mval\u001b[38;5;132;01m}\u001b[39;00m\u001b[38;5;124m\"\u001b[39m\n\u001b[0;32m    314\u001b[0m     )\n",
      "\u001b[1;31mValueError\u001b[0m: Length of () inconsistent with last dimension of [0.         0.16534698 0.33069396 0.49604095 0.66138793 0.82673491\n 0.99208189 1.15742887 1.32277585 1.48812284 1.65346982 1.8188168\n 1.98416378 2.14951076 2.31485774 2.48020473 2.64555171 2.81089869\n 2.97624567 3.14159265]"
     ]
    }
   ],
   "source": [
    "pub_par_bell = (isa_par_bell, params)\n",
    "job_par_bell = sampler.run([pub_par_bell], shots=100)\n",
    "result_par_bell = job_par_bell.result()\n",
    "\n"
   ]
  },
  {
   "cell_type": "code",
   "execution_count": null,
   "metadata": {},
   "outputs": [],
   "source": []
  }
 ],
 "metadata": {
  "kernelspec": {
   "display_name": "qiskitenv",
   "language": "python",
   "name": "python3"
  },
  "language_info": {
   "codemirror_mode": {
    "name": "ipython",
    "version": 3
   },
   "file_extension": ".py",
   "mimetype": "text/x-python",
   "name": "python",
   "nbconvert_exporter": "python",
   "pygments_lexer": "ipython3",
   "version": "3.9.13"
  }
 },
 "nbformat": 4,
 "nbformat_minor": 2
}
