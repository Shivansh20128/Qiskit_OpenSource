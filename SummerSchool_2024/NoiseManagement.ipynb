{
 "cells": [
  {
   "cell_type": "code",
   "execution_count": 2,
   "metadata": {},
   "outputs": [],
   "source": [
    "from qiskit_ibm_runtime import QiskitRuntimeService, SamplerV2, EstimatorV2"
   ]
  },
  {
   "cell_type": "code",
   "execution_count": 3,
   "metadata": {},
   "outputs": [],
   "source": [
    "service = QiskitRuntimeService()\n",
    "backend = service.get_backend(\"ibm_brisbane\")"
   ]
  },
  {
   "cell_type": "code",
   "execution_count": 4,
   "metadata": {},
   "outputs": [],
   "source": [
    "sampler = SamplerV2(backend, options=None)\n",
    "estimator = EstimatorV2(backend, options=None)\n",
    "\n"
   ]
  },
  {
   "cell_type": "code",
   "execution_count": 5,
   "metadata": {},
   "outputs": [],
   "source": [
    "estimator.options.default_shots = sampler.options.default_shots = 1024\n",
    "estimator.options.optimization_level = 0\n",
    "estimator.options.resilience_level=0"
   ]
  },
  {
   "cell_type": "code",
   "execution_count": null,
   "metadata": {},
   "outputs": [],
   "source": [
    "from qiskit_ibm_runtime import SamplerOptions, EstimatorOptions\n",
    "\n",
    "options = SamplerOptions(default_shots = 1024)\n",
    "#  or\n",
    "options = EstimatorOptions(default_shots=1024, optimization_level=0, resilience_level=0)\n",
    "\n",
    "options.dynamical_decoupling.enable=True\n",
    "options.dynamical_decoupling.sequence_type='XX'     \n",
    "options.dynamical_decoupling.extra_slack_distribution='middle'    #in the middle of the time slot\n",
    "options.dynamical_decoupling.scheduling_method='alap'    #as late as possible\n"
   ]
  }
 ],
 "metadata": {
  "kernelspec": {
   "display_name": "qiskitenv",
   "language": "python",
   "name": "python3"
  },
  "language_info": {
   "codemirror_mode": {
    "name": "ipython",
    "version": 3
   },
   "file_extension": ".py",
   "mimetype": "text/x-python",
   "name": "python",
   "nbconvert_exporter": "python",
   "pygments_lexer": "ipython3",
   "version": "3.9.13"
  }
 },
 "nbformat": 4,
 "nbformat_minor": 2
}
