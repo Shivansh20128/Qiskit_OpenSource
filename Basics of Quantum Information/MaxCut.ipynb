{
 "cells": [
  {
   "cell_type": "code",
   "execution_count": 1,
   "metadata": {},
   "outputs": [
    {
     "data": {
      "text/plain": [
       "<qiskit.circuit.instructionset.InstructionSet at 0x1fb0e3daee0>"
      ]
     },
     "execution_count": 1,
     "metadata": {},
     "output_type": "execute_result"
    }
   ],
   "source": [
    "import numpy as np\n",
    "from qiskit import QuantumCircuit\n",
    "\n",
    "qc_example = QuantumCircuit(3)\n",
    "qc_example.h(0)\n",
    "qc_example.p( np.pi/2,0)  #adding quantum phase\n",
    "qc_example.cx(0,1)\n",
    "qc_example.cx(0,2)"
   ]
  },
  {
   "cell_type": "code",
   "execution_count": 2,
   "metadata": {},
   "outputs": [
    {
     "data": {
      "text/plain": [
       "<qiskit.circuit.instructionset.InstructionSet at 0x1fb0e3da8e0>"
      ]
     },
     "execution_count": 2,
     "metadata": {},
     "output_type": "execute_result"
    }
   ],
   "source": [
    "qc_example2 = QuantumCircuit(3)\n",
    "qc_example2.h(0)\n",
    "qc_example2.cx(0,1)\n",
    "qc_example2.cx(0,2)"
   ]
  },
  {
   "cell_type": "code",
   "execution_count": 3,
   "metadata": {},
   "outputs": [
    {
     "name": "stdout",
     "output_type": "stream",
     "text": [
      " > Quasi Probability distribution: [{0: 0.48, 7: 0.52}]\n"
     ]
    }
   ],
   "source": [
    "# Add the classical output in the form of measurement of all qubits\n",
    "qc_measured = qc_example.measure_all(inplace=False)\n",
    "\n",
    "# Execute using sampler\n",
    "from qiskit.primitives.sampler import Sampler\n",
    "sampler = Sampler()\n",
    "job=sampler.run(qc_measured,shots=1000)\n",
    "result = job.result()\n",
    "\n",
    "print(f\" > Quasi Probability distribution: {result.quasi_dists}\")"
   ]
  },
  {
   "cell_type": "code",
   "execution_count": 4,
   "metadata": {},
   "outputs": [
    {
     "name": "stdout",
     "output_type": "stream",
     "text": [
      " > Quasi Probability distribution: [{0: 0.507, 7: 0.493}]\n"
     ]
    }
   ],
   "source": [
    "# Add the classical output in the form of measurement of all qubits\n",
    "qc_measured2 = qc_example2.measure_all(inplace=False)\n",
    "\n",
    "# Execute using sampler\n",
    "from qiskit.primitives.sampler import Sampler\n",
    "sampler = Sampler()\n",
    "job=sampler.run(qc_measured2,shots=1000)\n",
    "result = job.result()\n",
    "\n",
    "print(f\" > Quasi Probability distribution: {result.quasi_dists}\")"
   ]
  },
  {
   "cell_type": "markdown",
   "metadata": {},
   "source": [
    "Now will we see Estimator"
   ]
  },
  {
   "cell_type": "code",
   "execution_count": 5,
   "metadata": {},
   "outputs": [
    {
     "name": "stdout",
     "output_type": "stream",
     "text": [
      " > Expectation values: [4.]\n"
     ]
    }
   ],
   "source": [
    "# Define the observable\n",
    "from qiskit.quantum_info import SparsePauliOp\n",
    "operator = SparsePauliOp.from_list([(\"XXY\", 1), (\"XYX\", 1), (\"YXX\", 1), (\"YYY\", -1)])\n",
    "\n",
    "from qiskit.primitives.estimator import Estimator\n",
    "estimator = Estimator()\n",
    "job = estimator.run(qc_example, operator, shots=1000)\n",
    "result = job.result()\n",
    "print(f\" > Expectation values: {result.values}\")"
   ]
  },
  {
   "cell_type": "code",
   "execution_count": 6,
   "metadata": {},
   "outputs": [],
   "source": [
    "from qiskit import transpile\n",
    "qc_transpiled = transpile(qc_example, basis_gates=['cz', 'sx', 'rz'], coupling_map=[[0,1],[1,2]], optimization_level=3)"
   ]
  },
  {
   "cell_type": "code",
   "execution_count": null,
   "metadata": {},
   "outputs": [],
   "source": []
  }
 ],
 "metadata": {
  "kernelspec": {
   "display_name": "qiskitenv",
   "language": "python",
   "name": "python3"
  },
  "language_info": {
   "codemirror_mode": {
    "name": "ipython",
    "version": 3
   },
   "file_extension": ".py",
   "mimetype": "text/x-python",
   "name": "python",
   "nbconvert_exporter": "python",
   "pygments_lexer": "ipython3",
   "version": "3.9.13"
  }
 },
 "nbformat": 4,
 "nbformat_minor": 2
}
