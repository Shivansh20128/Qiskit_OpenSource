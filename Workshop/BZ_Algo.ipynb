{
 "cells": [
  {
   "cell_type": "markdown",
   "id": "8a533677",
   "metadata": {
    "tags": []
   },
   "source": [
    "# Bernstein-Vazirani"
   ]
  },
  {
   "cell_type": "code",
   "execution_count": 1,
   "id": "bb529d8f",
   "metadata": {},
   "outputs": [],
   "source": [
    "### For people using Google-colab un-comment this cell and run it!\n",
    "#!pip install qiskit\n",
    "#!pip install qiskit_aer\n",
    "#!pip install qiskit[visualization]\n",
    "#!pip install qiskit-ibm-runtime"
   ]
  },
  {
   "cell_type": "markdown",
   "id": "44205c1e-e76f-4390-a73c-db8af35d8373",
   "metadata": {},
   "source": [
    "###  Importing the required libraries"
   ]
  },
  {
   "cell_type": "code",
   "execution_count": 2,
   "id": "b9e61404-c9c1-4582-bf4f-0fcfb5ad0861",
   "metadata": {},
   "outputs": [],
   "source": [
    "from qiskit import QuantumCircuit\n",
    "import numpy as np\n",
    "from qiskit import *\n",
    "# %config InlineBackend.figure_format='retina'"
   ]
  },
  {
   "cell_type": "markdown",
   "id": "e863ea74-249e-45d2-9e5e-007200606b3c",
   "metadata": {},
   "source": [
    "# Part II: Getting Started with Qiskit Runtime"
   ]
  },
  {
   "cell_type": "markdown",
   "id": "c72f9aec-de6a-4668-8de6-da61c8c378c1",
   "metadata": {},
   "source": [
    "We shall get started with Qiskit Runtime. Qiskit Runtime is already installed and setup for you in the IBM Quantum Lab instance of the IBM Quantum Challenge you are in.\n",
    "\n",
    "If you are running on your local systems, you may need to install Qiskit Runtime packages which can be dones uing: `pip install qiskit-ibm-runtime`. If you have navigated to the IBM Quantum Lab throught the IBM Quantum Challenge portal, then everything should already be setup for you.\n",
    "\n",
    "To start off, the first thing to do here is to define `QiskitRuntimeService` instance to run the program on. We can use this to call the currently available two primitives as needed; `Sampler` and `Estimator` and run them on Qiskit Runtime. "
   ]
  },
  {
   "cell_type": "code",
   "execution_count": 3,
   "id": "a08d9314",
   "metadata": {},
   "outputs": [],
   "source": []
  },
  {
   "cell_type": "markdown",
   "id": "e1a8f7ea-5967-404f-ab43-3675a4c0c10a",
   "metadata": {},
   "source": [
    "The block below saves your Runtime account credentials for your current environment. The `channel` keyword argument lets the Runtime know whether you are using the regular IBM Quantum (`channel='ibm_quantum'`) or IBM Cloud (`channel='ibm_cloud'`). We will be using the `ibm_quantum` channel for all our runs. This cell can be run just once and your credentials should be saved for that environment. And for the `token` keyword argument, your API token value is found in this link: **[quantum-computing.ibm.com/account](https://quantum-computing.ibm.com/account)**.\n",
    "\n",
    "If you are on the IBM Quantum Lab, you can simply call the `QiskitRuntimeService` with just the channel in your subsequent runs."
   ]
  },
  {
   "cell_type": "code",
   "execution_count": 4,
   "id": "b9ffbb87-f5a5-453c-892e-d870f8bd7297",
   "metadata": {},
   "outputs": [],
   "source": [
    "# Save the Runtime account credentials if you have not done so already\n",
    "# If you need to overwrite the account info, please add `overwrite=True`\n",
    "# QiskitRuntimeService.save_account(channel='ibm_quantum', token='my_token', overwrite=True)"
   ]
  },
  {
   "cell_type": "code",
   "execution_count": 5,
   "id": "0bf9aa54-94ec-4497-baac-3407d26a595f",
   "metadata": {
    "tags": []
   },
   "outputs": [],
   "source": [
    "# service = QiskitRuntimeService(channel='ibm_quantum')"
   ]
  },
  {
   "cell_type": "markdown",
   "id": "26b7d75e-ebed-49bc-9e31-3d570dd2242d",
   "metadata": {},
   "source": [
    "Now that your service is setup, the service allows you to view all the backends that you have access to. Let's run the command below to display all the available backends that can utilize Qiskit Runtime."
   ]
  },
  {
   "cell_type": "code",
   "execution_count": 6,
   "id": "37f4ac11-f69d-4d2b-acd6-86230ffdd2b2",
   "metadata": {},
   "outputs": [],
   "source": [
    "# service.backends()"
   ]
  },
  {
   "cell_type": "markdown",
   "id": "b9005172-89b5-41f3-b391-781c38951a76",
   "metadata": {
    "tags": []
   },
   "source": [
    "# Example using Sampler"
   ]
  },
  {
   "cell_type": "markdown",
   "id": "b88b9d10-6cf6-4723-b33b-1e0494efed12",
   "metadata": {
    "tags": []
   },
   "source": [
    "### Bernstein-Vazirani algorithm\n",
    "\n",
    "This algorithm is one of special quantum algorithms which showed that there can be advantages in using a quantum computer as a computational tool for more complex problems.\n",
    "\n",
    "There is a function returning the bitwise product of the input with a hidden string of bits $ s $. Its length is $ n $.\n",
    "\n",
    "$$ f(x) = s ⋅ x (\\mathrm{mod} 2) $$\n",
    "\n",
    "To find the hidden string, we would need to call the function $f$ for $ n $ times. However, using a quantum computer, we can solve this problem with 100% confidence after **only one call** to the function . The quantum Bernstein-Vazirani algorithm to find the hidden bit string is very simple:\n",
    "\n",
    "1. Initialize the inputs qubits to the state $|0\\rangle^{\\otimes n}$, and output qubit to $|-\\rangle$.\n",
    "2. Apply Hadamard gates to the input register\n",
    "3. Query the oracle\n",
    "4. Apply Hadamard gates to the input register\n",
    "5. Measure\n",
    "\n",
    "For more in detailed information about the Bernstein-Vazirani algorithm, feel free to check out this helpful chapter in the Qiskit textbook: **https://learn.qiskit.org/course/ch-algorithms/bernstein-vazirani-algorithm**. Or you may refer Ep. 6 of Coding with Qiskit Season 1 in Qiskit Youtube: **[Bernstein-Vazirani Algorithm](https://youtu.be/sqJIpHYl7oo)**.\n",
    "\n",
    "In the below, there is an example for the Bernstein Vazirani algorithm to find the hidden bit string \"001\"."
   ]
  },
  {
   "cell_type": "code",
   "execution_count": 7,
   "id": "c4c73a73-965c-40fb-a710-a890b40c9f8b",
   "metadata": {},
   "outputs": [
    {
     "name": "stdout",
     "output_type": "stream",
     "text": [
      "3\n"
     ]
    }
   ],
   "source": [
    "hidden = \"001\"\n",
    "print(len(hidden))"
   ]
  },
  {
   "cell_type": "markdown",
   "id": "4ad9114a-cfd5-43de-9319-263fae1ca9ba",
   "metadata": {},
   "source": [
    "For this hidden string, we need 3 input qubits and 1 output qubit."
   ]
  },
  {
   "cell_type": "code",
   "execution_count": 8,
   "id": "43b61779-5c84-4026-afde-dd24bffa0515",
   "metadata": {},
   "outputs": [
    {
     "data": {
      "image/png": "[encoded data removed]",
      "text/plain": [
       "<Figure size 162.08x451.5 with 1 Axes>"
      ]
     },
     "metadata": {},
     "output_type": "display_data"
    }
   ],
   "source": [
    "# Make a quantum circuit\n",
    "qc = QuantumCircuit(4, 3)\n",
    "display(qc.draw(output=\"mpl\"))"
   ]
  },
  {
   "cell_type": "markdown",
   "id": "03f0b1e9-3891-4556-a6c3-d3d48b81e14e",
   "metadata": {},
   "source": [
    "Step 1. Initialize the inputs qubits to the state $|0\\rangle^{\\otimes n}$, and output qubit to $|-\\rangle$.\n",
    "\n",
    "At first every qubit is initialized as $|0\\rangle$ so we don't have to apply any gate for input qubits. However, the output qubit state should be changed as $|-\\rangle$. For it, we will apply X-gate and then H-gate (Hadamard gate)."
   ]
  },
  {
   "cell_type": "code",
   "execution_count": 9,
   "id": "e972546d-7945-48b1-a0c8-64be4211afe4",
   "metadata": {},
   "outputs": [
    {
     "data": {
      "image/png": "[encoded data removed]",
      "text/plain": [
       "<Figure size 287.496x451.5 with 1 Axes>"
      ]
     },
     "metadata": {},
     "output_type": "display_data"
    }
   ],
   "source": [
    "qc.x(3)\n",
    "qc.h(3)\n",
    "display(qc.draw(output=\"mpl\"))"
   ]
  },
  {
   "cell_type": "markdown",
   "id": "749bd8b3-f80e-4405-ac8a-e4d8ce1e3f35",
   "metadata": {},
   "source": [
    "Step 2. Apply Hadamard gates to the input register.\n",
    "\n",
    "We will apply Hadamard gates to each input qubit."
   ]
  },
  {
   "cell_type": "code",
   "execution_count": 10,
   "id": "05a42af6-1c97-463a-b0df-e12622bb360a",
   "metadata": {},
   "outputs": [
    {
     "data": {
      "image/png": "[encoded data removed]",
      "text/plain": [
       "<Figure size 287.496x451.5 with 1 Axes>"
      ]
     },
     "metadata": {},
     "output_type": "display_data"
    }
   ],
   "source": [
    "qc.h(0)\n",
    "qc.h(1)\n",
    "qc.h(2)\n",
    "display(qc.draw(output=\"mpl\"))"
   ]
  },
  {
   "cell_type": "markdown",
   "id": "3dbfb8d2-3da8-4567-9e64-d7e10b650c4a",
   "metadata": {},
   "source": [
    "Step 3. Query the oracle.\n",
    "\n",
    "We will use CNOT gate to query the oracle. As our hidden circuit is \"001\", we will apply CNOT gate to qubit 0 and the output gate. Note: In Qiskit, numbers are assigned to the bits in a string **from right to left**."
   ]
  },
  {
   "cell_type": "code",
   "execution_count": 11,
   "id": "620eaa24-860c-42dc-93b0-14a58ed1ff21",
   "metadata": {},
   "outputs": [
    {
     "data": {
      "image/png": "[encoded data removed]",
      "text/plain": [
       "<Figure size 371.107x451.5 with 1 Axes>"
      ]
     },
     "metadata": {},
     "output_type": "display_data"
    }
   ],
   "source": [
    "qc.cx(0,3)\n",
    "display(qc.draw(output=\"mpl\"))"
   ]
  },
  {
   "cell_type": "markdown",
   "id": "4ecb4a1c-4a2a-4de0-81b4-486819305665",
   "metadata": {},
   "source": [
    "Step 4. Apply Hadamard gates to the input register.\n",
    "\n",
    "We will apply Hadamard gates to each input qubit again."
   ]
  },
  {
   "cell_type": "code",
   "execution_count": 12,
   "id": "ca75b927-0cb5-477d-a530-0b5fc0ce5001",
   "metadata": {},
   "outputs": [
    {
     "data": {
      "image/png": "[encoded data removed]",
      "text/plain": [
       "<Figure size 538.33x451.5 with 1 Axes>"
      ]
     },
     "metadata": {},
     "output_type": "display_data"
    }
   ],
   "source": [
    "qc.barrier()\n",
    "qc.h(0)\n",
    "qc.h(1)\n",
    "qc.h(2)\n",
    "display(qc.draw(output=\"mpl\"))"
   ]
  },
  {
   "cell_type": "markdown",
   "id": "1b7d1e11-f6b0-41df-a974-56b83b140b2b",
   "metadata": {},
   "source": [
    "Step 5. Measure.\n",
    "\n",
    "We will measure all the input qubits with [`measure`](https://qiskit.org/documentation/stubs/qiskit.circuit.QuantumCircuit.measure.html) method."
   ]
  },
  {
   "cell_type": "code",
   "execution_count": 13,
   "id": "1ab053c0-7c10-41ba-8dd8-0cf37109e6c2",
   "metadata": {},
   "outputs": [
    {
     "data": {
      "image/png": "[encoded data removed]",
      "text/plain": [
       "<Figure size 789.163x451.5 with 1 Axes>"
      ]
     },
     "metadata": {},
     "output_type": "display_data"
    }
   ],
   "source": [
    "qc.measure(range(3), range(3))\n",
    "display(qc.draw(output=\"mpl\"))"
   ]
  },
  {
   "cell_type": "markdown",
   "id": "cc23d50c-3b3a-4d1f-9fcb-2f991de384ed",
   "metadata": {},
   "source": [
    "The circuit is ready to run on the simulator. You can check the result by running the cell below."
   ]
  },
  {
   "cell_type": "code",
   "execution_count": 14,
   "id": "8edb2cbb-fa51-434d-aeff-08a9e3cdf1c9",
   "metadata": {},
   "outputs": [
    {
     "data": {
      "text/plain": [
       "{'001': 1024}"
      ]
     },
     "execution_count": 14,
     "metadata": {},
     "output_type": "execute_result"
    }
   ],
   "source": [
    "# Use local simulator\n",
    "from qiskit_aer import QasmSimulator\n",
    "\n",
    "shots = 1024\n",
    "qasm_backend = QasmSimulator()\n",
    "results = qasm_backend.run(circuits= qc, shots = shots).result()\n",
    "results.get_counts()\n"
   ]
  },
  {
   "cell_type": "markdown",
   "id": "f0e29324-ae44-4bdb-8a9d-8e7a123a061c",
   "metadata": {},
   "source": [
    "If you see the result, you can see the hidden string \"001\" which we set at very first."
   ]
  },
  {
   "cell_type": "markdown",
   "id": "6ca08509-d58a-4f86-9ac7-a74e2df1d5b1",
   "metadata": {},
   "source": [
    "<a id=\"exercise1\"></a>\n",
    "<div class=\"alert alert-block alert-success\">\n",
    "    \n",
    "<b> Exercise 1:</b> \n",
    "    \n",
    "Let us build the Bernstein Vazirani function.\n",
    "Note that there is only one parameter which will be a hidden string.\n",
    "This string consists of \"0\" and \"1\".\n",
    "In the below code block, you should build a function which works well in all general strings\n",
    "to pass the grader.\n",
    "    \n",
    "</div>"
   ]
  },
  {
   "cell_type": "code",
   "execution_count": 49,
   "id": "a7709c81-9b7a-4b86-adf3-7d4e55cc3714",
   "metadata": {},
   "outputs": [],
   "source": [
    "def bernstein_vazirani(string):\n",
    "    #Write your code here!    \n",
    "    # Save the length of string\n",
    "    l = len(string)\n",
    "    print(l) \n",
    "    bv = QuantumCircuit(l+1, l)\n",
    "    bv.h(range(l))\n",
    "    bv.x(l)\n",
    "    bv.h(l)\n",
    "    for i in range(l):\n",
    "        if(string[l-i-1]=='1'):\n",
    "            bv.cx(i,l)\n",
    "    bv.barrier()\n",
    "    bv.h(range(l))\n",
    "    bv.measure(range(l), range(l))\n",
    "    return bv"
   ]
  },
  {
   "cell_type": "code",
   "execution_count": 50,
   "id": "93d96139",
   "metadata": {},
   "outputs": [
    {
     "name": "stdout",
     "output_type": "stream",
     "text": [
      "3\n"
     ]
    },
    {
     "data": {
      "image/png": "[encoded data removed]",
      "text/plain": [
       "<Figure size 789.163x451.5 with 1 Axes>"
      ]
     },
     "execution_count": 50,
     "metadata": {},
     "output_type": "execute_result"
    }
   ],
   "source": [
    "bernstein_vazirani('001').draw('mpl')"
   ]
  },
  {
   "cell_type": "markdown",
   "id": "11db2886",
   "metadata": {},
   "source": [
    "Now, we shall call the function above to construct a Bernstein-Vazirani circuit as defined:"
   ]
  },
  {
   "cell_type": "code",
   "execution_count": 51,
   "id": "9b375a0e",
   "metadata": {},
   "outputs": [
    {
     "name": "stdout",
     "output_type": "stream",
     "text": [
      "4\n"
     ]
    },
    {
     "data": {
      "image/png": "[encoded data removed]",
      "text/plain": [
       "<Figure size 1040x535.111 with 1 Axes>"
      ]
     },
     "execution_count": 51,
     "metadata": {},
     "output_type": "execute_result"
    }
   ],
   "source": [
    "# Submit your answer using following code\n",
    "hidden_string = '1011'\n",
    "qc_bz  =bernstein_vazirani(hidden_string)\n",
    "qc_bz.draw('mpl')"
   ]
  },
  {
   "cell_type": "code",
   "execution_count": 52,
   "id": "f2db275d",
   "metadata": {},
   "outputs": [
    {
     "data": {
      "text/plain": [
       "{'1011': 1024}"
      ]
     },
     "execution_count": 52,
     "metadata": {},
     "output_type": "execute_result"
    }
   ],
   "source": [
    "sim_result = qasm_backend.run(qc_bz).result()\n",
    "sim_result.get_counts()"
   ]
  },
  {
   "cell_type": "code",
   "execution_count": 53,
   "id": "e9de4f5e",
   "metadata": {},
   "outputs": [
    {
     "name": "stdout",
     "output_type": "stream",
     "text": [
      "The hidden key is: 1011\n"
     ]
    }
   ],
   "source": [
    "print('The hidden key is:',list(sim_result.get_counts().keys())[0])"
   ]
  },
  {
   "cell_type": "markdown",
   "id": "5fa79c90",
   "metadata": {},
   "source": [
    "# Deutsch-Jozsa Algorithm\n",
    "\n",
    "- To implement the Deutsch-Jozsa algorithm in Qiskit, we'll start by generating a quantum circuit.\n",
    "- That implements a query operation for a randomly selected function that satisfies the promise: with 50% chance the function is constant, and with 50% change the function is balanced. \n",
    "- For each possibility, the function is selected uniformly from the possibilities.\n"
   ]
  },
  {
   "cell_type": "code",
   "execution_count": 20,
   "id": "e2afd303",
   "metadata": {},
   "outputs": [],
   "source": [
    "from qiskit import QuantumCircuit\n",
    "\n",
    "def dj_function(num_qubits):\n",
    "    \"\"\"\n",
    "    Create a random Deutsch-Jozsa function.\n",
    "    \"\"\"\n",
    "\n",
    "    qc = QuantumCircuit(num_qubits + 1)\n",
    "    if np.random.randint(0, 2):\n",
    "        # Flip output qubit with 50% chance\n",
    "        qc.x(num_qubits)\n",
    "    if np.random.randint(0, 2):\n",
    "        # return constant circuit with 50% chance\n",
    "        return qc\n",
    "\n",
    "    # next, choose half the possible input states\n",
    "    on_states = np.random.choice(\n",
    "        range(2**num_qubits),  # numbers to sample from\n",
    "        2**num_qubits // 2,  # number of samples\n",
    "        replace=False,  # makes sure states are only sampled once\n",
    "    )\n",
    "\n",
    "    def add_cx(qc, bit_string):\n",
    "        for qubit, bit in enumerate(reversed(bit_string)):\n",
    "            if bit == \"1\":\n",
    "                qc.x(qubit)\n",
    "        return qc\n",
    "\n",
    "    for state in on_states:\n",
    "        qc.barrier()  # Barriers are added to help visualize how the functions are created. They can safely be removed.\n",
    "        qc = add_cx(qc, f\"{state:0b}\")\n",
    "        qc.mcx(list(range(num_qubits)), num_qubits)\n",
    "        qc = add_cx(qc, f\"{state:0b}\")\n",
    "\n",
    "    qc.barrier()\n",
    "\n",
    "    return qc"
   ]
  },
  {
   "cell_type": "markdown",
   "id": "2582a4ec",
   "metadata": {},
   "source": [
    "We can show the quantum circuit implementation of the query gate using the draw method."
   ]
  },
  {
   "cell_type": "code",
   "execution_count": 21,
   "id": "99b23e6b",
   "metadata": {},
   "outputs": [
    {
     "data": {
      "text/html": [
       "<pre style=\"word-wrap: normal;white-space: pre;background: #fff0;line-height: 1.1;font-family: &quot;Courier New&quot;,Courier,monospace\">      ░                 ░ ┌───┐     ┌───┐ ░ ┌───┐     ┌───┐ ░ ┌───┐     ┌───┐»\n",
       "q_0: ─░────────■────────░─┤ X ├──■──┤ X ├─░─┤ X ├──■──┤ X ├─░─┤ X ├──■──┤ X ├»\n",
       "      ░        │        ░ ├───┤  │  ├───┤ ░ ├───┤  │  ├───┤ ░ └───┘  │  └───┘»\n",
       "q_1: ─░────────■────────░─┤ X ├──■──┤ X ├─░─┤ X ├──■──┤ X ├─░────────■───────»\n",
       "      ░ ┌───┐  │  ┌───┐ ░ └───┘  │  └───┘ ░ ├───┤  │  ├───┤ ░        │       »\n",
       "q_2: ─░─┤ X ├──■──┤ X ├─░────────■────────░─┤ X ├──■──┤ X ├─░────────■───────»\n",
       "      ░ └───┘┌─┴─┐└───┘ ░      ┌─┴─┐      ░ └───┘┌─┴─┐└───┘ ░      ┌─┴─┐     »\n",
       "q_3: ─░──────┤ X ├──────░──────┤ X ├──────░──────┤ X ├──────░──────┤ X ├─────»\n",
       "      ░      └───┘      ░      └───┘      ░      └───┘      ░      └───┘     »\n",
       "«      ░ \n",
       "«q_0: ─░─\n",
       "«      ░ \n",
       "«q_1: ─░─\n",
       "«      ░ \n",
       "«q_2: ─░─\n",
       "«      ░ \n",
       "«q_3: ─░─\n",
       "«      ░ </pre>"
      ],
      "text/plain": [
       "      ░                 ░ ┌───┐     ┌───┐ ░ ┌───┐     ┌───┐ ░ ┌───┐     ┌───┐»\n",
       "q_0: ─░────────■────────░─┤ X ├──■──┤ X ├─░─┤ X ├──■──┤ X ├─░─┤ X ├──■──┤ X ├»\n",
       "      ░        │        ░ ├───┤  │  ├───┤ ░ ├───┤  │  ├───┤ ░ └───┘  │  └───┘»\n",
       "q_1: ─░────────■────────░─┤ X ├──■──┤ X ├─░─┤ X ├──■──┤ X ├─░────────■───────»\n",
       "      ░ ┌───┐  │  ┌───┐ ░ └───┘  │  └───┘ ░ ├───┤  │  ├───┤ ░        │       »\n",
       "q_2: ─░─┤ X ├──■──┤ X ├─░────────■────────░─┤ X ├──■──┤ X ├─░────────■───────»\n",
       "      ░ └───┘┌─┴─┐└───┘ ░      ┌─┴─┐      ░ └───┘┌─┴─┐└───┘ ░      ┌─┴─┐     »\n",
       "q_3: ─░──────┤ X ├──────░──────┤ X ├──────░──────┤ X ├──────░──────┤ X ├─────»\n",
       "      ░      └───┘      ░      └───┘      ░      └───┘      ░      └───┘     »\n",
       "«      ░ \n",
       "«q_0: ─░─\n",
       "«      ░ \n",
       "«q_1: ─░─\n",
       "«      ░ \n",
       "«q_2: ─░─\n",
       "«      ░ \n",
       "«q_3: ─░─\n",
       "«      ░ "
      ]
     },
     "metadata": {},
     "output_type": "display_data"
    }
   ],
   "source": [
    "display(dj_function(3).draw())"
   ]
  },
  {
   "cell_type": "code",
   "execution_count": 22,
   "id": "820f3667",
   "metadata": {},
   "outputs": [],
   "source": [
    "def compile_circuit(function: QuantumCircuit):\n",
    "    \"\"\"\n",
    "    Compiles a circuit for use in the Deutsch-Jozsa algorithm.\n",
    "    \"\"\"\n",
    "    n = function.num_qubits - 1\n",
    "    qc = QuantumCircuit(n + 1, n)\n",
    "    qc.x(n)\n",
    "    qc.h(range(n + 1))\n",
    "    qc.compose(function, inplace=True)\n",
    "    qc.h(range(n))\n",
    "    qc.measure(range(n), range(n))\n",
    "    return qc"
   ]
  },
  {
   "cell_type": "markdown",
   "id": "6999a27b",
   "metadata": {},
   "source": [
    "Finally, a function that runs the Deutsch-Jozsa circuit once is defined.\n",
    "\n"
   ]
  },
  {
   "cell_type": "code",
   "execution_count": 23,
   "id": "ff0c5e9e",
   "metadata": {},
   "outputs": [],
   "source": [
    "from qiskit_aer import AerSimulator\n",
    "\n",
    "def dj_algorithm(function: QuantumCircuit):\n",
    "    \"\"\"\n",
    "    Determine if a Deutsch-Jozsa function is constant or balanced.\n",
    "    \"\"\"\n",
    "    qc = compile_circuit(function)\n",
    "\n",
    "    result = AerSimulator().run(qc, shots=1, memory=True).result()\n",
    "    measurements = result.get_memory()\n",
    "    if \"1\" in measurements[0]:\n",
    "        return \"balanced\"\n",
    "    return \"constant\""
   ]
  },
  {
   "cell_type": "code",
   "execution_count": 24,
   "id": "bd23e892",
   "metadata": {},
   "outputs": [
    {
     "data": {
      "text/html": [
       "<pre style=\"word-wrap: normal;white-space: pre;background: #fff0;line-height: 1.1;font-family: &quot;Courier New&quot;,Courier,monospace\">      ░       ░ ┌───┐     ┌───┐ ░                 ░ ┌───┐     ┌───┐ ░ \n",
       "q_0: ─░───■───░─┤ X ├──■──┤ X ├─░────────■────────░─┤ X ├──■──┤ X ├─░─\n",
       "      ░   │   ░ └───┘  │  └───┘ ░ ┌───┐  │  ┌───┐ ░ ├───┤  │  ├───┤ ░ \n",
       "q_1: ─░───■───░────────■────────░─┤ X ├──■──┤ X ├─░─┤ X ├──■──┤ X ├─░─\n",
       "      ░   │   ░ ┌───┐  │  ┌───┐ ░ └───┘  │  └───┘ ░ └───┘  │  └───┘ ░ \n",
       "q_2: ─░───■───░─┤ X ├──■──┤ X ├─░────────■────────░────────■────────░─\n",
       "      ░ ┌─┴─┐ ░ └───┘┌─┴─┐└───┘ ░      ┌─┴─┐      ░      ┌─┴─┐      ░ \n",
       "q_3: ─░─┤ X ├─░──────┤ X ├──────░──────┤ X ├──────░──────┤ X ├──────░─\n",
       "      ░ └───┘ ░      └───┘      ░      └───┘      ░      └───┘      ░ </pre>"
      ],
      "text/plain": [
       "      ░       ░ ┌───┐     ┌───┐ ░                 ░ ┌───┐     ┌───┐ ░ \n",
       "q_0: ─░───■───░─┤ X ├──■──┤ X ├─░────────■────────░─┤ X ├──■──┤ X ├─░─\n",
       "      ░   │   ░ └───┘  │  └───┘ ░ ┌───┐  │  ┌───┐ ░ ├───┤  │  ├───┤ ░ \n",
       "q_1: ─░───■───░────────■────────░─┤ X ├──■──┤ X ├─░─┤ X ├──■──┤ X ├─░─\n",
       "      ░   │   ░ ┌───┐  │  ┌───┐ ░ └───┘  │  └───┘ ░ └───┘  │  └───┘ ░ \n",
       "q_2: ─░───■───░─┤ X ├──■──┤ X ├─░────────■────────░────────■────────░─\n",
       "      ░ ┌─┴─┐ ░ └───┘┌─┴─┐└───┘ ░      ┌─┴─┐      ░      ┌─┴─┐      ░ \n",
       "q_3: ─░─┤ X ├─░──────┤ X ├──────░──────┤ X ├──────░──────┤ X ├──────░─\n",
       "      ░ └───┘ ░      └───┘      ░      └───┘      ░      └───┘      ░ "
      ]
     },
     "metadata": {},
     "output_type": "display_data"
    },
    {
     "data": {
      "text/plain": [
       "'balanced'"
      ]
     },
     "metadata": {},
     "output_type": "display_data"
    }
   ],
   "source": [
    "f = dj_function(3)\n",
    "display(f.draw())\n",
    "display(dj_algorithm(f))"
   ]
  },
  {
   "cell_type": "markdown",
   "id": "95055945",
   "metadata": {},
   "source": [
    "# Additional information\n",
    "\n",
    "<b>Created by:</b> Dayeong Kang, Yuri Kobayashi, Vishal Bajpe, Kifumi Numata\n",
    "\n",
    "\n",
    "<b>Advisor:</b> Ikko Hanamura\n",
    "<b>Presented by:</b> Sumit\n",
    "<b>Creative assets by:</b> Radha Pyari Sandhir\n",
    "\n",
    "Version: 1.0"
   ]
  },
  {
   "cell_type": "code",
   "execution_count": 25,
   "id": "cacb1fac",
   "metadata": {},
   "outputs": [
    {
     "data": {
      "text/plain": [
       "'1.1.0'"
      ]
     },
     "execution_count": 25,
     "metadata": {},
     "output_type": "execute_result"
    }
   ],
   "source": [
    "import qiskit \n",
    "qiskit.__version__"
   ]
  },
  {
   "cell_type": "code",
   "execution_count": null,
   "id": "785a7732",
   "metadata": {},
   "outputs": [],
   "source": []
  }
 ],
 "metadata": {
  "kernelspec": {
   "display_name": "Python 3",
   "language": "python",
   "name": "python3"
  },
  "language_info": {
   "codemirror_mode": {
    "name": "ipython",
    "version": 3
   },
   "file_extension": ".py",
   "mimetype": "text/x-python",
   "name": "python",
   "nbconvert_exporter": "python",
   "pygments_lexer": "ipython3",
   "version": "3.9.13"
  },
  "vscode": {
   "interpreter": {
    "hash": "9650cb4e16cdd4a8e8e2d128bf38d875813998db22a3c986335f89e0cb4d7bb2"
   }
  },
  "widgets": {
   "application/vnd.jupyter.widget-state+json": {
    "state": {},
    "version_major": 2,
    "version_minor": 0
   }
  }
 },
 "nbformat": 4,
 "nbformat_minor": 5
}
