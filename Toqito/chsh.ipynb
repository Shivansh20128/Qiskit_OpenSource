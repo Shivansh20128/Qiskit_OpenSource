{
 "cells": [
  {
   "cell_type": "code",
   "execution_count": 14,
   "metadata": {},
   "outputs": [
    {
     "data": {
      "text/plain": [
       "0.75"
      ]
     },
     "execution_count": 14,
     "metadata": {},
     "output_type": "execute_result"
    }
   ],
   "source": [
    "import numpy as np\n",
    "prob_mat = np.array([[1 / 4, 1 / 4], [1 / 4, 1 / 4]])\n",
    "import numpy as np\n",
    "num_alice_inputs, num_alice_outputs = 2, 2\n",
    "num_bob_inputs, num_bob_outputs = 2, 2\n",
    "pred_mat = np.zeros(\n",
    "    (num_alice_outputs, num_bob_outputs, num_alice_inputs, num_bob_inputs)\n",
    ")\n",
    "for a_alice in range(num_alice_outputs):\n",
    "    for b_bob in range(num_bob_outputs):\n",
    "        for x_alice in range(num_alice_inputs):\n",
    "            for y_bob in range(num_bob_inputs):\n",
    "                if a_alice ^ b_bob == x_alice * y_bob:\n",
    "                    pred_mat[a_alice, b_bob, x_alice, y_bob] = 1\n",
    "\n",
    "import numpy as np\n",
    "from toqito.nonlocal_games.nonlocal_game import NonlocalGame\n",
    "chsh = NonlocalGame(prob_mat, pred_mat)\n",
    "np.around(chsh.quantum_value_lower_bound(), decimals=2)"
   ]
  }
 ],
 "metadata": {
  "kernelspec": {
   "display_name": "qiskitenv",
   "language": "python",
   "name": "python3"
  },
  "language_info": {
   "codemirror_mode": {
    "name": "ipython",
    "version": 3
   },
   "file_extension": ".py",
   "mimetype": "text/x-python",
   "name": "python",
   "nbconvert_exporter": "python",
   "pygments_lexer": "ipython3",
   "version": "3.9.6"
  }
 },
 "nbformat": 4,
 "nbformat_minor": 2
}
