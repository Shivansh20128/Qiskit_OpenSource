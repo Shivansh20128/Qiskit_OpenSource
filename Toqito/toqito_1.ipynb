{
 "cells": [
  {
   "cell_type": "code",
   "execution_count": 1,
   "metadata": {},
   "outputs": [
    {
     "name": "stdout",
     "output_type": "stream",
     "text": [
      "Requirement already satisfied: toqito in /Users/Shared/Drive/Qiskit/qiskitenv/lib/python3.9/site-packages (1.0.6)\n",
      "Requirement already satisfied: numpy<2.0.0,>=1.19.4 in /Users/Shared/Drive/Qiskit/qiskitenv/lib/python3.9/site-packages (from toqito) (1.26.4)\n",
      "Requirement already satisfied: picos<3.0.0,>=2.0.30 in /Users/Shared/Drive/Qiskit/qiskitenv/lib/python3.9/site-packages (from toqito) (2.4.17)\n",
      "Requirement already satisfied: cvxpy<2.0.0,>=1.2.1 in /Users/Shared/Drive/Qiskit/qiskitenv/lib/python3.9/site-packages (from toqito) (1.5.3)\n",
      "Requirement already satisfied: cvxopt<2.0.0,>=1.2.5 in /Users/Shared/Drive/Qiskit/qiskitenv/lib/python3.9/site-packages (from toqito) (1.3.2)\n",
      "Requirement already satisfied: scipy<2.0.0,>=1.8.0 in /Users/Shared/Drive/Qiskit/qiskitenv/lib/python3.9/site-packages (from toqito) (1.13.1)\n",
      "Requirement already satisfied: clarabel>=0.5.0 in /Users/Shared/Drive/Qiskit/qiskitenv/lib/python3.9/site-packages (from cvxpy<2.0.0,>=1.2.1->toqito) (0.9.0)\n",
      "Requirement already satisfied: scs>=3.2.4.post1 in /Users/Shared/Drive/Qiskit/qiskitenv/lib/python3.9/site-packages (from cvxpy<2.0.0,>=1.2.1->toqito) (3.2.7)\n",
      "Requirement already satisfied: osqp>=0.6.2 in /Users/Shared/Drive/Qiskit/qiskitenv/lib/python3.9/site-packages (from cvxpy<2.0.0,>=1.2.1->toqito) (0.6.7.post1)\n",
      "Requirement already satisfied: ecos>=2 in /Users/Shared/Drive/Qiskit/qiskitenv/lib/python3.9/site-packages (from cvxpy<2.0.0,>=1.2.1->toqito) (2.0.14)\n",
      "Requirement already satisfied: qdldl in /Users/Shared/Drive/Qiskit/qiskitenv/lib/python3.9/site-packages (from osqp>=0.6.2->cvxpy<2.0.0,>=1.2.1->toqito) (0.1.7.post4)\n",
      "\u001b[33mWARNING: You are using pip version 21.2.4; however, version 24.2 is available.\n",
      "You should consider upgrading via the '/Users/Shared/Drive/Qiskit/qiskitenv/bin/python3 -m pip install --upgrade pip' command.\u001b[0m\n"
     ]
    }
   ],
   "source": [
    "!pip install toqito"
   ]
  },
  {
   "cell_type": "code",
   "execution_count": 2,
   "metadata": {},
   "outputs": [
    {
     "data": {
      "text/plain": [
       "0.8535533908447773"
      ]
     },
     "execution_count": 2,
     "metadata": {},
     "output_type": "execute_result"
    }
   ],
   "source": [
    "# Calculate the classical and quantum value of the CHSH game.\n",
    "import numpy as np\n",
    "from toqito.nonlocal_games.xor_game import XORGame\n",
    "\n",
    "# The probability matrix.\n",
    "prob_mat = np.array([[1/4, 1/4], [1/4, 1/4]])\n",
    "\n",
    "# The predicate matrix.\n",
    "pred_mat = np.array([[0, 0], [0, 1]])\n",
    "\n",
    "# Define CHSH game from matrices.\n",
    "chsh = XORGame(prob_mat, pred_mat)\n",
    "\n",
    "chsh.classical_value()\n",
    "# 0.75\n",
    "chsh.quantum_value()\n",
    "# 0.8535533\n"
   ]
  },
  {
   "cell_type": "code",
   "execution_count": 3,
   "metadata": {},
   "outputs": [
    {
     "data": {
      "text/plain": [
       "array([[0],\n",
       "       [0],\n",
       "       [1]])"
      ]
     },
     "execution_count": 3,
     "metadata": {},
     "output_type": "execute_result"
    }
   ],
   "source": [
    "from toqito.states import basis\n",
    "# |0>\n",
    "basis(3, 2)"
   ]
  },
  {
   "cell_type": "code",
   "execution_count": 4,
   "metadata": {},
   "outputs": [
    {
     "data": {
      "text/plain": [
       "array([[0.70710678],\n",
       "       [0.        ],\n",
       "       [0.        ],\n",
       "       [0.70710678]])"
      ]
     },
     "execution_count": 4,
     "metadata": {},
     "output_type": "execute_result"
    }
   ],
   "source": [
    "e_0, e_1 = basis(2, 0), basis(2, 1)\n",
    "u_0 = 1/np.sqrt(2) * (np.kron(e_0, e_0) + np.kron(e_1, e_1))\n",
    "u_0"
   ]
  },
  {
   "cell_type": "code",
   "execution_count": 5,
   "metadata": {},
   "outputs": [
    {
     "data": {
      "text/plain": [
       "array([[0.5, 0. , 0. , 0.5],\n",
       "       [0. , 0. , 0. , 0. ],\n",
       "       [0. , 0. , 0. , 0. ],\n",
       "       [0.5, 0. , 0. , 0.5]])"
      ]
     },
     "execution_count": 5,
     "metadata": {},
     "output_type": "execute_result"
    }
   ],
   "source": [
    "rho_0 = u_0 @ u_0.conj().T\n",
    "rho_0"
   ]
  },
  {
   "cell_type": "code",
   "execution_count": 6,
   "metadata": {},
   "outputs": [
    {
     "data": {
      "text/plain": [
       "array([[0.70710678],\n",
       "       [0.        ],\n",
       "       [0.        ],\n",
       "       [0.70710678]])"
      ]
     },
     "execution_count": 6,
     "metadata": {},
     "output_type": "execute_result"
    }
   ],
   "source": [
    "from toqito.states import bell\n",
    "import numpy as np\n",
    "bell(0)"
   ]
  },
  {
   "cell_type": "code",
   "execution_count": 7,
   "metadata": {},
   "outputs": [
    {
     "data": {
      "text/plain": [
       "<8x1 sparse matrix of type '<class 'numpy.float64'>'\n",
       "\twith 2 stored elements in List of Lists format>"
      ]
     },
     "execution_count": 7,
     "metadata": {},
     "output_type": "execute_result"
    }
   ],
   "source": [
    "from toqito.states import ghz\n",
    "ghz(2, 3)"
   ]
  },
  {
   "cell_type": "code",
   "execution_count": 8,
   "metadata": {},
   "outputs": [
    {
     "data": {
      "text/plain": [
       "<16384x1 sparse matrix of type '<class 'numpy.float64'>'\n",
       "\twith 4 stored elements in List of Lists format>"
      ]
     },
     "execution_count": 8,
     "metadata": {},
     "output_type": "execute_result"
    }
   ],
   "source": [
    "from toqito.states import ghz\n",
    "ghz(4, 7, np.array([1, 2, 3, 4]) / np.sqrt(30))"
   ]
  },
  {
   "cell_type": "code",
   "execution_count": 9,
   "metadata": {},
   "outputs": [
    {
     "data": {
      "text/plain": [
       "True"
      ]
     },
     "execution_count": 9,
     "metadata": {},
     "output_type": "execute_result"
    }
   ],
   "source": [
    "from toqito.states import bell\n",
    "from toqito.state_props import is_pure\n",
    "rho = bell(0) @ bell(0).conj().T\n",
    "is_pure(rho)"
   ]
  },
  {
   "cell_type": "code",
   "execution_count": 10,
   "metadata": {},
   "outputs": [
    {
     "data": {
      "text/plain": [
       "False"
      ]
     },
     "execution_count": 10,
     "metadata": {},
     "output_type": "execute_result"
    }
   ],
   "source": [
    "from toqito.states import bell\n",
    "from toqito.state_props import is_ppt\n",
    "rho = bell(2) @ bell(2).conj().T\n",
    "is_ppt(rho)"
   ]
  },
  {
   "cell_type": "code",
   "execution_count": 11,
   "metadata": {},
   "outputs": [
    {
     "data": {
      "text/plain": [
       "False"
      ]
     },
     "execution_count": 11,
     "metadata": {},
     "output_type": "execute_result"
    }
   ],
   "source": [
    "import numpy as np\n",
    "from toqito.state_props import is_separable\n",
    "from toqito.states import tile\n",
    "rho = np.identity(9)\n",
    "for i in range(5):\n",
    "   rho = rho - tile(i) @ tile(i).conj().T\n",
    "rho = rho / 4\n",
    "is_separable(rho)"
   ]
  },
  {
   "cell_type": "code",
   "execution_count": 12,
   "metadata": {},
   "outputs": [
    {
     "data": {
      "text/plain": [
       "True"
      ]
     },
     "execution_count": 12,
     "metadata": {},
     "output_type": "execute_result"
    }
   ],
   "source": [
    "is_ppt(rho)"
   ]
  },
  {
   "cell_type": "code",
   "execution_count": 13,
   "metadata": {},
   "outputs": [
    {
     "data": {
      "text/plain": [
       "1.0"
      ]
     },
     "execution_count": 13,
     "metadata": {},
     "output_type": "execute_result"
    }
   ],
   "source": [
    "from toqito.states import bell\n",
    "from toqito.state_metrics import fidelity\n",
    "import numpy as np\n",
    "# Define two identical density operators.\n",
    "rho = bell(0)*bell(0).conj().T\n",
    "sigma = bell(0)*bell(0).conj().T\n",
    "# Calculate the fidelity between `rho` and `sigma`\n",
    "np.around(fidelity(rho, sigma), decimals=2)"
   ]
  },
  {
   "cell_type": "code",
   "execution_count": 14,
   "metadata": {},
   "outputs": [
    {
     "data": {
      "text/plain": [
       "array([[ 7, 11],\n",
       "       [23, 27]])"
      ]
     },
     "execution_count": 14,
     "metadata": {},
     "output_type": "execute_result"
    }
   ],
   "source": [
    "from toqito.channels import partial_trace\n",
    "import numpy as np\n",
    "test_input_mat = np.array(\n",
    "    [[1, 2, 3, 4], [5, 6, 7, 8], [9, 10, 11, 12], [13, 14, 15, 16]]\n",
    ")\n",
    "partial_trace(test_input_mat)"
   ]
  },
  {
   "cell_type": "code",
   "execution_count": 15,
   "metadata": {},
   "outputs": [
    {
     "data": {
      "text/plain": [
       "array([[12, 14],\n",
       "       [20, 22]])"
      ]
     },
     "execution_count": 15,
     "metadata": {},
     "output_type": "execute_result"
    }
   ],
   "source": [
    "partial_trace(test_input_mat, sys=[0])"
   ]
  },
  {
   "cell_type": "code",
   "execution_count": 16,
   "metadata": {},
   "outputs": [
    {
     "data": {
      "text/plain": [
       "array([[ 1,  5,  3,  7],\n",
       "       [ 2,  6,  4,  8],\n",
       "       [ 9, 13, 11, 15],\n",
       "       [10, 14, 12, 16]])"
      ]
     },
     "execution_count": 16,
     "metadata": {},
     "output_type": "execute_result"
    }
   ],
   "source": [
    "from toqito.channels import partial_transpose\n",
    "import numpy as np\n",
    "test_input_mat = np.arange(1, 17).reshape(4, 4)\n",
    "partial_transpose(test_input_mat)"
   ]
  },
  {
   "cell_type": "code",
   "execution_count": 17,
   "metadata": {},
   "outputs": [
    {
     "data": {
      "text/plain": [
       "array([[ 1,  2,  9, 10],\n",
       "       [ 5,  6, 13, 14],\n",
       "       [ 3,  4, 11, 12],\n",
       "       [ 7,  8, 15, 16]])"
      ]
     },
     "execution_count": 17,
     "metadata": {},
     "output_type": "execute_result"
    }
   ],
   "source": [
    "partial_transpose(test_input_mat, sys=[0])"
   ]
  },
  {
   "cell_type": "code",
   "execution_count": 18,
   "metadata": {},
   "outputs": [],
   "source": [
    "import numpy as np\n",
    "prob_mat = np.array([[1 / 4, 1 / 4], [1 / 4, 1 / 4]])"
   ]
  },
  {
   "cell_type": "code",
   "execution_count": 19,
   "metadata": {},
   "outputs": [],
   "source": [
    "import numpy as np\n",
    "num_alice_inputs, num_alice_outputs = 2, 2\n",
    "num_bob_inputs, num_bob_outputs = 2, 2\n",
    "pred_mat = np.zeros(\n",
    "    (num_alice_outputs, num_bob_outputs, num_alice_inputs, num_bob_inputs)\n",
    ")\n",
    "for a_alice in range(num_alice_outputs):\n",
    "    for b_bob in range(num_bob_outputs):\n",
    "        for x_alice in range(num_alice_inputs):\n",
    "            for y_bob in range(num_bob_inputs):\n",
    "                if a_alice ^ b_bob == x_alice * y_bob:\n",
    "                    pred_mat[a_alice, b_bob, x_alice, y_bob] = 1"
   ]
  },
  {
   "cell_type": "code",
   "execution_count": 39,
   "metadata": {},
   "outputs": [
    {
     "data": {
      "text/plain": [
       "0.85"
      ]
     },
     "execution_count": 39,
     "metadata": {},
     "output_type": "execute_result"
    }
   ],
   "source": [
    "import numpy as np\n",
    "from toqito.nonlocal_games.nonlocal_game import NonlocalGame\n",
    "chsh = NonlocalGame(prob_mat, pred_mat)\n",
    "np.around(chsh.quantum_value_lower_bound(), decimals=2)"
   ]
  }
 ],
 "metadata": {
  "kernelspec": {
   "display_name": "qiskitenv",
   "language": "python",
   "name": "python3"
  },
  "language_info": {
   "codemirror_mode": {
    "name": "ipython",
    "version": 3
   },
   "file_extension": ".py",
   "mimetype": "text/x-python",
   "name": "python",
   "nbconvert_exporter": "python",
   "pygments_lexer": "ipython3",
   "version": "3.9.6"
  }
 },
 "nbformat": 4,
 "nbformat_minor": 2
}
