{
 "cells": [
  {
   "cell_type": "code",
   "execution_count": 1,
   "metadata": {},
   "outputs": [],
   "source": [
    "# Creating the probability matrix.\n",
    "import numpy as np\n",
    "prob_mat = np.array([[1 / 4, 1 / 4], [1 / 4, 1 / 4]])"
   ]
  },
  {
   "cell_type": "code",
   "execution_count": 2,
   "metadata": {},
   "outputs": [
    {
     "data": {
      "text/plain": [
       "array([[[[1., 1.],\n",
       "         [1., 0.]],\n",
       "\n",
       "        [[0., 0.],\n",
       "         [0., 1.]]],\n",
       "\n",
       "\n",
       "       [[[0., 0.],\n",
       "         [0., 1.]],\n",
       "\n",
       "        [[1., 1.],\n",
       "         [1., 0.]]]])"
      ]
     },
     "execution_count": 2,
     "metadata": {},
     "output_type": "execute_result"
    }
   ],
   "source": [
    "# Creating the predicate matrix.\n",
    "import numpy as np\n",
    "num_alice_inputs, num_alice_outputs = 2, 2\n",
    "num_bob_inputs, num_bob_outputs = 2, 2\n",
    "pred_mat = np.zeros(\n",
    "    (num_alice_outputs, num_bob_outputs, num_alice_inputs, num_bob_inputs)\n",
    ")\n",
    "for a_alice in range(num_alice_outputs):\n",
    "    for b_bob in range(num_bob_outputs):\n",
    "        for x_alice in range(num_alice_inputs):\n",
    "            for y_bob in range(num_bob_inputs):\n",
    "                if a_alice ^ b_bob == x_alice * y_bob:\n",
    "                    pred_mat[a_alice, b_bob, x_alice, y_bob] = 1\n",
    "pred_mat"
   ]
  },
  {
   "cell_type": "code",
   "execution_count": 3,
   "metadata": {},
   "outputs": [
    {
     "data": {
      "text/plain": [
       "0.85"
      ]
     },
     "execution_count": 3,
     "metadata": {},
     "output_type": "execute_result"
    }
   ],
   "source": [
    "import numpy as np\n",
    "from toqito.nonlocal_games.nonlocal_game import NonlocalGame\n",
    "chsh = NonlocalGame(prob_mat, pred_mat)\n",
    "np.around(chsh.quantum_value_lower_bound(), decimals=2)"
   ]
  },
  {
   "cell_type": "code",
   "execution_count": 4,
   "metadata": {},
   "outputs": [
    {
     "data": {
      "text/plain": [
       "0.67"
      ]
     },
     "execution_count": 4,
     "metadata": {},
     "output_type": "execute_result"
    }
   ],
   "source": [
    "import numpy as np\n",
    "from toqito.nonlocal_games.nonlocal_game import NonlocalGame\n",
    "# Specify the number of inputs, and number of outputs.\n",
    "num_alice_in, num_alice_out = 2, 2\n",
    "num_bob_in, num_bob_out = 2, 2\n",
    "# Define the probability matrix of the FFL game.\n",
    "prob_mat = np.array([[1/3, 1/3], [1/3, 0]])\n",
    "# Define the predicate matrix of the FFL game.\n",
    "pred_mat = np.zeros((num_alice_out, num_bob_out, num_alice_in, num_bob_in))\n",
    "for a_alice in range(num_alice_out):\n",
    "    for b_bob in range(num_bob_out):\n",
    "        for x_alice in range(num_alice_in):\n",
    "            for y_bob in range(num_bob_in):\n",
    "                if (a_alice or x_alice) != (b_bob or y_bob):\n",
    "                    pred_mat[a_alice, b_bob, x_alice, y_bob] = 1\n",
    "# Define the FFL game object.\n",
    "ffl = NonlocalGame(prob_mat, pred_mat)\n",
    "np.around(ffl.classical_value(), decimals=2)"
   ]
  },
  {
   "cell_type": "code",
   "execution_count": 5,
   "metadata": {},
   "outputs": [
    {
     "data": {
      "text/plain": [
       "0.22"
      ]
     },
     "execution_count": 5,
     "metadata": {},
     "output_type": "execute_result"
    }
   ],
   "source": [
    "np.around(ffl.quantum_value_lower_bound(), decimals=2)"
   ]
  },
  {
   "cell_type": "code",
   "execution_count": null,
   "metadata": {},
   "outputs": [],
   "source": []
  }
 ],
 "metadata": {
  "kernelspec": {
   "display_name": "qiskitenv",
   "language": "python",
   "name": "python3"
  },
  "language_info": {
   "codemirror_mode": {
    "name": "ipython",
    "version": 3
   },
   "file_extension": ".py",
   "mimetype": "text/x-python",
   "name": "python",
   "nbconvert_exporter": "python",
   "pygments_lexer": "ipython3",
   "version": "3.9.6"
  }
 },
 "nbformat": 4,
 "nbformat_minor": 2
}
