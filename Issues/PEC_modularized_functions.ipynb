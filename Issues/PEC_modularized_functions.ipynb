{
 "cells": [
  {
   "cell_type": "code",
   "execution_count": 1,
   "metadata": {},
   "outputs": [
    {
     "data": {
      "text/plain": [
       "['braket', 'pennylane', 'pyquil', 'qibo', 'qiskit']"
      ]
     },
     "execution_count": 1,
     "metadata": {},
     "output_type": "execute_result"
    }
   ],
   "source": [
    "import mitiq\n",
    "\n",
    "mitiq.SUPPORTED_PROGRAM_TYPES.keys()"
   ]
  },
  {
   "cell_type": "code",
   "execution_count": 2,
   "metadata": {},
   "outputs": [],
   "source": [
    "frontend = \"qiskit\""
   ]
  },
  {
   "cell_type": "code",
   "execution_count": 3,
   "metadata": {},
   "outputs": [
    {
     "name": "stdout",
     "output_type": "stream",
     "text": [
      "   ┌──────────┐┌────┐┌───┐┌──────┐\n",
      "q: ┤ Ry(-π/2) ├┤ √X ├┤ S ├┤ √Xdg ├\n",
      "   └──────────┘└────┘└───┘└──────┘\n"
     ]
    }
   ],
   "source": [
    "from mitiq import benchmarks\n",
    "\n",
    "circuit = benchmarks.generate_rb_circuits(\n",
    "  n_qubits=1, num_cliffords=2, return_type=frontend,\n",
    ")[0]\n",
    "\n",
    "print(circuit)"
   ]
  },
  {
   "cell_type": "code",
   "execution_count": 4,
   "metadata": {},
   "outputs": [],
   "source": [
    "from cirq import DensityMatrixSimulator, depolarize\n",
    "from mitiq.interface import convert_to_mitiq\n",
    "\n",
    "def execute(circuit, noise_level=0.01):\n",
    "    \"\"\"Returns Tr[ρ |0⟩⟨0|] where ρ is the state prepared by the circuit\n",
    "    executed with depolarizing noise.\n",
    "    \"\"\"\n",
    "    # Replace with code based on your frontend and backend.\n",
    "    mitiq_circuit, _ = convert_to_mitiq(circuit)\n",
    "    # We add a simple noise model to simulate a noisy backend.\n",
    "    noisy_circuit = mitiq_circuit.with_noise(depolarize(p=noise_level))\n",
    "    rho = DensityMatrixSimulator().simulate(noisy_circuit).final_density_matrix\n",
    "    return rho[0, 0].real"
   ]
  },
  {
   "cell_type": "code",
   "execution_count": 5,
   "metadata": {},
   "outputs": [
    {
     "name": "stdout",
     "output_type": "stream",
     "text": [
      "Error without mitigation: 0.02614\n"
     ]
    }
   ],
   "source": [
    "# Compute the expectation value of the |0⟩⟨0| observable.\n",
    "noisy_value = execute(circuit)\n",
    "ideal_value = execute(circuit, noise_level=0.0)\n",
    "print(f\"Error without mitigation: {abs(ideal_value - noisy_value) :.5f}\")"
   ]
  },
  {
   "cell_type": "code",
   "execution_count": 6,
   "metadata": {},
   "outputs": [
    {
     "name": "stdout",
     "output_type": "stream",
     "text": [
      "4 OperationRepresentation objects produced, assuming 1.0% depolarizing noise.\n"
     ]
    }
   ],
   "source": [
    "from mitiq.pec.representations.depolarizing import represent_operations_in_circuit_with_local_depolarizing_noise\n",
    "\n",
    "noise_level = 0.01\n",
    "reps = represent_operations_in_circuit_with_local_depolarizing_noise(circuit, noise_level)\n",
    "print(f\"{len(reps)} OperationRepresentation objects produced, assuming {100 * noise_level}% depolarizing noise.\")"
   ]
  },
  {
   "cell_type": "code",
   "execution_count": 7,
   "metadata": {},
   "outputs": [
    {
     "name": "stdout",
     "output_type": "stream",
     "text": [
      "q_0: ───X^-0.5─── = 1.010*(q_0: ───X^-0.5───)-0.003*(q_0: ───X^-0.5───X───)-0.003*(q_0: ───X^-0.5───Y───)-0.003*(q_0: ───X^-0.5───Z───)\n"
     ]
    }
   ],
   "source": [
    "print(reps[0])"
   ]
  },
  {
   "cell_type": "code",
   "execution_count": 8,
   "metadata": {},
   "outputs": [
    {
     "name": "stdout",
     "output_type": "stream",
     "text": [
      "   ┌──────────┐┌────┐┌───┐┌──────┐\n",
      "q: ┤ Ry(-π/2) ├┤ √X ├┤ S ├┤ √Xdg ├\n",
      "   └──────────┘└────┘└───┘└──────┘\n"
     ]
    }
   ],
   "source": [
    "from mitiq import pec\n",
    "\n",
    "sampled_circuits = pec.generate_sampled_circuits(circuit, representations=reps)\n",
    "\n",
    "print(sampled_circuits[0])"
   ]
  },
  {
   "cell_type": "code",
   "execution_count": 9,
   "metadata": {},
   "outputs": [
    {
     "name": "stdout",
     "output_type": "stream",
     "text": [
      "   ┌──────────┐┌────┐┌───┐┌──────┐\n",
      "q: ┤ Ry(-π/2) ├┤ √X ├┤ S ├┤ √Xdg ├\n",
      "   └──────────┘└────┘└───┘└──────┘\n"
     ]
    }
   ],
   "source": [
    "print(sampled_circuits[1])"
   ]
  },
  {
   "cell_type": "code",
   "execution_count": 10,
   "metadata": {},
   "outputs": [
    {
     "name": "stdout",
     "output_type": "stream",
     "text": [
      "   ┌──────────┐┌────┐┌───┐┌──────┐\n",
      "q: ┤ Ry(-π/2) ├┤ √X ├┤ S ├┤ √Xdg ├\n",
      "   └──────────┘└────┘└───┘└──────┘\n"
     ]
    }
   ],
   "source": [
    "print(sampled_circuits[2])"
   ]
  },
  {
   "cell_type": "code",
   "execution_count": 11,
   "metadata": {},
   "outputs": [
    {
     "name": "stdout",
     "output_type": "stream",
     "text": [
      "Error without PEC: 0.02614\n",
      "Error with PEC:    0.02037\n"
     ]
    }
   ],
   "source": [
    "pec_value = pec.execute_with_pec(circuit, execute, representations=reps)\n",
    "\n",
    "print(f\"Error without PEC: {abs(ideal_value - noisy_value) :.5f}\")\n",
    "print(f\"Error with PEC:    {abs(ideal_value - pec_value) :.5f}\")"
   ]
  },
  {
   "cell_type": "code",
   "execution_count": 12,
   "metadata": {},
   "outputs": [],
   "source": [
    "results = [execute(circuit) for circuit in sampled_circuits]"
   ]
  },
  {
   "cell_type": "code",
   "execution_count": 17,
   "metadata": {},
   "outputs": [],
   "source": [
    "pec_value_combined = pec.combine_results(results, 1 , [1,1,1])"
   ]
  },
  {
   "cell_type": "code",
   "execution_count": 18,
   "metadata": {},
   "outputs": [
    {
     "data": {
      "text/plain": [
       "0.9738618731498718"
      ]
     },
     "execution_count": 18,
     "metadata": {},
     "output_type": "execute_result"
    }
   ],
   "source": [
    "pec_value_combined"
   ]
  },
  {
   "cell_type": "code",
   "execution_count": 15,
   "metadata": {},
   "outputs": [
    {
     "name": "stdout",
     "output_type": "stream",
     "text": [
      "Error without PEC: 0.02614\n",
      "Error with PEC:    0.04931\n"
     ]
    }
   ],
   "source": [
    "print(f\"Error without PEC: {abs(ideal_value - noisy_value) :.5f}\")\n",
    "print(f\"Error with PEC:    {abs(ideal_value - pec_value_combined) :.5f}\")"
   ]
  },
  {
   "cell_type": "code",
   "execution_count": 16,
   "metadata": {},
   "outputs": [
    {
     "data": {
      "text/plain": [
       "0.9796274065969119"
      ]
     },
     "execution_count": 16,
     "metadata": {},
     "output_type": "execute_result"
    }
   ],
   "source": [
    "pec_value"
   ]
  },
  {
   "cell_type": "code",
   "execution_count": null,
   "metadata": {},
   "outputs": [],
   "source": []
  }
 ],
 "metadata": {
  "kernelspec": {
   "display_name": "mitiqenv",
   "language": "python",
   "name": "python3"
  },
  "language_info": {
   "codemirror_mode": {
    "name": "ipython",
    "version": 3
   },
   "file_extension": ".py",
   "mimetype": "text/x-python",
   "name": "python",
   "nbconvert_exporter": "python",
   "pygments_lexer": "ipython3",
   "version": "3.10.15"
  }
 },
 "nbformat": 4,
 "nbformat_minor": 2
}
