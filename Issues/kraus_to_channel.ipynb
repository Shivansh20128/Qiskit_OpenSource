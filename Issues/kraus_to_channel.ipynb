{
 "cells": [
  {
   "cell_type": "code",
   "execution_count": 1,
   "metadata": {},
   "outputs": [],
   "source": [
    "import numpy as np\n",
    "from toqito.matrix_ops import tensor\n",
    "def kraus_to_channel(\n",
    "    kraus_list: list[tuple[np.ndarray, np.ndarray]]\n",
    ") -> np.ndarray:\n",
    "    \"\"\"\n",
    "    Converts a collection of Kraus operators into the corresponding quantum channel (superoperator).\n",
    "    :param kraus_list: List of tuples (A, B) where A and B are Kraus operators as numpy arrays\n",
    "    :return: The superoperator as a numpy array\n",
    "    \"\"\"\n",
    "    super_op = sum(tensor(B, A.conj()) for A, B in kraus_list)\n",
    "    return super_op"
   ]
  },
  {
   "cell_type": "code",
   "execution_count": 2,
   "metadata": {},
   "outputs": [],
   "source": [
    "dim = 2**2\n",
    "kraus_list = [np.random.randint(-1, 4, (2, dim, dim)) for _ in range(12)]"
   ]
  },
  {
   "cell_type": "code",
   "execution_count": 3,
   "metadata": {},
   "outputs": [],
   "source": [
    "import toqito.state_ops\n",
    "vector = np.random.randint(-3, 3, (dim, 1))\n",
    "dm = toqito.matrix_ops.to_density_matrix(vector)\n",
    "vec_dm = toqito.matrix_ops.vec(dm)\n"
   ]
  },
  {
   "cell_type": "code",
   "execution_count": 4,
   "metadata": {},
   "outputs": [
    {
     "data": {
      "text/plain": [
       "array([[565, 436, 498, 665],\n",
       "       [771, 942, 734, 906],\n",
       "       [452, 575, 628, 760],\n",
       "       [498, 740, 709, 613]])"
      ]
     },
     "execution_count": 4,
     "metadata": {},
     "output_type": "execute_result"
    }
   ],
   "source": [
    "superop = kraus_to_channel(kraus_list)\n",
    "toqito.matrix_ops.unvec(superop @ vec_dm)"
   ]
  },
  {
   "cell_type": "code",
   "execution_count": 5,
   "metadata": {},
   "outputs": [
    {
     "data": {
      "text/plain": [
       "array([[565, 436, 498, 665],\n",
       "       [771, 942, 734, 906],\n",
       "       [452, 575, 628, 760],\n",
       "       [498, 740, 709, 613]])"
      ]
     },
     "execution_count": 5,
     "metadata": {},
     "output_type": "execute_result"
    }
   ],
   "source": [
    "sum(A @ dm @ B.conj().T for A, B in kraus_list)"
   ]
  },
  {
   "cell_type": "code",
   "execution_count": 6,
   "metadata": {},
   "outputs": [
    {
     "data": {
      "text/plain": [
       "array([[565, 771, 452, 498],\n",
       "       [436, 942, 575, 740],\n",
       "       [498, 734, 628, 709],\n",
       "       [665, 906, 760, 613]])"
      ]
     },
     "execution_count": 6,
     "metadata": {},
     "output_type": "execute_result"
    }
   ],
   "source": [
    "sum(B @ dm @ A.T for A, B in kraus_list)"
   ]
  }
 ],
 "metadata": {
  "kernelspec": {
   "display_name": "qiskitenv",
   "language": "python",
   "name": "python3"
  },
  "language_info": {
   "codemirror_mode": {
    "name": "ipython",
    "version": 3
   },
   "file_extension": ".py",
   "mimetype": "text/x-python",
   "name": "python",
   "nbconvert_exporter": "python",
   "pygments_lexer": "ipython3",
   "version": "3.10.15"
  }
 },
 "nbformat": 4,
 "nbformat_minor": 2
}
