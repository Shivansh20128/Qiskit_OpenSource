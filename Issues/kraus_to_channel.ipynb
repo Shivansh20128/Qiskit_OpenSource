{
 "cells": [
  {
   "cell_type": "code",
   "execution_count": 6,
   "metadata": {},
   "outputs": [],
   "source": [
    "import numpy as np\n",
    "from toqito.matrix_ops import tensor\n",
    "def kraus_to_channel(\n",
    "    kraus_list: list[tuple[np.ndarray, np.ndarray]]\n",
    ") -> np.ndarray:\n",
    "    \"\"\"\n",
    "    Converts a collection of Kraus operators into the corresponding quantum channel (superoperator).\n",
    "    :param kraus_list: List of tuples (A, B) where A and B are Kraus operators as numpy arrays\n",
    "    :return: The superoperator as a numpy array\n",
    "    \"\"\"\n",
    "    super_op = sum(tensor(A, B.conj()) for A, B in kraus_list)\n",
    "    return super_op"
   ]
  },
  {
   "cell_type": "code",
   "execution_count": 7,
   "metadata": {},
   "outputs": [],
   "source": [
    "dim = 2**2\n",
    "kraus_list = [np.random.randint(-1, 4, (2, dim, dim)) for _ in range(12)]"
   ]
  },
  {
   "cell_type": "code",
   "execution_count": 8,
   "metadata": {},
   "outputs": [],
   "source": [
    "import toqito.state_ops\n",
    "vector = np.random.randint(-3, 3, (dim, 1))\n",
    "dm = toqito.state_ops.pure_to_mixed(vector)\n",
    "vec_dm = toqito.matrix_ops.vec(dm)"
   ]
  },
  {
   "cell_type": "code",
   "execution_count": 9,
   "metadata": {},
   "outputs": [
    {
     "data": {
      "text/plain": [
       "array([[-92, 276, -48, 264],\n",
       "       [252, 204, -48, 208],\n",
       "       [ 40, 452, 236, 184],\n",
       "       [212, 460, 312, 632]])"
      ]
     },
     "execution_count": 9,
     "metadata": {},
     "output_type": "execute_result"
    }
   ],
   "source": [
    "superop = kraus_to_channel(kraus_list)\n",
    "toqito.matrix_ops.unvec(superop @ vec_dm)"
   ]
  },
  {
   "cell_type": "code",
   "execution_count": 10,
   "metadata": {},
   "outputs": [
    {
     "data": {
      "text/plain": [
       "array([[-92, 252,  40, 212],\n",
       "       [276, 204, 452, 460],\n",
       "       [-48, -48, 236, 312],\n",
       "       [264, 208, 184, 632]])"
      ]
     },
     "execution_count": 10,
     "metadata": {},
     "output_type": "execute_result"
    }
   ],
   "source": [
    "sum(A @ dm @ B.conj().T for A, B in kraus_list)"
   ]
  }
 ],
 "metadata": {
  "kernelspec": {
   "display_name": "qiskitenv",
   "language": "python",
   "name": "python3"
  },
  "language_info": {
   "codemirror_mode": {
    "name": "ipython",
    "version": 3
   },
   "file_extension": ".py",
   "mimetype": "text/x-python",
   "name": "python",
   "nbconvert_exporter": "python",
   "pygments_lexer": "ipython3",
   "version": "3.9.6"
  }
 },
 "nbformat": 4,
 "nbformat_minor": 2
}
