{
 "cells": [
  {
   "cell_type": "code",
   "execution_count": 1,
   "metadata": {},
   "outputs": [],
   "source": [
    "import numpy as np\n",
    "from toqito.matrix_ops import tensor\n",
    "def kraus_to_channel(\n",
    "    kraus_list: list[tuple[np.ndarray, np.ndarray]]\n",
    ") -> np.ndarray:\n",
    "    \"\"\"\n",
    "    Converts a collection of Kraus operators into the corresponding quantum channel (superoperator).\n",
    "    :param kraus_list: List of tuples (A, B) where A and B are Kraus operators as numpy arrays\n",
    "    :return: The superoperator as a numpy array\n",
    "    \"\"\"\n",
    "    super_op = sum(tensor(A, B.conj()) for A, B in kraus_list)\n",
    "    return super_op"
   ]
  },
  {
   "cell_type": "code",
   "execution_count": 2,
   "metadata": {},
   "outputs": [],
   "source": [
    "dim = 2**2\n",
    "kraus_list = [np.random.randint(-1, 4, (2, dim, dim)) for _ in range(12)]"
   ]
  },
  {
   "cell_type": "code",
   "execution_count": 3,
   "metadata": {},
   "outputs": [],
   "source": [
    "import toqito.state_ops\n",
    "vector = np.random.randint(-3, 3, (dim, 1))\n",
    "dm = toqito.state_ops.pure_to_mixed(vector)\n",
    "vec_dm = toqito.matrix_ops.vec(dm)"
   ]
  },
  {
   "cell_type": "code",
   "execution_count": 8,
   "metadata": {},
   "outputs": [
    {
     "data": {
      "text/plain": [
       "array([[192, 266, 219, 272],\n",
       "       [302, 376, 362, 373],\n",
       "       [481, 506, 442, 472],\n",
       "       [364, 415, 436, 437]])"
      ]
     },
     "execution_count": 8,
     "metadata": {},
     "output_type": "execute_result"
    }
   ],
   "source": [
    "superop = kraus_to_channel(kraus_list)\n",
    "toqito.matrix_ops.unvec(superop @ vec_dm)"
   ]
  },
  {
   "cell_type": "code",
   "execution_count": 15,
   "metadata": {},
   "outputs": [
    {
     "data": {
      "text/plain": [
       "array([[192, 302, 481, 364],\n",
       "       [266, 376, 506, 415],\n",
       "       [219, 362, 442, 436],\n",
       "       [272, 373, 472, 437]])"
      ]
     },
     "execution_count": 15,
     "metadata": {},
     "output_type": "execute_result"
    }
   ],
   "source": [
    "sum(A @ dm @ B.conj().T for A, B in kraus_list)"
   ]
  },
  {
   "cell_type": "markdown",
   "metadata": {},
   "source": []
  }
 ],
 "metadata": {
  "kernelspec": {
   "display_name": "qiskitenv",
   "language": "python",
   "name": "python3"
  },
  "language_info": {
   "codemirror_mode": {
    "name": "ipython",
    "version": 3
   },
   "file_extension": ".py",
   "mimetype": "text/x-python",
   "name": "python",
   "nbconvert_exporter": "python",
   "pygments_lexer": "ipython3",
   "version": "3.9.6"
  }
 },
 "nbformat": 4,
 "nbformat_minor": 2
}
