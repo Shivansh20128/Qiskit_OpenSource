{
 "cells": [
  {
   "cell_type": "code",
   "execution_count": 2,
   "metadata": {},
   "outputs": [],
   "source": [
    "import numpy as np\n",
    "from cirq import DensityMatrixSimulator, depolarize\n",
    "from mitiq.interface import convert_to_mitiq\n",
    "\n",
    "def execute(circuit, noise_level=0.01):\n",
    "    \"\"\"Returns Tr[ρ |0⟩⟨0|] where ρ is the state prepared by the circuit\n",
    "    executed with depolarizing noise.\n",
    "    \"\"\"\n",
    "    # Replace with code based on your frontend and backend.\n",
    "    mitiq_circuit, _ = convert_to_mitiq(circuit)\n",
    "    noisy_circuit = mitiq_circuit.with_noise(depolarize(p=noise_level))\n",
    "    rho = DensityMatrixSimulator().simulate(noisy_circuit).final_density_matrix\n",
    "    return rho[0, 0].real"
   ]
  },
  {
   "cell_type": "code",
   "execution_count": 7,
   "metadata": {},
   "outputs": [
    {
     "ename": "UnsupportedCircuitError",
     "evalue": "Could not determine the package of the input circuit.",
     "output_type": "error",
     "traceback": [
      "\u001b[0;31m---------------------------------------------------------------------------\u001b[0m",
      "\u001b[0;31mAttributeError\u001b[0m                            Traceback (most recent call last)",
      "File \u001b[0;32m/Users/Shared/Drive/Qiskit/mitiq/mitiq/interface/conversions.py:89\u001b[0m, in \u001b[0;36mconvert_to_mitiq\u001b[0;34m(circuit)\u001b[0m\n\u001b[1;32m     88\u001b[0m \u001b[38;5;28;01mtry\u001b[39;00m:\n\u001b[0;32m---> 89\u001b[0m     package \u001b[38;5;241m=\u001b[39m \u001b[43mcircuit\u001b[49m\u001b[38;5;241;43m.\u001b[39;49m\u001b[38;5;18;43m__module__\u001b[39;49m\n\u001b[1;32m     90\u001b[0m \u001b[38;5;28;01mexcept\u001b[39;00m \u001b[38;5;167;01mAttributeError\u001b[39;00m:\n",
      "\u001b[0;31mAttributeError\u001b[0m: 'list' object has no attribute '__module__'",
      "\nDuring handling of the above exception, another exception occurred:\n",
      "\u001b[0;31mUnsupportedCircuitError\u001b[0m                   Traceback (most recent call last)",
      "Cell \u001b[0;32mIn[7], line 15\u001b[0m\n\u001b[1;32m     11\u001b[0m \u001b[38;5;66;03m# folded = fold_gates_at_random(circuit, scale_factor=2.)\u001b[39;00m\n\u001b[1;32m     13\u001b[0m folded_circuits \u001b[38;5;241m=\u001b[39m zne\u001b[38;5;241m.\u001b[39mscaled_circuits(circuit, [\u001b[38;5;241m1\u001b[39m], fold_gates_at_random)\n\u001b[0;32m---> 15\u001b[0m results: \u001b[38;5;28mlist\u001b[39m[\u001b[38;5;28mfloat\u001b[39m] \u001b[38;5;241m=\u001b[39m \u001b[43mzne\u001b[49m\u001b[38;5;241;43m.\u001b[39;49m\u001b[43mexecute_with_zne\u001b[49m\u001b[43m(\u001b[49m\u001b[43mfolded_circuits\u001b[49m\u001b[43m,\u001b[49m\u001b[43m \u001b[49m\u001b[43mexecute\u001b[49m\u001b[43m)\u001b[49m  \u001b[38;5;66;03m# circuit execution happens here from the user\u001b[39;00m\n",
      "File \u001b[0;32m/Users/Shared/Drive/Qiskit/mitiq/mitiq/zne/zne.py:109\u001b[0m, in \u001b[0;36mexecute_with_zne\u001b[0;34m(circuit, executor, observable, factory, scale_noise, num_to_average)\u001b[0m\n\u001b[1;32m    106\u001b[0m \u001b[38;5;28;01mif\u001b[39;00m num_to_average \u001b[38;5;241m<\u001b[39m \u001b[38;5;241m1\u001b[39m:\n\u001b[1;32m    107\u001b[0m     \u001b[38;5;28;01mraise\u001b[39;00m \u001b[38;5;167;01mValueError\u001b[39;00m(\u001b[38;5;124m\"\u001b[39m\u001b[38;5;124mArgument `num_to_average` must be a positive int.\u001b[39m\u001b[38;5;124m\"\u001b[39m)\n\u001b[0;32m--> 109\u001b[0m \u001b[38;5;28;01mreturn\u001b[39;00m \u001b[43mfactory\u001b[49m\u001b[38;5;241;43m.\u001b[39;49m\u001b[43mrun\u001b[49m\u001b[43m(\u001b[49m\n\u001b[1;32m    110\u001b[0m \u001b[43m    \u001b[49m\u001b[43mcircuit\u001b[49m\u001b[43m,\u001b[49m\u001b[43m \u001b[49m\u001b[43mexecutor\u001b[49m\u001b[43m,\u001b[49m\u001b[43m \u001b[49m\u001b[43mobservable\u001b[49m\u001b[43m,\u001b[49m\u001b[43m \u001b[49m\u001b[43mscale_noise\u001b[49m\u001b[43m,\u001b[49m\u001b[43m \u001b[49m\u001b[38;5;28;43mint\u001b[39;49m\u001b[43m(\u001b[49m\u001b[43mnum_to_average\u001b[49m\u001b[43m)\u001b[49m\n\u001b[1;32m    111\u001b[0m \u001b[43m\u001b[49m\u001b[43m)\u001b[49m\u001b[38;5;241m.\u001b[39mreduce()\n",
      "File \u001b[0;32m/Users/Shared/Drive/Qiskit/mitiq/mitiq/zne/inference.py:538\u001b[0m, in \u001b[0;36mBatchedFactory.run\u001b[0;34m(self, qp, executor, observable, scale_noise, num_to_average)\u001b[0m\n\u001b[1;32m    535\u001b[0m \u001b[38;5;28mself\u001b[39m\u001b[38;5;241m.\u001b[39mreset()\n\u001b[1;32m    536\u001b[0m \u001b[38;5;28mself\u001b[39m\u001b[38;5;241m.\u001b[39m_batch_populate_instack()\n\u001b[0;32m--> 538\u001b[0m \u001b[43m_check_circuit_length\u001b[49m\u001b[43m(\u001b[49m\u001b[43mqp\u001b[49m\u001b[43m)\u001b[49m\n\u001b[1;32m    540\u001b[0m \u001b[38;5;66;03m# Get all noise-scaled circuits to run.\u001b[39;00m\n\u001b[1;32m    541\u001b[0m to_run \u001b[38;5;241m=\u001b[39m \u001b[38;5;28mself\u001b[39m\u001b[38;5;241m.\u001b[39m_generate_circuits(qp, scale_noise, num_to_average)\n",
      "File \u001b[0;32m/Users/Shared/Drive/Qiskit/mitiq/mitiq/interface/conversions.py:229\u001b[0m, in \u001b[0;36maccept_any_qprogram_as_input.<locals>.accept_any_qprogram_function\u001b[0;34m(circuit, *args, **kwargs)\u001b[0m\n\u001b[1;32m    225\u001b[0m \u001b[38;5;129m@wraps\u001b[39m(accept_cirq_circuit_function)\n\u001b[1;32m    226\u001b[0m \u001b[38;5;28;01mdef\u001b[39;00m \u001b[38;5;21maccept_any_qprogram_function\u001b[39m(\n\u001b[1;32m    227\u001b[0m     circuit: QPROGRAM, \u001b[38;5;241m*\u001b[39margs: P\u001b[38;5;241m.\u001b[39margs, \u001b[38;5;241m*\u001b[39m\u001b[38;5;241m*\u001b[39mkwargs: P\u001b[38;5;241m.\u001b[39mkwargs\n\u001b[1;32m    228\u001b[0m ) \u001b[38;5;241m-\u001b[39m\u001b[38;5;241m>\u001b[39m R:\n\u001b[0;32m--> 229\u001b[0m     cirq_circuit, _ \u001b[38;5;241m=\u001b[39m \u001b[43mconvert_to_mitiq\u001b[49m\u001b[43m(\u001b[49m\u001b[43mcircuit\u001b[49m\u001b[43m)\u001b[49m\n\u001b[1;32m    230\u001b[0m     \u001b[38;5;28;01mreturn\u001b[39;00m accept_cirq_circuit_function(cirq_circuit, \u001b[38;5;241m*\u001b[39margs, \u001b[38;5;241m*\u001b[39m\u001b[38;5;241m*\u001b[39mkwargs)\n",
      "File \u001b[0;32m/Users/Shared/Drive/Qiskit/mitiq/mitiq/interface/conversions.py:91\u001b[0m, in \u001b[0;36mconvert_to_mitiq\u001b[0;34m(circuit)\u001b[0m\n\u001b[1;32m     89\u001b[0m     package \u001b[38;5;241m=\u001b[39m circuit\u001b[38;5;241m.\u001b[39m\u001b[38;5;18m__module__\u001b[39m\n\u001b[1;32m     90\u001b[0m \u001b[38;5;28;01mexcept\u001b[39;00m \u001b[38;5;167;01mAttributeError\u001b[39;00m:\n\u001b[0;32m---> 91\u001b[0m     \u001b[38;5;28;01mraise\u001b[39;00m UnsupportedCircuitError(\n\u001b[1;32m     92\u001b[0m         \u001b[38;5;124m\"\u001b[39m\u001b[38;5;124mCould not determine the package of the input circuit.\u001b[39m\u001b[38;5;124m\"\u001b[39m\n\u001b[1;32m     93\u001b[0m     )\n\u001b[1;32m     95\u001b[0m \u001b[38;5;28;01mif\u001b[39;00m \u001b[38;5;124m\"\u001b[39m\u001b[38;5;124mqiskit\u001b[39m\u001b[38;5;124m\"\u001b[39m \u001b[38;5;129;01min\u001b[39;00m package:\n\u001b[1;32m     96\u001b[0m     \u001b[38;5;28;01mfrom\u001b[39;00m \u001b[38;5;21;01mmitiq\u001b[39;00m\u001b[38;5;21;01m.\u001b[39;00m\u001b[38;5;21;01minterface\u001b[39;00m\u001b[38;5;21;01m.\u001b[39;00m\u001b[38;5;21;01mmitiq_qiskit\u001b[39;00m\u001b[38;5;21;01m.\u001b[39;00m\u001b[38;5;21;01mconversions\u001b[39;00m \u001b[38;5;28;01mimport\u001b[39;00m from_qiskit\n",
      "\u001b[0;31mUnsupportedCircuitError\u001b[0m: Could not determine the package of the input circuit."
     ]
    }
   ],
   "source": [
    "from mitiq import zne\n",
    "from mitiq import SUPPORTED_PROGRAM_TYPES, Executor, benchmarks\n",
    "\n",
    "circuit = benchmarks.generate_rb_circuits(\n",
    "    n_qubits=1,\n",
    "    num_cliffords=2,\n",
    ")[0]\n",
    "\n",
    "from mitiq.zne.scaling import fold_gates_at_random\n",
    "\n",
    "# folded = fold_gates_at_random(circuit, scale_factor=2.)\n",
    "\n",
    "folded_circuits = zne.scaled_circuits(circuit, [1], fold_gates_at_random)\n",
    "\n",
    "results: list[float] = zne.execute_with_zne(folded_circuits, execute)  # circuit execution happens here from the user\n",
    "\n"
   ]
  },
  {
   "cell_type": "code",
   "execution_count": 5,
   "metadata": {},
   "outputs": [
    {
     "ename": "AttributeError",
     "evalue": "module 'mitiq.zne' has no attribute 'visualize_fits'",
     "output_type": "error",
     "traceback": [
      "\u001b[0;31m---------------------------------------------------------------------------\u001b[0m",
      "\u001b[0;31mAttributeError\u001b[0m                            Traceback (most recent call last)",
      "Cell \u001b[0;32mIn[5], line 4\u001b[0m\n\u001b[1;32m      1\u001b[0m \u001b[38;5;66;03m# ------------\u001b[39;00m\n\u001b[1;32m      2\u001b[0m \u001b[38;5;66;03m# NEW FUNCTION\u001b[39;00m\n\u001b[1;32m      3\u001b[0m \u001b[38;5;66;03m# ------------\u001b[39;00m\n\u001b[0;32m----> 4\u001b[0m \u001b[43mzne\u001b[49m\u001b[38;5;241;43m.\u001b[39;49m\u001b[43mvisualize_fits\u001b[49m([\u001b[38;5;241m1\u001b[39m], results)  \u001b[38;5;66;03m# plots data and various fits\u001b[39;00m\n",
      "\u001b[0;31mAttributeError\u001b[0m: module 'mitiq.zne' has no attribute 'visualize_fits'"
     ]
    }
   ],
   "source": [
    "# ------------\n",
    "# NEW FUNCTION\n",
    "# ------------\n",
    "zne.visualize_fits([1], results)  # plots data and various fits"
   ]
  }
 ],
 "metadata": {
  "kernelspec": {
   "display_name": "mitiqenv",
   "language": "python",
   "name": "python3"
  },
  "language_info": {
   "codemirror_mode": {
    "name": "ipython",
    "version": 3
   },
   "file_extension": ".py",
   "mimetype": "text/x-python",
   "name": "python",
   "nbconvert_exporter": "python",
   "pygments_lexer": "ipython3",
   "version": "3.10.15"
  }
 },
 "nbformat": 4,
 "nbformat_minor": 2
}
