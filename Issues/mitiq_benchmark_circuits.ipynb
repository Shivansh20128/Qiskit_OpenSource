{
 "cells": [
  {
   "cell_type": "code",
   "execution_count": 1,
   "metadata": {},
   "outputs": [
    {
     "name": "stdout",
     "output_type": "stream",
     "text": [
      "1.0\n",
      "Error w/o  Mitiq: 0.251\n",
      "Error w Mitiq:    0.063\n"
     ]
    }
   ],
   "source": [
    "# Workflow for all circuits below\n",
    "\n",
    "from mitiq import zne, benchmarks\n",
    "import cirq\n",
    "def execute(circuit, noise_level=0.005):\n",
    "    \"\"\"Returns Tr[ρ |0⟩⟨0|] where ρ is the state prepared by the circuit\n",
    "    with depolarizing noise.\"\"\"\n",
    "    noisy_circuit = circuit.with_noise(cirq.depolarize(p=noise_level))\n",
    "    return (\n",
    "        cirq.DensityMatrixSimulator()\n",
    "        .simulate(noisy_circuit)\n",
    "        .final_density_matrix[0, 0]\n",
    "        .real\n",
    "    )\n",
    "\n",
    "circuit = benchmarks.generate_rb_circuits(n_qubits=1, num_cliffords=50)[0] # For rb_circuits, but you can use any benchmark circuit\n",
    "\n",
    "true_value = execute(circuit, noise_level=0.0)      # Ideal quantum computer\n",
    "print(true_value)\n",
    "noisy_value = execute(circuit)                      # Noisy quantum computer\n",
    "zne_value = zne.execute_with_zne(circuit, execute)  # Noisy quantum computer + Mitiq\n",
    "\n",
    "print(f\"Error w/o  Mitiq: {abs((true_value - noisy_value) / true_value):.3f}\")\n",
    "print(f\"Error w Mitiq:    {abs((true_value - zne_value) / true_value):.3f}\")"
   ]
  },
  {
   "cell_type": "markdown",
   "metadata": {},
   "source": [
    "# GHZ Circuits"
   ]
  },
  {
   "cell_type": "code",
   "execution_count": 2,
   "metadata": {},
   "outputs": [
    {
     "name": "stdout",
     "output_type": "stream",
     "text": [
      "0: ───H───@───────────────────────────────────\n",
      "          │\n",
      "1: ───────X───@───────────────────────────────\n",
      "              │\n",
      "2: ───────────X───@───────────────────────────\n",
      "                  │\n",
      "3: ───────────────X───@───────────────────────\n",
      "                      │\n",
      "4: ───────────────────X───@───────────────────\n",
      "                          │\n",
      "5: ───────────────────────X───@───────────────\n",
      "                              │\n",
      "6: ───────────────────────────X───@───────────\n",
      "                                  │\n",
      "7: ───────────────────────────────X───@───────\n",
      "                                      │\n",
      "8: ───────────────────────────────────X───@───\n",
      "                                          │\n",
      "9: ───────────────────────────────────────X───\n",
      "Error w/o  Mitiq: 0.279\n",
      "Error w Mitiq:    0.019\n"
     ]
    }
   ],
   "source": [
    "from mitiq import benchmarks, zne\n",
    "from mitiq.benchmarks import generate_ghz_circuit\n",
    "circuit = generate_ghz_circuit(n_qubits=10)\n",
    "\n",
    "print(circuit)\n",
    "\n",
    "true_value = execute(circuit, noise_level=0.0)      # Ideal quantum computer\n",
    "noisy_value = execute(circuit)                      # Noisy quantum computer\n",
    "zne_value = zne.execute_with_zne(circuit, execute)  # Noisy quantum computer + Mitiq\n",
    "\n",
    "print(f\"Error w/o  Mitiq: {abs((true_value - noisy_value) / true_value):.3f}\")\n",
    "print(f\"Error w Mitiq:    {abs((true_value - zne_value) / true_value):.3f}\")"
   ]
  },
  {
   "cell_type": "markdown",
   "metadata": {},
   "source": [
    "# Mirror Circuits"
   ]
  },
  {
   "cell_type": "code",
   "execution_count": 3,
   "metadata": {},
   "outputs": [
    {
     "name": "stdout",
     "output_type": "stream",
     "text": [
      "                                   ┌────────┐                       ┌──┐                                    ┌──────┐               ┌──┐               ┌──┐                ┌───────┐                        ┌───────┐               ┌──────┐                ┌──────┐                        ┌───────┐               ┌───────┐                ┌──────┐                        ┌──────┐               ┌──┐                ┌──┐                ┌───────┐                                     ┌──┐                         ┌───────┐\n",
      "0: ───X^0.5────Y^0.5───────────I────@───────────────────────────Z────Y─────X^0.5───I───@────────────────Z────@─────────────────Z────@─────────────Z────@──────────────Z────Y^-0.5─────X^-0.5───Y^0.5───X────@──────────────────X────Y^0.5─────X^-0.5───Y────@─────────────────X─────────────@──────────I───X^0.5────Y^-0.5─────Z─────────────@─────────X───Y^-0.5───X^0.5────Y^0.5─────I────────────@─────Y─────────────@─────X─────────────@──────────Y────────────@───────Y───X^-0.5────Y─────Y──────────────────────@──────────X────────────Y^-0.5───X^-0.5───\n",
      "                                    │                                                  │                     │                      │                  │                                                    │                                               │                               │                                                │                                                      │                   │                   │                       │                                                  │\n",
      "1: ───Y^-0.5───X^0.5───────────Z────┼@──────────────────────────X────@─────────────I───@────────────────Y────┼Y^0.5────X^0.5───I────┼@────────────Z────┼@─────────────I────@───────────────────────────X────┼Y^-0.5────X^0.5───Z────@──────────────────Z────@─────────────────I─────────────@──────────Z────────────@──────────Z───X^-0.5────┼Y^0.5────I─────────────────────@─────────I────────────┼@────Z─────────────┼@────Y───X^-0.5────┼Y^-0.5────Y────────────@───────I─────────────@─────X──────────────────────┼@─────────X────────────X^-0.5───Y^0.5────\n",
      "                                    ││                               │                                       │                      ││                 ││                  │                                │                       │                                                                               │                        │                               │                      ││                  ││                  │                                             │                            ││\n",
      "2: ───Y^-0.5───I───────────────I────┼┼Y^-0.5────X^0.5───Y^0.5───Z────┼@────────────Y───@────────────────Z────┼@────────────────X────┼@────────────I────@┼─────────────X────┼─────@─────────────────────Z────@──────────────────I────┼────@─────────────Y────@─────────────────X─────────────@──────────Z────────────┼─────@────Y─────────────@─────────Z─────────────────────┼────@────Y────────────@┼────X─────────────┼@────Z─────────────┼@─────────Z────────────@───────I─────────────┼@────X───Y^-0.5───X^-0.5────┼┼Y^0.5────Y────────────I────────Y^0.5────\n",
      "                                    ││                               ││                │                     ││                     │                   │                  │     │                                                  │    │                  │                               │                       │     │                                                  │    │                  │                  │                   ││                      │                     ││                           ││\n",
      "3: ───X^0.5────Y^0.5───────────X────@┼──────────────────────────I────┼@────────────I───@────────────────I────@┼────────────────I────@─────────────X─────@─────────────Y────@─────┼─────────────────────Z────@──────────────────I────@────┼─────────────I────┼Y^0.5────X^0.5───Y───X^-0.5────┼Y^-0.5────Z────────────@─────┼────I─────────────@─────────I─────────────────────@────┼────I─────────────@────Z─────────────@─────Y─────────────@┼─────────X────────────@───────Z─────────────┼@────Z──────────────────────@┼─────────I────────────Y^-0.5───X^-0.5───\n",
      "                                     │                               │                                        │                                                                  │                          │                            │                  │                               │                             │                  │                                    │                                                          │                                            │                             │\n",
      "4: ───Y^0.5────X^0.5───Y^0.5───I─────@──────────────────────────I────@─────────────Z───Y^-0.5───X^0.5───Y─────@────────────────X────X─────Y^0.5───Z────Y─────X^-0.5───Z──────────@─────────────────────Y────@──────────────────X─────────@─────────────I────@─────────────────I─────────────@──────────I──────────────────@────Y─────────────@─────────Y──────────────────────────@────Y───X^0.5────Y─────I───Y^-0.5────X─────Z──────────────@─────────Z───X^-0.5───Y^0.5───X─────────────@─────Z───────────────────────@─────────I───Y^-0.5───X^-0.5───Y^-0.5───\n",
      "                                   └────────┘                       └──┘                                    └──────┘               └──┘               └──┘                └───────┘                        └───────┘               └──────┘                └──────┘                        └───────┘               └───────┘                └──────┘                        └──────┘               └──┘                └──┘                └───────┘                                     └──┘                         └───────┘\n",
      "0.0\n",
      "Error w/o  Mitiq: inf\n",
      "Error w Mitiq:    inf\n"
     ]
    },
    {
     "name": "stderr",
     "output_type": "stream",
     "text": [
      "/var/folders/10/zmrdxpt51nd4kstwdsmj6jzm0000gp/T/ipykernel_39581/1572764794.py:15: RuntimeWarning: divide by zero encountered in scalar divide\n",
      "  print(f\"Error w/o  Mitiq: {abs((true_value - noisy_value) / true_value):.3f}\")\n",
      "/var/folders/10/zmrdxpt51nd4kstwdsmj6jzm0000gp/T/ipykernel_39581/1572764794.py:16: RuntimeWarning: divide by zero encountered in scalar divide\n",
      "  print(f\"Error w Mitiq:    {abs((true_value - zne_value) / true_value):.3f}\")\n"
     ]
    }
   ],
   "source": [
    "from mitiq import benchmarks, zne\n",
    "import networkx as nx\n",
    "from mitiq.benchmarks import generate_mirror_circuit\n",
    "connectivity_graph = nx.complete_graph(5)\n",
    "\n",
    "circuit, _ = generate_mirror_circuit(nlayers=10, two_qubit_gate_prob=1.0, connectivity_graph=connectivity_graph,two_qubit_gate_name=\"CZ\", seed=2)\n",
    "\n",
    "print(circuit)\n",
    "true_value = execute(circuit, noise_level=0.0)      # Ideal quantum computer\n",
    "\n",
    "print(true_value)\n",
    "noisy_value = execute(circuit)                      # Noisy quantum computer\n",
    "zne_value = zne.execute_with_zne(circuit, execute)  # Noisy quantum computer + Mitiq\n",
    "\n",
    "print(f\"Error w/o  Mitiq: {abs((true_value - noisy_value) / true_value):.3f}\")\n",
    "print(f\"Error w Mitiq:    {abs((true_value - zne_value) / true_value):.3f}\")"
   ]
  },
  {
   "cell_type": "markdown",
   "metadata": {},
   "source": [
    "# Random Cliffords"
   ]
  },
  {
   "cell_type": "code",
   "execution_count": 7,
   "metadata": {},
   "outputs": [
    {
     "name": "stdout",
     "output_type": "stream",
     "text": [
      "1.0\n",
      "Error w/o  Mitiq: 0.429\n",
      "Error w Mitiq:    0.155\n"
     ]
    }
   ],
   "source": [
    "import networkx as nx\n",
    "from numpy.random import RandomState\n",
    "from \n",
    "connectivity_graph = nx.complete_graph(10)\n",
    "\n",
    "rs = RandomState(12345)\n",
    "circuit= benchmarks.mirror_circuits.random_cliffords(connectivity_graph=connectivity_graph, random_state = rs)\n",
    "\n",
    "true_value = execute(circuit, noise_level=0.0)      # Ideal quantum computer\n",
    "\n",
    "print(true_value)\n",
    "noisy_value = execute(circuit)                      # Noisy quantum computer\n",
    "zne_value = zne.execute_with_zne(circuit, execute)  # Noisy quantum computer + Mitiq\n",
    "\n",
    "print(f\"Error w/o  Mitiq: {abs((true_value - noisy_value) / true_value):.3f}\")\n",
    "print(f\"Error w Mitiq:    {abs((true_value - zne_value) / true_value):.3f}\")"
   ]
  },
  {
   "cell_type": "markdown",
   "metadata": {},
   "source": [
    "# Random Paulis"
   ]
  },
  {
   "cell_type": "code",
   "execution_count": 5,
   "metadata": {},
   "outputs": [
    {
     "name": "stdout",
     "output_type": "stream",
     "text": [
      "0.0\n",
      "Error w/o  Mitiq: inf\n",
      "Error w Mitiq:    inf\n"
     ]
    },
    {
     "name": "stderr",
     "output_type": "stream",
     "text": [
      "/var/folders/10/zmrdxpt51nd4kstwdsmj6jzm0000gp/T/ipykernel_37154/505655817.py:14: RuntimeWarning: divide by zero encountered in scalar divide\n",
      "  print(f\"Error w/o  Mitiq: {abs((true_value - noisy_value) / true_value):.3f}\")\n",
      "/var/folders/10/zmrdxpt51nd4kstwdsmj6jzm0000gp/T/ipykernel_37154/505655817.py:15: RuntimeWarning: divide by zero encountered in scalar divide\n",
      "  print(f\"Error w Mitiq:    {abs((true_value - zne_value) / true_value):.3f}\")\n"
     ]
    }
   ],
   "source": [
    "from numpy.random import RandomState\n",
    "import networkx as nx\n",
    "\n",
    "connectivity_graph = nx.complete_graph(15)\n",
    "rs = RandomState(12345)\n",
    "circuit=benchmarks.mirror_circuits.random_paulis(connectivity_graph=connectivity_graph, random_state=rs)\n",
    "\n",
    "true_value = execute(circuit, noise_level=0.0)      # Ideal quantum computer\n",
    "\n",
    "print(true_value)\n",
    "noisy_value = execute(circuit)                      # Noisy quantum computer\n",
    "zne_value = zne.execute_with_zne(circuit, execute)  # Noisy quantum computer + Mitiq\n",
    "\n",
    "print(f\"Error w/o  Mitiq: {abs((true_value - noisy_value) / true_value):.3f}\")\n",
    "print(f\"Error w Mitiq:    {abs((true_value - zne_value) / true_value):.3f}\")"
   ]
  },
  {
   "cell_type": "markdown",
   "metadata": {},
   "source": [
    "# Random Single Cliffords"
   ]
  },
  {
   "cell_type": "code",
   "execution_count": 4,
   "metadata": {},
   "outputs": [
    {
     "name": "stdout",
     "output_type": "stream",
     "text": [
      "0.0\n",
      "Error w/o  Mitiq: inf\n",
      "Error w Mitiq:    inf\n"
     ]
    },
    {
     "name": "stderr",
     "output_type": "stream",
     "text": [
      "/var/folders/10/zmrdxpt51nd4kstwdsmj6jzm0000gp/T/ipykernel_37154/571626387.py:14: RuntimeWarning: divide by zero encountered in scalar divide\n",
      "  print(f\"Error w/o  Mitiq: {abs((true_value - noisy_value) / true_value):.3f}\")\n",
      "/var/folders/10/zmrdxpt51nd4kstwdsmj6jzm0000gp/T/ipykernel_37154/571626387.py:15: RuntimeWarning: divide by zero encountered in scalar divide\n",
      "  print(f\"Error w Mitiq:    {abs((true_value - zne_value) / true_value):.3f}\")\n"
     ]
    }
   ],
   "source": [
    "from numpy.random import RandomState\n",
    "import networkx as nx\n",
    "\n",
    "connectivity_graph = nx.complete_graph(10)\n",
    "rs = RandomState(63782)\n",
    "circuit=benchmarks.mirror_circuits.random_single_cliffords(connectivity_graph=connectivity_graph, random_state=rs)\n",
    "\n",
    "true_value = execute(circuit, noise_level=0.0)      # Ideal quantum computer\n",
    "\n",
    "print(true_value)\n",
    "noisy_value = execute(circuit)                      # Noisy quantum computer\n",
    "zne_value = zne.execute_with_zne(circuit, execute)  # Noisy quantum computer + Mitiq\n",
    "\n",
    "print(f\"Error w/o  Mitiq: {abs((true_value - noisy_value) / true_value):.3f}\")\n",
    "print(f\"Error w Mitiq:    {abs((true_value - zne_value) / true_value):.3f}\")"
   ]
  },
  {
   "cell_type": "markdown",
   "metadata": {},
   "source": [
    "# Mirror Quantum Volume Circuits"
   ]
  },
  {
   "cell_type": "code",
   "execution_count": 4,
   "metadata": {},
   "outputs": [
    {
     "ename": "AttributeError",
     "evalue": "module 'mitiq.benchmarks' has no attribute 'mirror_qv_circuits'",
     "output_type": "error",
     "traceback": [
      "\u001b[0;31m---------------------------------------------------------------------------\u001b[0m",
      "\u001b[0;31mAttributeError\u001b[0m                            Traceback (most recent call last)",
      "Cell \u001b[0;32mIn[4], line 2\u001b[0m\n\u001b[1;32m      1\u001b[0m \u001b[38;5;28;01mfrom\u001b[39;00m \u001b[38;5;21;01mmitiq\u001b[39;00m\u001b[38;5;21;01m.\u001b[39;00m\u001b[38;5;21;01mbenchmarks\u001b[39;00m \u001b[38;5;28;01mimport\u001b[39;00m generate_mirror_circuit\n\u001b[0;32m----> 2\u001b[0m circuit\u001b[38;5;241m=\u001b[39m \u001b[43mbenchmarks\u001b[49m\u001b[38;5;241;43m.\u001b[39;49m\u001b[43mmirror_qv_circuits\u001b[49m\u001b[38;5;241m.\u001b[39mgenerate_mirror_qv_circuit(num_qubits\u001b[38;5;241m=\u001b[39m\u001b[38;5;241m10\u001b[39m, depth\u001b[38;5;241m=\u001b[39m\u001b[38;5;241m2\u001b[39m)\n\u001b[1;32m      4\u001b[0m true_value \u001b[38;5;241m=\u001b[39m execute(circuit, noise_level\u001b[38;5;241m=\u001b[39m\u001b[38;5;241m0.0\u001b[39m)      \u001b[38;5;66;03m# Ideal quantum computer\u001b[39;00m\n\u001b[1;32m      6\u001b[0m \u001b[38;5;28mprint\u001b[39m(true_value)\n",
      "\u001b[0;31mAttributeError\u001b[0m: module 'mitiq.benchmarks' has no attribute 'mirror_qv_circuits'"
     ]
    }
   ],
   "source": [
    "from mitiq.benchmarks import generate_mirror_circuit\n",
    "circuit= benchmarks.mirror_qv_circuits.generate_mirror_qv_circuit(num_qubits=10, depth=2)\n",
    "\n",
    "true_value = execute(circuit, noise_level=0.0)      # Ideal quantum computer\n",
    "\n",
    "print(true_value)\n",
    "noisy_value = execute(circuit)                      # Noisy quantum computer\n",
    "zne_value = zne.execute_with_zne(circuit, execute)  # Noisy quantum computer + Mitiq\n",
    "\n",
    "print(f\"Error w/o  Mitiq: {abs((true_value - noisy_value) / true_value):.3f}\")\n",
    "print(f\"Error w Mitiq:    {abs((true_value - zne_value) / true_value):.3f}\")"
   ]
  },
  {
   "cell_type": "markdown",
   "metadata": {},
   "source": [
    "# Quantum Phase Estimation Circuits"
   ]
  },
  {
   "cell_type": "code",
   "execution_count": 5,
   "metadata": {},
   "outputs": [
    {
     "name": "stdout",
     "output_type": "stream",
     "text": [
      "1.0\n",
      "Error w/o  Mitiq: 0.445\n",
      "Error w Mitiq:    0.099\n"
     ]
    }
   ],
   "source": [
    "from mitiq.benchmarks import generate_w_circuit\n",
    "\n",
    "circuit = generate_w_circuit(n_qubits=10)\n",
    "\n",
    "true_value = execute(circuit, noise_level=0.0)      # Ideal quantum computer\n",
    "\n",
    "print(true_value)\n",
    "noisy_value = execute(circuit)                      # Noisy quantum computer\n",
    "zne_value = zne.execute_with_zne(circuit, execute)  # Noisy quantum computer + Mitiq\n",
    "\n",
    "print(f\"Error w/o  Mitiq: {abs((true_value - noisy_value) / true_value):.3f}\")\n",
    "print(f\"Error w Mitiq:    {abs((true_value - zne_value) / true_value):.3f}\")"
   ]
  },
  {
   "cell_type": "code",
   "execution_count": 6,
   "metadata": {},
   "outputs": [
    {
     "name": "stdout",
     "output_type": "stream",
     "text": [
      "0.9999998\n",
      "Error w/o  Mitiq: 0.178\n",
      "Error w Mitiq:    0.060\n"
     ]
    }
   ],
   "source": [
    "from mitiq.benchmarks import generate_qpe_circuit\n",
    "\n",
    "circuit = generate_qpe_circuit(evalue_reg=3)\n",
    "\n",
    "true_value = execute(circuit, noise_level=0.0)      # Ideal quantum computer\n",
    "\n",
    "print(true_value)\n",
    "noisy_value = execute(circuit)                      # Noisy quantum computer\n",
    "zne_value = zne.execute_with_zne(circuit, execute)  # Noisy quantum computer + Mitiq\n",
    "\n",
    "print(f\"Error w/o  Mitiq: {abs((true_value - noisy_value) / true_value):.3f}\")\n",
    "print(f\"Error w Mitiq:    {abs((true_value - zne_value) / true_value):.3f}\")"
   ]
  },
  {
   "cell_type": "markdown",
   "metadata": {},
   "source": [
    "# Quantum Volume Circuits"
   ]
  },
  {
   "cell_type": "code",
   "execution_count": 7,
   "metadata": {},
   "outputs": [
    {
     "name": "stdout",
     "output_type": "stream",
     "text": [
      "0.081302404\n",
      "Error w/o  Mitiq: 0.054\n",
      "Error w Mitiq:    0.052\n"
     ]
    }
   ],
   "source": [
    "from mitiq.benchmarks import generate_quantum_volume_circuit\n",
    "\n",
    "circuit,_ = generate_quantum_volume_circuit(num_qubits=4, depth=10)\n",
    "\n",
    "true_value = execute(circuit, noise_level=0.0)      # Ideal quantum computer\n",
    "\n",
    "print(true_value)\n",
    "noisy_value = execute(circuit)                      # Noisy quantum computer\n",
    "zne_value = zne.execute_with_zne(circuit, execute)  # Noisy quantum computer + Mitiq\n",
    "\n",
    "print(f\"Error w/o  Mitiq: {abs((true_value - noisy_value) / true_value):.3f}\")\n",
    "print(f\"Error w Mitiq:    {abs((true_value - zne_value) / true_value):.3f}\")"
   ]
  },
  {
   "cell_type": "markdown",
   "metadata": {},
   "source": [
    "# Randomized Benchmarking Circuits"
   ]
  },
  {
   "cell_type": "code",
   "execution_count": 8,
   "metadata": {},
   "outputs": [
    {
     "name": "stdout",
     "output_type": "stream",
     "text": [
      "1.0\n",
      "Error w/o  Mitiq: 0.035\n",
      "Error w Mitiq:    0.009\n"
     ]
    }
   ],
   "source": [
    "from mitiq.benchmarks import generate_rb_circuits\n",
    "\n",
    "circuits = generate_rb_circuits(n_qubits=1, num_cliffords=5)\n",
    "\n",
    "circuit=circuits[0]\n",
    "true_value = execute(circuit, noise_level=0.0)      # Ideal quantum computer\n",
    "\n",
    "print(true_value)\n",
    "noisy_value = execute(circuit)                      # Noisy quantum computer\n",
    "zne_value = zne.execute_with_zne(circuit, execute)  # Noisy quantum computer + Mitiq\n",
    "\n",
    "print(f\"Error w/o  Mitiq: {abs((true_value - noisy_value) / true_value):.3f}\")\n",
    "print(f\"Error w Mitiq:    {abs((true_value - zne_value) / true_value):.3f}\")"
   ]
  },
  {
   "cell_type": "markdown",
   "metadata": {},
   "source": [
    "# Rotated Randomized Benchmarking Circuits"
   ]
  },
  {
   "cell_type": "code",
   "execution_count": 9,
   "metadata": {},
   "outputs": [
    {
     "name": "stdout",
     "output_type": "stream",
     "text": [
      "0.49239343\n",
      "Error w/o  Mitiq: 0.001\n",
      "Error w Mitiq:    0.000\n"
     ]
    }
   ],
   "source": [
    "from mitiq.benchmarks import generate_rotated_rb_circuits\n",
    "\n",
    "circuits = generate_rotated_rb_circuits(n_qubits=1, num_cliffords=5)\n",
    "\n",
    "circuit=circuits[0]\n",
    "true_value = execute(circuit, noise_level=0.0)      # Ideal quantum computer\n",
    "\n",
    "print(true_value)\n",
    "noisy_value = execute(circuit)                      # Noisy quantum computer\n",
    "zne_value = zne.execute_with_zne(circuit, execute)  # Noisy quantum computer + Mitiq\n",
    "\n",
    "print(f\"Error w/o  Mitiq: {abs((true_value - noisy_value) / true_value):.3f}\")\n",
    "print(f\"Error w Mitiq:    {abs((true_value - zne_value) / true_value):.3f}\")"
   ]
  },
  {
   "cell_type": "markdown",
   "metadata": {},
   "source": [
    "# Randomized Clifford+T Circuits"
   ]
  },
  {
   "cell_type": "code",
   "execution_count": 10,
   "metadata": {},
   "outputs": [
    {
     "name": "stdout",
     "output_type": "stream",
     "text": [
      "0.9999999\n",
      "Error w/o  Mitiq: 0.039\n",
      "Error w Mitiq:    0.000\n"
     ]
    }
   ],
   "source": [
    "from mitiq.benchmarks import generate_random_clifford_t_circuit\n",
    "\n",
    "circuit = generate_random_clifford_t_circuit(num_qubits=10, num_oneq_cliffords=2, num_twoq_cliffords=2, num_t_gates=2)\n",
    "\n",
    "true_value = execute(circuit, noise_level=0.0)      # Ideal quantum computer\n",
    "\n",
    "print(true_value)\n",
    "noisy_value = execute(circuit)                      # Noisy quantum computer\n",
    "zne_value = zne.execute_with_zne(circuit, execute)  # Noisy quantum computer + Mitiq\n",
    "\n",
    "print(f\"Error w/o  Mitiq: {abs((true_value - noisy_value) / true_value):.3f}\")\n",
    "print(f\"Error w Mitiq:    {abs((true_value - zne_value) / true_value):.3f}\")"
   ]
  },
  {
   "cell_type": "markdown",
   "metadata": {},
   "source": [
    "# W State Circuits"
   ]
  },
  {
   "cell_type": "code",
   "execution_count": 11,
   "metadata": {},
   "outputs": [
    {
     "name": "stdout",
     "output_type": "stream",
     "text": [
      "1.0\n"
     ]
    }
   ],
   "source": [
    "from mitiq.benchmarks import generate_w_circuit\n",
    "\n",
    "circuit = generate_w_circuit(n_qubits=10)\n",
    "\n",
    "true_value = execute(circuit, noise_level=0.0)      # Ideal quantum computer\n",
    "\n",
    "print(true_value)\n",
    "noisy_value = execute(circuit)                      # Noisy quantum computer\n",
    "zne_value = zne.execute_with_zne(circuit, execute)  # Noisy quantum computer + Mitiq\n",
    "\n",
    "print(f\"Error w/o  Mitiq: {abs((true_value - noisy_value) / true_value):.3f}\")\n",
    "print(f\"Error w Mitiq:    {abs((true_value - zne_value) / true_value):.3f}\")"
   ]
  }
 ],
 "metadata": {
  "kernelspec": {
   "display_name": "mitiqenv",
   "language": "python",
   "name": "python3"
  },
  "language_info": {
   "codemirror_mode": {
    "name": "ipython",
    "version": 3
   },
   "file_extension": ".py",
   "mimetype": "text/x-python",
   "name": "python",
   "nbconvert_exporter": "python",
   "pygments_lexer": "ipython3",
   "version": "3.10.15"
  }
 },
 "nbformat": 4,
 "nbformat_minor": 2
}
