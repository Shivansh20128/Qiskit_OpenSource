{
 "cells": [
  {
   "cell_type": "code",
   "execution_count": 1,
   "metadata": {},
   "outputs": [
    {
     "name": "stdout",
     "output_type": "stream",
     "text": [
      "1.0\n",
      "Error w/o  Mitiq: 0.251\n",
      "Error w Mitiq:    0.063\n"
     ]
    }
   ],
   "source": [
    "# Workflow for all circuits below\n",
    "\n",
    "from mitiq import zne, benchmarks\n",
    "import cirq\n",
    "def execute(circuit, noise_level=0.005):\n",
    "    \"\"\"Returns Tr[ρ |0⟩⟨0|] where ρ is the state prepared by the circuit\n",
    "    with depolarizing noise.\"\"\"\n",
    "    noisy_circuit = circuit.with_noise(cirq.depolarize(p=noise_level))\n",
    "    return (\n",
    "        cirq.DensityMatrixSimulator()\n",
    "        .simulate(noisy_circuit)\n",
    "        .final_density_matrix[0, 0]\n",
    "        .real\n",
    "    )\n",
    "\n",
    "circuit = benchmarks.generate_rb_circuits(n_qubits=1, num_cliffords=50)[0] # For rb_circuits, but you can use any benchmark circuit\n",
    "\n",
    "true_value = execute(circuit, noise_level=0.0)      # Ideal quantum computer\n",
    "print(true_value)\n",
    "noisy_value = execute(circuit)                      # Noisy quantum computer\n",
    "zne_value = zne.execute_with_zne(circuit, execute)  # Noisy quantum computer + Mitiq\n",
    "\n",
    "print(f\"Error w/o  Mitiq: {abs((true_value - noisy_value) / true_value):.3f}\")\n",
    "print(f\"Error w Mitiq:    {abs((true_value - zne_value) / true_value):.3f}\")"
   ]
  },
  {
   "cell_type": "markdown",
   "metadata": {},
   "source": [
    "# GHZ Circuits"
   ]
  },
  {
   "cell_type": "code",
   "execution_count": 3,
   "metadata": {},
   "outputs": [
    {
     "name": "stdout",
     "output_type": "stream",
     "text": [
      "Error w/o  Mitiq: 0.279\n",
      "Error w Mitiq:    0.025\n"
     ]
    }
   ],
   "source": [
    "from mitiq import benchmarks, zne\n",
    "circuit = benchmarks.generate_ghz_circuit(n_qubits=10)\n",
    "\n",
    "true_value = execute(circuit, noise_level=0.0)      # Ideal quantum computer\n",
    "noisy_value = execute(circuit)                      # Noisy quantum computer\n",
    "zne_value = zne.execute_with_zne(circuit, execute)  # Noisy quantum computer + Mitiq\n",
    "\n",
    "print(f\"Error w/o  Mitiq: {abs((true_value - noisy_value) / true_value):.3f}\")\n",
    "print(f\"Error w Mitiq:    {abs((true_value - zne_value) / true_value):.3f}\")"
   ]
  },
  {
   "cell_type": "markdown",
   "metadata": {},
   "source": [
    "# Mirror Circuits"
   ]
  },
  {
   "cell_type": "code",
   "execution_count": 6,
   "metadata": {},
   "outputs": [
    {
     "name": "stdout",
     "output_type": "stream",
     "text": [
      "0.0\n",
      "Error w/o  Mitiq: inf\n",
      "Error w Mitiq:    inf\n"
     ]
    },
    {
     "name": "stderr",
     "output_type": "stream",
     "text": [
      "/var/folders/10/zmrdxpt51nd4kstwdsmj6jzm0000gp/T/ipykernel_37154/1486320445.py:14: RuntimeWarning: divide by zero encountered in scalar divide\n",
      "  print(f\"Error w/o  Mitiq: {abs((true_value - noisy_value) / true_value):.3f}\")\n",
      "/var/folders/10/zmrdxpt51nd4kstwdsmj6jzm0000gp/T/ipykernel_37154/1486320445.py:15: RuntimeWarning: divide by zero encountered in scalar divide\n",
      "  print(f\"Error w Mitiq:    {abs((true_value - zne_value) / true_value):.3f}\")\n"
     ]
    }
   ],
   "source": [
    "from mitiq import benchmarks, zne\n",
    "import networkx as nx\n",
    "\n",
    "connectivity_graph = nx.complete_graph(10)\n",
    "\n",
    "circuit, _ = benchmarks.mirror_circuits.generate_mirror_circuit(nlayers=10, two_qubit_gate_prob=1.0, connectivity_graph=connectivity_graph,two_qubit_gate_name=\"CZ\", seed=2)\n",
    "\n",
    "true_value = execute(circuit, noise_level=0.0)      # Ideal quantum computer\n",
    "\n",
    "print(true_value)\n",
    "noisy_value = execute(circuit)                      # Noisy quantum computer\n",
    "zne_value = zne.execute_with_zne(circuit, execute)  # Noisy quantum computer + Mitiq\n",
    "\n",
    "print(f\"Error w/o  Mitiq: {abs((true_value - noisy_value) / true_value):.3f}\")\n",
    "print(f\"Error w Mitiq:    {abs((true_value - zne_value) / true_value):.3f}\")"
   ]
  },
  {
   "cell_type": "markdown",
   "metadata": {},
   "source": [
    "# Random Cliffords"
   ]
  },
  {
   "cell_type": "code",
   "execution_count": 7,
   "metadata": {},
   "outputs": [
    {
     "name": "stdout",
     "output_type": "stream",
     "text": [
      "1.0\n",
      "Error w/o  Mitiq: 0.429\n",
      "Error w Mitiq:    0.155\n"
     ]
    }
   ],
   "source": [
    "import networkx as nx\n",
    "from numpy.random import RandomState\n",
    "\n",
    "connectivity_graph = nx.complete_graph(10)\n",
    "\n",
    "rs = RandomState(12345)\n",
    "circuit= benchmarks.mirror_circuits.random_cliffords(connectivity_graph=connectivity_graph, random_state = rs)\n",
    "\n",
    "true_value = execute(circuit, noise_level=0.0)      # Ideal quantum computer\n",
    "\n",
    "print(true_value)\n",
    "noisy_value = execute(circuit)                      # Noisy quantum computer\n",
    "zne_value = zne.execute_with_zne(circuit, execute)  # Noisy quantum computer + Mitiq\n",
    "\n",
    "print(f\"Error w/o  Mitiq: {abs((true_value - noisy_value) / true_value):.3f}\")\n",
    "print(f\"Error w Mitiq:    {abs((true_value - zne_value) / true_value):.3f}\")"
   ]
  },
  {
   "cell_type": "markdown",
   "metadata": {},
   "source": [
    "# Random Paulis"
   ]
  },
  {
   "cell_type": "code",
   "execution_count": 5,
   "metadata": {},
   "outputs": [
    {
     "name": "stdout",
     "output_type": "stream",
     "text": [
      "0.0\n",
      "Error w/o  Mitiq: inf\n",
      "Error w Mitiq:    inf\n"
     ]
    },
    {
     "name": "stderr",
     "output_type": "stream",
     "text": [
      "/var/folders/10/zmrdxpt51nd4kstwdsmj6jzm0000gp/T/ipykernel_37154/505655817.py:14: RuntimeWarning: divide by zero encountered in scalar divide\n",
      "  print(f\"Error w/o  Mitiq: {abs((true_value - noisy_value) / true_value):.3f}\")\n",
      "/var/folders/10/zmrdxpt51nd4kstwdsmj6jzm0000gp/T/ipykernel_37154/505655817.py:15: RuntimeWarning: divide by zero encountered in scalar divide\n",
      "  print(f\"Error w Mitiq:    {abs((true_value - zne_value) / true_value):.3f}\")\n"
     ]
    }
   ],
   "source": [
    "from numpy.random import RandomState\n",
    "import networkx as nx\n",
    "\n",
    "connectivity_graph = nx.complete_graph(15)\n",
    "rs = RandomState(12345)\n",
    "circuit=benchmarks.mirror_circuits.random_paulis(connectivity_graph=connectivity_graph, random_state=rs)\n",
    "\n",
    "true_value = execute(circuit, noise_level=0.0)      # Ideal quantum computer\n",
    "\n",
    "print(true_value)\n",
    "noisy_value = execute(circuit)                      # Noisy quantum computer\n",
    "zne_value = zne.execute_with_zne(circuit, execute)  # Noisy quantum computer + Mitiq\n",
    "\n",
    "print(f\"Error w/o  Mitiq: {abs((true_value - noisy_value) / true_value):.3f}\")\n",
    "print(f\"Error w Mitiq:    {abs((true_value - zne_value) / true_value):.3f}\")"
   ]
  },
  {
   "cell_type": "markdown",
   "metadata": {},
   "source": [
    "# Random Single Cliffords"
   ]
  },
  {
   "cell_type": "code",
   "execution_count": 4,
   "metadata": {},
   "outputs": [
    {
     "name": "stdout",
     "output_type": "stream",
     "text": [
      "0.0\n",
      "Error w/o  Mitiq: inf\n",
      "Error w Mitiq:    inf\n"
     ]
    },
    {
     "name": "stderr",
     "output_type": "stream",
     "text": [
      "/var/folders/10/zmrdxpt51nd4kstwdsmj6jzm0000gp/T/ipykernel_37154/571626387.py:14: RuntimeWarning: divide by zero encountered in scalar divide\n",
      "  print(f\"Error w/o  Mitiq: {abs((true_value - noisy_value) / true_value):.3f}\")\n",
      "/var/folders/10/zmrdxpt51nd4kstwdsmj6jzm0000gp/T/ipykernel_37154/571626387.py:15: RuntimeWarning: divide by zero encountered in scalar divide\n",
      "  print(f\"Error w Mitiq:    {abs((true_value - zne_value) / true_value):.3f}\")\n"
     ]
    }
   ],
   "source": [
    "from numpy.random import RandomState\n",
    "import networkx as nx\n",
    "\n",
    "connectivity_graph = nx.complete_graph(10)\n",
    "rs = RandomState(63782)\n",
    "circuit=benchmarks.mirror_circuits.random_single_cliffords(connectivity_graph=connectivity_graph, random_state=rs)\n",
    "\n",
    "true_value = execute(circuit, noise_level=0.0)      # Ideal quantum computer\n",
    "\n",
    "print(true_value)\n",
    "noisy_value = execute(circuit)                      # Noisy quantum computer\n",
    "zne_value = zne.execute_with_zne(circuit, execute)  # Noisy quantum computer + Mitiq\n",
    "\n",
    "print(f\"Error w/o  Mitiq: {abs((true_value - noisy_value) / true_value):.3f}\")\n",
    "print(f\"Error w Mitiq:    {abs((true_value - zne_value) / true_value):.3f}\")"
   ]
  },
  {
   "cell_type": "markdown",
   "metadata": {},
   "source": [
    "# Mirror Quantum Volume Circuits"
   ]
  },
  {
   "cell_type": "code",
   "execution_count": 6,
   "metadata": {},
   "outputs": [
    {
     "ename": "AttributeError",
     "evalue": "module 'mitiq.benchmarks' has no attribute 'mirror_qv_circuits'",
     "output_type": "error",
     "traceback": [
      "\u001b[0;31m---------------------------------------------------------------------------\u001b[0m",
      "\u001b[0;31mAttributeError\u001b[0m                            Traceback (most recent call last)",
      "Cell \u001b[0;32mIn[6], line 1\u001b[0m\n\u001b[0;32m----> 1\u001b[0m circuit\u001b[38;5;241m=\u001b[39m \u001b[43mbenchmarks\u001b[49m\u001b[38;5;241;43m.\u001b[39;49m\u001b[43mmirror_qv_circuits\u001b[49m\u001b[38;5;241m.\u001b[39mgenerate_mirror_qv_circuit(num_qubits\u001b[38;5;241m=\u001b[39m\u001b[38;5;241m10\u001b[39m, depth\u001b[38;5;241m=\u001b[39m\u001b[38;5;241m2\u001b[39m)\n\u001b[1;32m      3\u001b[0m true_value \u001b[38;5;241m=\u001b[39m execute(circuit, noise_level\u001b[38;5;241m=\u001b[39m\u001b[38;5;241m0.0\u001b[39m)      \u001b[38;5;66;03m# Ideal quantum computer\u001b[39;00m\n\u001b[1;32m      5\u001b[0m \u001b[38;5;28mprint\u001b[39m(true_value)\n",
      "\u001b[0;31mAttributeError\u001b[0m: module 'mitiq.benchmarks' has no attribute 'mirror_qv_circuits'"
     ]
    }
   ],
   "source": [
    "circuit= benchmarks.mirror_qv_circuits.generate_mirror_qv_circuit(num_qubits=10, depth=2)\n",
    "\n",
    "true_value = execute(circuit, noise_level=0.0)      # Ideal quantum computer\n",
    "\n",
    "print(true_value)\n",
    "noisy_value = execute(circuit)                      # Noisy quantum computer\n",
    "zne_value = zne.execute_with_zne(circuit, execute)  # Noisy quantum computer + Mitiq\n",
    "\n",
    "print(f\"Error w/o  Mitiq: {abs((true_value - noisy_value) / true_value):.3f}\")\n",
    "print(f\"Error w Mitiq:    {abs((true_value - zne_value) / true_value):.3f}\")"
   ]
  },
  {
   "cell_type": "markdown",
   "metadata": {},
   "source": [
    "# Quantum Phase Estimation Circuits"
   ]
  },
  {
   "cell_type": "code",
   "execution_count": 10,
   "metadata": {},
   "outputs": [
    {
     "name": "stdout",
     "output_type": "stream",
     "text": [
      "0.9999998\n",
      "Error w/o  Mitiq: 0.178\n",
      "Error w Mitiq:    0.086\n"
     ]
    }
   ],
   "source": [
    "circuit = benchmarks.qpe_circuits.generate_qpe_circuit(evalue_reg=3)\n",
    "\n",
    "true_value = execute(circuit, noise_level=0.0)      # Ideal quantum computer\n",
    "\n",
    "print(true_value)\n",
    "noisy_value = execute(circuit)                      # Noisy quantum computer\n",
    "zne_value = zne.execute_with_zne(circuit, execute)  # Noisy quantum computer + Mitiq\n",
    "\n",
    "print(f\"Error w/o  Mitiq: {abs((true_value - noisy_value) / true_value):.3f}\")\n",
    "print(f\"Error w Mitiq:    {abs((true_value - zne_value) / true_value):.3f}\")"
   ]
  },
  {
   "cell_type": "markdown",
   "metadata": {},
   "source": [
    "# Quantum Volume Circuits"
   ]
  },
  {
   "cell_type": "code",
   "execution_count": 30,
   "metadata": {},
   "outputs": [
    {
     "name": "stdout",
     "output_type": "stream",
     "text": [
      "0.032433473\n",
      "Error w/o  Mitiq: 0.150\n",
      "Error w Mitiq:    0.067\n"
     ]
    }
   ],
   "source": [
    "circuit,_ = benchmarks.quantum_volume_circuits.generate_quantum_volume_circuit(num_qubits=4, depth=10)\n",
    "\n",
    "true_value = execute(circuit, noise_level=0.0)      # Ideal quantum computer\n",
    "\n",
    "print(true_value)\n",
    "noisy_value = execute(circuit)                      # Noisy quantum computer\n",
    "zne_value = zne.execute_with_zne(circuit, execute)  # Noisy quantum computer + Mitiq\n",
    "\n",
    "print(f\"Error w/o  Mitiq: {abs((true_value - noisy_value) / true_value):.3f}\")\n",
    "print(f\"Error w Mitiq:    {abs((true_value - zne_value) / true_value):.3f}\")"
   ]
  },
  {
   "cell_type": "markdown",
   "metadata": {},
   "source": [
    "# Randomized Benchmarking Circuits"
   ]
  },
  {
   "cell_type": "code",
   "execution_count": 18,
   "metadata": {},
   "outputs": [
    {
     "name": "stdout",
     "output_type": "stream",
     "text": [
      "1.0\n",
      "Error w/o  Mitiq: 0.035\n",
      "Error w Mitiq:    0.009\n"
     ]
    }
   ],
   "source": [
    "circuits = benchmarks.randomized_benchmarking.generate_rb_circuits(n_qubits=1, num_cliffords=5)\n",
    "\n",
    "circuit=circuits[0]\n",
    "true_value = execute(circuit, noise_level=0.0)      # Ideal quantum computer\n",
    "\n",
    "print(true_value)\n",
    "noisy_value = execute(circuit)                      # Noisy quantum computer\n",
    "zne_value = zne.execute_with_zne(circuit, execute)  # Noisy quantum computer + Mitiq\n",
    "\n",
    "print(f\"Error w/o  Mitiq: {abs((true_value - noisy_value) / true_value):.3f}\")\n",
    "print(f\"Error w Mitiq:    {abs((true_value - zne_value) / true_value):.3f}\")"
   ]
  },
  {
   "cell_type": "markdown",
   "metadata": {},
   "source": [
    "# Rotated Randomized Benchmarking Circuits"
   ]
  },
  {
   "cell_type": "code",
   "execution_count": 19,
   "metadata": {},
   "outputs": [
    {
     "name": "stdout",
     "output_type": "stream",
     "text": [
      "0.83573747\n",
      "Error w/o  Mitiq: 0.038\n",
      "Error w Mitiq:    0.007\n"
     ]
    }
   ],
   "source": [
    "circuits = benchmarks.rotated_randomized_benchmarking.generate_rotated_rb_circuits(n_qubits=1, num_cliffords=5)\n",
    "\n",
    "circuit=circuits[0]\n",
    "true_value = execute(circuit, noise_level=0.0)      # Ideal quantum computer\n",
    "\n",
    "print(true_value)\n",
    "noisy_value = execute(circuit)                      # Noisy quantum computer\n",
    "zne_value = zne.execute_with_zne(circuit, execute)  # Noisy quantum computer + Mitiq\n",
    "\n",
    "print(f\"Error w/o  Mitiq: {abs((true_value - noisy_value) / true_value):.3f}\")\n",
    "print(f\"Error w Mitiq:    {abs((true_value - zne_value) / true_value):.3f}\")"
   ]
  },
  {
   "cell_type": "markdown",
   "metadata": {},
   "source": [
    "# Randomized Clifford+T Circuits"
   ]
  },
  {
   "cell_type": "code",
   "execution_count": 23,
   "metadata": {},
   "outputs": [
    {
     "name": "stdout",
     "output_type": "stream",
     "text": [
      "0.49999997\n",
      "Error w/o  Mitiq: 0.039\n",
      "Error w Mitiq:    0.000\n"
     ]
    }
   ],
   "source": [
    "circuit = benchmarks.randomized_clifford_t_circuit.generate_random_clifford_t_circuit(num_qubits=10, num_oneq_cliffords=2, num_twoq_cliffords=2, num_t_gates=2)\n",
    "\n",
    "true_value = execute(circuit, noise_level=0.0)      # Ideal quantum computer\n",
    "\n",
    "print(true_value)\n",
    "noisy_value = execute(circuit)                      # Noisy quantum computer\n",
    "zne_value = zne.execute_with_zne(circuit, execute)  # Noisy quantum computer + Mitiq\n",
    "\n",
    "print(f\"Error w/o  Mitiq: {abs((true_value - noisy_value) / true_value):.3f}\")\n",
    "print(f\"Error w Mitiq:    {abs((true_value - zne_value) / true_value):.3f}\")"
   ]
  },
  {
   "cell_type": "markdown",
   "metadata": {},
   "source": [
    "# W State Circuits"
   ]
  },
  {
   "cell_type": "code",
   "execution_count": 24,
   "metadata": {},
   "outputs": [
    {
     "name": "stdout",
     "output_type": "stream",
     "text": [
      "1.0\n",
      "Error w/o  Mitiq: 0.445\n",
      "Error w Mitiq:    0.099\n"
     ]
    }
   ],
   "source": [
    "circuit = benchmarks.w_state_circuits.generate_w_circuit(n_qubits=10)\n",
    "\n",
    "true_value = execute(circuit, noise_level=0.0)      # Ideal quantum computer\n",
    "\n",
    "print(true_value)\n",
    "noisy_value = execute(circuit)                      # Noisy quantum computer\n",
    "zne_value = zne.execute_with_zne(circuit, execute)  # Noisy quantum computer + Mitiq\n",
    "\n",
    "print(f\"Error w/o  Mitiq: {abs((true_value - noisy_value) / true_value):.3f}\")\n",
    "print(f\"Error w Mitiq:    {abs((true_value - zne_value) / true_value):.3f}\")"
   ]
  }
 ],
 "metadata": {
  "kernelspec": {
   "display_name": "mitiqenv",
   "language": "python",
   "name": "python3"
  },
  "language_info": {
   "codemirror_mode": {
    "name": "ipython",
    "version": 3
   },
   "file_extension": ".py",
   "mimetype": "text/x-python",
   "name": "python",
   "nbconvert_exporter": "python",
   "pygments_lexer": "ipython3",
   "version": "3.10.15"
  }
 },
 "nbformat": 4,
 "nbformat_minor": 2
}
