{
 "cells": [
  {
   "cell_type": "code",
   "execution_count": 1,
   "metadata": {},
   "outputs": [],
   "source": [
    "from qiskit.circuit.library.standard_gates import get_standard_gate_name_mapping\n",
    "valid_layers = get_standard_gate_name_mapping()"
   ]
  },
  {
   "cell_type": "code",
   "execution_count": 2,
   "metadata": {},
   "outputs": [],
   "source": [
    "x = valid_layers['cx']"
   ]
  },
  {
   "cell_type": "code",
   "execution_count": 3,
   "metadata": {},
   "outputs": [
    {
     "name": "stdout",
     "output_type": "stream",
     "text": [
      "Instruction(name='cx', num_qubits=2, num_clbits=0, params=[])\n"
     ]
    },
    {
     "data": {
      "text/plain": [
       "_SingletonCXGate"
      ]
     },
     "execution_count": 3,
     "metadata": {},
     "output_type": "execute_result"
    }
   ],
   "source": [
    "print(x)"
   ]
  },
  {
   "cell_type": "code",
   "execution_count": null,
   "metadata": {},
   "outputs": [],
   "source": [
    "type(x)"
   ]
  },
  {
   "cell_type": "code",
   "execution_count": 4,
   "metadata": {},
   "outputs": [
    {
     "data": {
      "text/plain": [
       "{'id': Instruction(name='id', num_qubits=1, num_clbits=0, params=[]),\n",
       " 'sx': Instruction(name='sx', num_qubits=1, num_clbits=0, params=[]),\n",
       " 'x': Instruction(name='x', num_qubits=1, num_clbits=0, params=[]),\n",
       " 'cx': Instruction(name='cx', num_qubits=2, num_clbits=0, params=[]),\n",
       " 'rz': Instruction(name='rz', num_qubits=1, num_clbits=0, params=[Parameter(λ)]),\n",
       " 'r': Instruction(name='r', num_qubits=1, num_clbits=0, params=[Parameter(ϴ), Parameter(φ)]),\n",
       " 'reset': Instruction(name='reset', num_qubits=1, num_clbits=0, params=[]),\n",
       " 'c3sx': Instruction(name='c3sx', num_qubits=4, num_clbits=0, params=[]),\n",
       " 'ccx': Instruction(name='ccx', num_qubits=3, num_clbits=0, params=[]),\n",
       " 'dcx': Instruction(name='dcx', num_qubits=2, num_clbits=0, params=[]),\n",
       " 'ch': Instruction(name='ch', num_qubits=2, num_clbits=0, params=[]),\n",
       " 'cp': Instruction(name='cp', num_qubits=2, num_clbits=0, params=[Parameter(ϴ)]),\n",
       " 'crx': Instruction(name='crx', num_qubits=2, num_clbits=0, params=[Parameter(ϴ)]),\n",
       " 'cry': Instruction(name='cry', num_qubits=2, num_clbits=0, params=[Parameter(ϴ)]),\n",
       " 'crz': Instruction(name='crz', num_qubits=2, num_clbits=0, params=[Parameter(ϴ)]),\n",
       " 'cswap': Instruction(name='cswap', num_qubits=3, num_clbits=0, params=[]),\n",
       " 'csx': Instruction(name='csx', num_qubits=2, num_clbits=0, params=[]),\n",
       " 'cu': Instruction(name='cu', num_qubits=2, num_clbits=0, params=[Parameter(ϴ), Parameter(φ), Parameter(λ), Parameter(γ)]),\n",
       " 'cu1': Instruction(name='cu1', num_qubits=2, num_clbits=0, params=[Parameter(λ)]),\n",
       " 'cu3': Instruction(name='cu3', num_qubits=2, num_clbits=0, params=[Parameter(ϴ), Parameter(φ), Parameter(λ)]),\n",
       " 'cy': Instruction(name='cy', num_qubits=2, num_clbits=0, params=[]),\n",
       " 'cz': Instruction(name='cz', num_qubits=2, num_clbits=0, params=[]),\n",
       " 'ccz': Instruction(name='ccz', num_qubits=3, num_clbits=0, params=[]),\n",
       " 'global_phase': Instruction(name='global_phase', num_qubits=0, num_clbits=0, params=[Parameter(ϴ)]),\n",
       " 'h': Instruction(name='h', num_qubits=1, num_clbits=0, params=[]),\n",
       " 'p': Instruction(name='p', num_qubits=1, num_clbits=0, params=[Parameter(ϴ)]),\n",
       " 'rccx': Instruction(name='rccx', num_qubits=3, num_clbits=0, params=[]),\n",
       " 'rcccx': Instruction(name='rcccx', num_qubits=4, num_clbits=0, params=[]),\n",
       " 'rx': Instruction(name='rx', num_qubits=1, num_clbits=0, params=[Parameter(ϴ)]),\n",
       " 'rxx': Instruction(name='rxx', num_qubits=2, num_clbits=0, params=[Parameter(ϴ)]),\n",
       " 'ry': Instruction(name='ry', num_qubits=1, num_clbits=0, params=[Parameter(ϴ)]),\n",
       " 'ryy': Instruction(name='ryy', num_qubits=2, num_clbits=0, params=[Parameter(ϴ)]),\n",
       " 'rzz': Instruction(name='rzz', num_qubits=2, num_clbits=0, params=[Parameter(ϴ)]),\n",
       " 'rzx': Instruction(name='rzx', num_qubits=2, num_clbits=0, params=[Parameter(ϴ)]),\n",
       " 'xx_minus_yy': Instruction(name='xx_minus_yy', num_qubits=2, num_clbits=0, params=[Parameter(ϴ), Parameter(β)]),\n",
       " 'xx_plus_yy': Instruction(name='xx_plus_yy', num_qubits=2, num_clbits=0, params=[Parameter(ϴ), Parameter(β)]),\n",
       " 'ecr': Instruction(name='ecr', num_qubits=2, num_clbits=0, params=[]),\n",
       " 's': Instruction(name='s', num_qubits=1, num_clbits=0, params=[]),\n",
       " 'sdg': Instruction(name='sdg', num_qubits=1, num_clbits=0, params=[]),\n",
       " 'cs': Instruction(name='cs', num_qubits=2, num_clbits=0, params=[]),\n",
       " 'csdg': Instruction(name='csdg', num_qubits=2, num_clbits=0, params=[]),\n",
       " 'swap': Instruction(name='swap', num_qubits=2, num_clbits=0, params=[]),\n",
       " 'iswap': Instruction(name='iswap', num_qubits=2, num_clbits=0, params=[]),\n",
       " 'sxdg': Instruction(name='sxdg', num_qubits=1, num_clbits=0, params=[]),\n",
       " 't': Instruction(name='t', num_qubits=1, num_clbits=0, params=[]),\n",
       " 'tdg': Instruction(name='tdg', num_qubits=1, num_clbits=0, params=[]),\n",
       " 'u': Instruction(name='u', num_qubits=1, num_clbits=0, params=[Parameter(ϴ), Parameter(φ), Parameter(λ)]),\n",
       " 'u1': Instruction(name='u1', num_qubits=1, num_clbits=0, params=[Parameter(λ)]),\n",
       " 'u2': Instruction(name='u2', num_qubits=1, num_clbits=0, params=[Parameter(φ), Parameter(λ)]),\n",
       " 'u3': Instruction(name='u3', num_qubits=1, num_clbits=0, params=[Parameter(ϴ), Parameter(φ), Parameter(λ)]),\n",
       " 'y': Instruction(name='y', num_qubits=1, num_clbits=0, params=[]),\n",
       " 'z': Instruction(name='z', num_qubits=1, num_clbits=0, params=[]),\n",
       " 'delay': Delay(duration=t[unit=dt]),\n",
       " 'measure': Instruction(name='measure', num_qubits=1, num_clbits=1, params=[])}"
      ]
     },
     "execution_count": 4,
     "metadata": {},
     "output_type": "execute_result"
    }
   ],
   "source": [
    "valid_layers"
   ]
  }
 ],
 "metadata": {
  "kernelspec": {
   "display_name": "qiskitenv",
   "language": "python",
   "name": "python3"
  },
  "language_info": {
   "codemirror_mode": {
    "name": "ipython",
    "version": 3
   },
   "file_extension": ".py",
   "mimetype": "text/x-python",
   "name": "python",
   "nbconvert_exporter": "python",
   "pygments_lexer": "ipython3",
   "version": "3.9.13"
  }
 },
 "nbformat": 4,
 "nbformat_minor": 2
}
