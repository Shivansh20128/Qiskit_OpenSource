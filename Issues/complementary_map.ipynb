{
 "cells": [
  {
   "cell_type": "code",
   "execution_count": 1,
   "metadata": {},
   "outputs": [
    {
     "name": "stdout",
     "output_type": "stream",
     "text": [
      "Kraus operators for the complementary map:\n",
      "Kraus operator 1:\n",
      "[[ 0.70710678+0.j          0.        +0.j        ]\n",
      " [ 0.        +0.j          0.70710678+0.j        ]\n",
      " [ 0.        +0.j         -0.        -0.70710678j]\n",
      " [ 0.70710678+0.j          0.        +0.j        ]]\n",
      "\n",
      "Kraus operator 2:\n",
      "[[ 0.        +0.j          0.70710678+0.j        ]\n",
      " [ 0.70710678+0.j          0.        +0.j        ]\n",
      " [ 0.        +0.70710678j  0.        +0.j        ]\n",
      " [ 0.        +0.j         -0.70710678+0.j        ]]\n",
      "\n"
     ]
    }
   ],
   "source": [
    "import numpy as np\n",
    "\n",
    "def complementary_map(kraus_ops):\n",
    "    \"\"\"\n",
    "    Compute the Kraus operators for the complementary map given the input Kraus operators.\n",
    "    \n",
    "    :param kraus_ops: List of Kraus operators (numpy arrays)\n",
    "    :return: Kraus operators for the complementary map (as a list of numpy arrays)\n",
    "    \"\"\"\n",
    "    # Number of Kraus operators and size of each operator\n",
    "    num_kraus = len(kraus_ops)\n",
    "    op_dim = kraus_ops[0].shape[0]  # Dimension of the matrix (assuming square)\n",
    "\n",
    "    # Initialize the complementary Kraus operators as empty lists\n",
    "    comp_kraus_ops = []\n",
    "\n",
    "    # Construct the complementary map by rows\n",
    "    for row in range(op_dim):\n",
    "        # Collect all the rows corresponding to 'row' in all Kraus operators\n",
    "        comp_kraus_op = np.vstack([kraus_ops[i][row, :] for i in range(num_kraus)])\n",
    "        comp_kraus_ops.append(comp_kraus_op)\n",
    "\n",
    "    return comp_kraus_ops\n",
    "\n",
    "# Example usage\n",
    "\n",
    "# Define the Kraus operators for Phi\n",
    "kraus_ops_Phi = [\n",
    "    np.array([[1, 0], [0, 1]]) / np.sqrt(2),\n",
    "    np.array([[0, 1], [1, 0]]) / np.sqrt(2),\n",
    "    np.array([[0, -1j], [1j, 0]]) / np.sqrt(2),\n",
    "    np.array([[1, 0], [0, -1]]) / np.sqrt(2)\n",
    "]\n",
    "\n",
    "# Compute the complementary map's Kraus operators\n",
    "comp_kraus_ops = complementary_map(kraus_ops_Phi)\n",
    "\n",
    "# Output the result\n",
    "print(\"Kraus operators for the complementary map:\")\n",
    "for i, op in enumerate(comp_kraus_ops):\n",
    "    print(f\"Kraus operator {i + 1}:\\n{op}\\n\")\n"
   ]
  },
  {
   "cell_type": "code",
   "execution_count": 1,
   "metadata": {},
   "outputs": [
    {
     "name": "stdout",
     "output_type": "stream",
     "text": [
      "{'01': 1024}\n"
     ]
    }
   ],
   "source": [
    "from qiskit import QuantumCircuit, QuantumRegister,ClassicalRegister\n",
    "from qiskit_aer import AerSimulator\n",
    "# from qiskit.providers.aer import AerSimulator\n",
    "\n",
    "\n",
    "q = QuantumRegister(2,\"q\")\n",
    "c = ClassicalRegister(2,\"c\")\n",
    "qc = QuantumCircuit(q,c)\n",
    "\n",
    "qc.x(q[0])\n",
    "qc.measure(q[0],c[0])\n",
    "qc.h(q[1]).c_if(c,0)\n",
    "qc.measure(q,c)\n",
    "\n",
    "job = AerSimulator().run(qc,shots=1024)\n",
    "counts = job.result().get_counts(qc)\n",
    "print(counts)"
   ]
  },
  {
   "cell_type": "code",
   "execution_count": null,
   "metadata": {},
   "outputs": [],
   "source": []
  },
  {
   "cell_type": "code",
   "execution_count": 3,
   "metadata": {},
   "outputs": [
    {
     "name": "stdout",
     "output_type": "stream",
     "text": [
      "Requirement already satisfied: qiskit-aer in /Users/Shared/Drive/Qiskit/qiskitenv/lib/python3.9/site-packages (0.15.1)\n",
      "Requirement already satisfied: numpy>=1.16.3 in /Users/Shared/Drive/Qiskit/qiskitenv/lib/python3.9/site-packages (from qiskit-aer) (1.26.4)\n",
      "Requirement already satisfied: qiskit>=1.1.0 in /Users/Shared/Drive/Qiskit/qiskitenv/lib/python3.9/site-packages (from qiskit-aer) (1.2.2)\n",
      "Requirement already satisfied: scipy>=1.0 in /Users/Shared/Drive/Qiskit/qiskitenv/lib/python3.9/site-packages (from qiskit-aer) (1.13.1)\n",
      "Requirement already satisfied: psutil>=5 in /Users/Shared/Drive/Qiskit/qiskitenv/lib/python3.9/site-packages (from qiskit-aer) (6.0.0)\n",
      "Requirement already satisfied: rustworkx>=0.15.0 in /Users/Shared/Drive/Qiskit/qiskitenv/lib/python3.9/site-packages (from qiskit>=1.1.0->qiskit-aer) (0.15.1)\n",
      "Requirement already satisfied: stevedore>=3.0.0 in /Users/Shared/Drive/Qiskit/qiskitenv/lib/python3.9/site-packages (from qiskit>=1.1.0->qiskit-aer) (5.3.0)\n",
      "Requirement already satisfied: symengine>=0.11 in /Users/Shared/Drive/Qiskit/qiskitenv/lib/python3.9/site-packages (from qiskit>=1.1.0->qiskit-aer) (0.13.0)\n",
      "Requirement already satisfied: typing-extensions in /Users/Shared/Drive/Qiskit/qiskitenv/lib/python3.9/site-packages (from qiskit>=1.1.0->qiskit-aer) (4.12.2)\n",
      "Requirement already satisfied: python-dateutil>=2.8.0 in /Users/Shared/Drive/Qiskit/qiskitenv/lib/python3.9/site-packages (from qiskit>=1.1.0->qiskit-aer) (2.9.0.post0)\n",
      "Requirement already satisfied: dill>=0.3 in /Users/Shared/Drive/Qiskit/qiskitenv/lib/python3.9/site-packages (from qiskit>=1.1.0->qiskit-aer) (0.3.9)\n",
      "Requirement already satisfied: sympy>=1.3 in /Users/Shared/Drive/Qiskit/qiskitenv/lib/python3.9/site-packages (from qiskit>=1.1.0->qiskit-aer) (1.13.3)\n",
      "Requirement already satisfied: six>=1.5 in /Users/Shared/Drive/Qiskit/qiskitenv/lib/python3.9/site-packages (from python-dateutil>=2.8.0->qiskit>=1.1.0->qiskit-aer) (1.16.0)\n",
      "Requirement already satisfied: pbr>=2.0.0 in /Users/Shared/Drive/Qiskit/qiskitenv/lib/python3.9/site-packages (from stevedore>=3.0.0->qiskit>=1.1.0->qiskit-aer) (6.1.0)\n",
      "Requirement already satisfied: mpmath<1.4,>=1.1.0 in /Users/Shared/Drive/Qiskit/qiskitenv/lib/python3.9/site-packages (from sympy>=1.3->qiskit>=1.1.0->qiskit-aer) (1.3.0)\n",
      "\u001b[33mWARNING: You are using pip version 21.2.4; however, version 24.2 is available.\n",
      "You should consider upgrading via the '/Users/Shared/Drive/Qiskit/qiskitenv/bin/python3 -m pip install --upgrade pip' command.\u001b[0m\n"
     ]
    }
   ],
   "source": [
    "!pip install qiskit-aer\n"
   ]
  },
  {
   "cell_type": "code",
   "execution_count": null,
   "metadata": {},
   "outputs": [],
   "source": []
  }
 ],
 "metadata": {
  "kernelspec": {
   "display_name": "qiskitenv",
   "language": "python",
   "name": "python3"
  },
  "language_info": {
   "codemirror_mode": {
    "name": "ipython",
    "version": 3
   },
   "file_extension": ".py",
   "mimetype": "text/x-python",
   "name": "python",
   "nbconvert_exporter": "python",
   "pygments_lexer": "ipython3",
   "version": "3.9.6"
  }
 },
 "nbformat": 4,
 "nbformat_minor": 2
}
