{
 "cells": [
  {
   "cell_type": "code",
   "execution_count": 1,
   "metadata": {},
   "outputs": [
    {
     "name": "stdout",
     "output_type": "stream",
     "text": [
      "Kraus operators for the complementary map:\n",
      "Kraus operator 1:\n",
      "[[ 0.70710678+0.j          0.        +0.j        ]\n",
      " [ 0.        +0.j          0.70710678+0.j        ]\n",
      " [ 0.        +0.j         -0.        -0.70710678j]\n",
      " [ 0.70710678+0.j          0.        +0.j        ]]\n",
      "\n",
      "Kraus operator 2:\n",
      "[[ 0.        +0.j          0.70710678+0.j        ]\n",
      " [ 0.70710678+0.j          0.        +0.j        ]\n",
      " [ 0.        +0.70710678j  0.        +0.j        ]\n",
      " [ 0.        +0.j         -0.70710678+0.j        ]]\n",
      "\n"
     ]
    }
   ],
   "source": [
    "import numpy as np\n",
    "\n",
    "def complementary_map(kraus_ops):\n",
    "    \"\"\"\n",
    "    Compute the Kraus operators for the complementary map given the input Kraus operators.\n",
    "    \n",
    "    :param kraus_ops: List of Kraus operators (numpy arrays)\n",
    "    :return: Kraus operators for the complementary map (as a list of numpy arrays)\n",
    "    \"\"\"\n",
    "    # Number of Kraus operators and size of each operator\n",
    "    num_kraus = len(kraus_ops)\n",
    "    op_dim = kraus_ops[0].shape[0]  # Dimension of the matrix (assuming square)\n",
    "\n",
    "    # Initialize the complementary Kraus operators as empty lists\n",
    "    comp_kraus_ops = []\n",
    "\n",
    "    # Construct the complementary map by rows\n",
    "    for row in range(op_dim):\n",
    "        # Collect all the rows corresponding to 'row' in all Kraus operators\n",
    "        comp_kraus_op = np.vstack([kraus_ops[i][row, :] for i in range(num_kraus)])\n",
    "        comp_kraus_ops.append(comp_kraus_op)\n",
    "\n",
    "    return comp_kraus_ops\n",
    "\n",
    "# Example usage\n",
    "\n",
    "# Define the Kraus operators for Phi\n",
    "kraus_ops_Phi = [\n",
    "    np.array([[1, 0], [0, 1]]) / np.sqrt(2),\n",
    "    np.array([[0, 1], [1, 0]]) / np.sqrt(2),\n",
    "    np.array([[0, -1j], [1j, 0]]) / np.sqrt(2),\n",
    "    np.array([[1, 0], [0, -1]]) / np.sqrt(2)\n",
    "]\n",
    "\n",
    "# Compute the complementary map's Kraus operators\n",
    "comp_kraus_ops = complementary_map(kraus_ops_Phi)\n",
    "\n",
    "# Output the result\n",
    "print(\"Kraus operators for the complementary map:\")\n",
    "for i, op in enumerate(comp_kraus_ops):\n",
    "    print(f\"Kraus operator {i + 1}:\\n{op}\\n\")\n"
   ]
  }
 ],
 "metadata": {
  "kernelspec": {
   "display_name": "qiskitenv",
   "language": "python",
   "name": "python3"
  },
  "language_info": {
   "codemirror_mode": {
    "name": "ipython",
    "version": 3
   },
   "file_extension": ".py",
   "mimetype": "text/x-python",
   "name": "python",
   "nbconvert_exporter": "python",
   "pygments_lexer": "ipython3",
   "version": "3.9.6"
  }
 },
 "nbformat": 4,
 "nbformat_minor": 2
}
