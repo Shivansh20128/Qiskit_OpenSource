{
 "cells": [
  {
   "cell_type": "code",
   "execution_count": 39,
   "metadata": {},
   "outputs": [],
   "source": [
    "import numpy as np\n",
    "\n",
    "\n",
    "def complementary_channel(kraus_ops: list[np.ndarray]) -> list[np.ndarray]:\n",
    "    r\"\"\"Compute the Kraus operators for the complementary map of a quantum channel.\n",
    "\n",
    "    (Section: Representations and Characterizations of Channels from :cite:`Watrous_2018_TQI`).\n",
    "\n",
    "    The complementary map is derived from the given quantum channel's Kraus operators by\n",
    "    rearranging the rows of the input Kraus operators into the Kraus operators of the\n",
    "    complementary map.\n",
    "\n",
    "    Specifically, for each Kraus operator :math:`K_i` in the input channel :math:`\\Phi`,\n",
    "    we define the complementary Kraus operators :math:`K_i^C` by stacking the rows of\n",
    "    :math:`K_i` from all Kraus operators vertically.\n",
    "\n",
    "    References\n",
    "    ==========\n",
    "    .. bibliography::\n",
    "        :filter: docname in docnames\n",
    "\n",
    "    :raises ValueError: If the input is not a valid list of Kraus operators.\n",
    "    :param kraus_ops: A list of numpy arrays representing the Kraus operators of a quantum channel.\n",
    "                      Each Kraus operator is assumed to be a square matrix.\n",
    "    :return: A list of numpy arrays representing the Kraus operators of the complementary map.\n",
    "\n",
    "    \"\"\"\n",
    "    num_kraus = len(kraus_ops)\n",
    "    print(\"hello: \")\n",
    "    print(num_kraus)\n",
    "    print(\"hello2\")\n",
    "    if num_kraus==0:\n",
    "        raise ValueError(\"All Kraus operators must be non-empty matrices.\")\n",
    "    op_dim = kraus_ops[0].shape[0]\n",
    "\n",
    "    if any(k.shape[0] != k.shape[1] for k in kraus_ops):\n",
    "        raise ValueError(\"All Kraus operators must be square matrices.\")\n",
    "    \n",
    "\n",
    "    comp_kraus_ops = []\n",
    "\n",
    "    for row in range(op_dim):\n",
    "        comp_kraus_op = np.vstack([kraus_ops[i][row, :] for i in range(num_kraus)])\n",
    "        comp_kraus_ops.append(comp_kraus_op)\n",
    "\n",
    "    return comp_kraus_ops\n"
   ]
  },
  {
   "cell_type": "code",
   "execution_count": 27,
   "metadata": {},
   "outputs": [],
   "source": [
    "# Define test cases for complementary map\n",
    "kraus_1 = np.array([[1, 0], [0, 0]])\n",
    "kraus_2 = np.array([[0, 1], [0, 0]])\n",
    "kraus_3 = np.array([[0, 0], [1, 0]])\n",
    "kraus_4 = np.array([[0, 0], [0, 1]])\n",
    "\n",
    "# Expected results for the complementary map\n",
    "expected_res_comp = [\n",
    "    np.array([[1, 0], [0, 1], [0, 0], [0, 0]]),\n",
    "    np.array([[0, 0], [0, 0], [1, 0], [0, 1]]),\n",
    "]\n",
    "\n",
    "# Higher-dimensional Kraus operators (3x3)\n",
    "kraus_5 = np.array([[1, 0, 0], [0, 1, 0], [0, 0, 1]]) / np.sqrt(3)\n",
    "kraus_6 = np.array([[0, 1, 0], [1, 0, 1], [0, 1, 0]]) / np.sqrt(3)\n",
    "\n",
    "expected_res_comp_high_dim = [\n",
    "    np.array([[1, 0, 0], [0, 1, 0]]) / np.sqrt(3),\n",
    "    np.array([[0, 1, 0], [1, 0, 1]]) / np.sqrt(3),\n",
    "    np.array([[0, 0, 1], [0, 1, 0]]) / np.sqrt(3),\n",
    "]\n",
    "\n",
    "# Single Kraus operator (edge case)\n",
    "kraus_single = np.array([[1, 0], [0, 1]])\n",
    "\n",
    "expected_res_single =[\n",
    "    np.array([[1, 0]]),\n",
    "    np.array([[0, 1]]),\n",
    "] \n"
   ]
  },
  {
   "cell_type": "code",
   "execution_count": 28,
   "metadata": {},
   "outputs": [],
   "source": [
    "import pytest\n",
    "@pytest.mark.parametrize(\n",
    "    \"kraus_ops, expected\",\n",
    "    [\n",
    "        # Test complementary_channel on a set of 2x2 Kraus operators (the ones you gave).\n",
    "        ([kraus_1, kraus_2, kraus_3, kraus_4], expected_res_comp),\n",
    "        # Test complementary_channel with higher-dimensional (3x3) Kraus operators.\n",
    "        ([kraus_5, kraus_6], expected_res_comp_high_dim),\n",
    "        # Test complementary_channel with a single Kraus operator (edge case).\n",
    "        ([kraus_single], expected_res_single),\n",
    "    ],\n",
    ")\n",
    "def test_complementary_channel(kraus_ops, expected):\n",
    "    \"\"\"Test complementary_channel works as expected for valid inputs.\"\"\"\n",
    "    calculated = complementary_channel(kraus_ops)\n",
    "\n",
    "    # Compare the shapes first to debug broadcasting issues\n",
    "    assert len(calculated) == len(expected), \"Mismatch in number of Kraus operators\"\n",
    "    for calc_op, exp_op in zip(calculated, expected):\n",
    "        assert np.isclose(calc_op, exp_op, atol=1e-6).all()"
   ]
  },
  {
   "cell_type": "code",
   "execution_count": 31,
   "metadata": {},
   "outputs": [],
   "source": [
    "test_complementary_channel([kraus_single], expected_res_single)"
   ]
  },
  {
   "cell_type": "code",
   "execution_count": 30,
   "metadata": {},
   "outputs": [
    {
     "data": {
      "text/plain": [
       "[array([[1, 0]]), array([[0, 1]])]"
      ]
     },
     "execution_count": 30,
     "metadata": {},
     "output_type": "execute_result"
    }
   ],
   "source": [
    "complementary_channel([kraus_single])"
   ]
  },
  {
   "cell_type": "code",
   "execution_count": 26,
   "metadata": {},
   "outputs": [
    {
     "data": {
      "text/plain": [
       "[array([[1, 0]]), array([[0, 1]])]"
      ]
     },
     "execution_count": 26,
     "metadata": {},
     "output_type": "execute_result"
    }
   ],
   "source": [
    "expected_res_single"
   ]
  },
  {
   "cell_type": "code",
   "execution_count": 32,
   "metadata": {},
   "outputs": [],
   "source": [
    "@pytest.mark.parametrize(\n",
    "    \"kraus_ops\",\n",
    "    [\n",
    "        # Invalid test case: non-square matrices\n",
    "        ([np.array([[1, 0, 0], [0, 1, 0]])]),  # Not a square matrix\n",
    "        # Invalid test case: empty list of Kraus operators\n",
    "        ([]),\n",
    "        # Invalid test case: single row matrix (not a square)\n",
    "        ([np.array([[1, 0]])]),\n",
    "    ],\n",
    ")\n",
    "def test_complementary_channel_error(kraus_ops):\n",
    "    \"\"\"Test function raises error as expected for invalid inputs.\"\"\"\n",
    "    with pytest.raises(ValueError):\n",
    "        complementary_channel(kraus_ops)\n"
   ]
  },
  {
   "cell_type": "code",
   "execution_count": 40,
   "metadata": {},
   "outputs": [
    {
     "name": "stdout",
     "output_type": "stream",
     "text": [
      "hello: \n",
      "0\n",
      "hello2\n"
     ]
    }
   ],
   "source": [
    "test_complementary_channel_error([])"
   ]
  },
  {
   "cell_type": "code",
   "execution_count": null,
   "metadata": {},
   "outputs": [],
   "source": []
  }
 ],
 "metadata": {
  "kernelspec": {
   "display_name": "qiskitenv",
   "language": "python",
   "name": "python3"
  },
  "language_info": {
   "codemirror_mode": {
    "name": "ipython",
    "version": 3
   },
   "file_extension": ".py",
   "mimetype": "text/x-python",
   "name": "python",
   "nbconvert_exporter": "python",
   "pygments_lexer": "ipython3",
   "version": "3.9.6"
  }
 },
 "nbformat": 4,
 "nbformat_minor": 2
}
