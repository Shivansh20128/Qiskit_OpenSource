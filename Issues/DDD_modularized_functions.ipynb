{
 "cells": [
  {
   "cell_type": "code",
   "execution_count": 1,
   "metadata": {},
   "outputs": [
    {
     "data": {
      "text/plain": [
       "['braket', 'cirq', 'pennylane', 'pyquil', 'qibo', 'qiskit']"
      ]
     },
     "execution_count": 1,
     "metadata": {},
     "output_type": "execute_result"
    }
   ],
   "source": [
    "import mitiq\n",
    "mitiq.SUPPORTED_PROGRAM_TYPES.keys()"
   ]
  },
  {
   "cell_type": "code",
   "execution_count": 2,
   "metadata": {},
   "outputs": [
    {
     "name": "stdout",
     "output_type": "stream",
     "text": [
      "0: ───Rx(0.032π)────Rx(0.032π)───Rz(0.127π)───Rx(-0.229π)───Rz(0.064π)───@───\n",
      "                                                                         │\n",
      "1: ───Rx(-0.255π)────────────────────────────────────────────────────────X───\n"
     ]
    }
   ],
   "source": [
    "from cirq import LineQubit, Circuit, rx, rz, CNOT\n",
    "\n",
    "a, b = LineQubit.range(2)\n",
    "circuit = Circuit(\n",
    "    rx(0.1).on(a),\n",
    "    rx(0.1).on(a),\n",
    "    rz(0.4).on(a),\n",
    "    rx(-0.72).on(a),\n",
    "    rz(0.2).on(a),\n",
    "    rx(-0.8).on(b),\n",
    "    CNOT.on(a, b),\n",
    ")\n",
    "\n",
    "print(circuit)"
   ]
  },
  {
   "cell_type": "code",
   "execution_count": 3,
   "metadata": {},
   "outputs": [],
   "source": [
    "import numpy as np\n",
    "from cirq import DensityMatrixSimulator, amplitude_damp\n",
    "from mitiq.interface import convert_to_mitiq\n",
    "\n",
    "def execute(circuit, noise_level=0.1):\n",
    "    \"\"\"Returns Tr[ρ |0⟩⟨0|] where ρ is the state prepared by the circuit\n",
    "    executed with amplitude damping noise.\n",
    "    \"\"\"\n",
    "    # Replace with code based on your frontend and backend.\n",
    "    mitiq_circuit, _ = convert_to_mitiq(circuit)\n",
    "    noisy_circuit = mitiq_circuit.with_noise(amplitude_damp(gamma=noise_level))\n",
    "    rho = DensityMatrixSimulator().simulate(noisy_circuit).final_density_matrix\n",
    "    return rho[0, 0].real"
   ]
  },
  {
   "cell_type": "code",
   "execution_count": 4,
   "metadata": {},
   "outputs": [
    {
     "name": "stdout",
     "output_type": "stream",
     "text": [
      "Error without mitigation: 0.0753\n"
     ]
    }
   ],
   "source": [
    "# Compute the expectation value of the |0><0| observable.\n",
    "noisy_value = execute(circuit)\n",
    "ideal_value = execute(circuit, noise_level=0.0)\n",
    "print(f\"Error without mitigation: {abs(ideal_value - noisy_value) :.3}\")"
   ]
  },
  {
   "cell_type": "code",
   "execution_count": 5,
   "metadata": {},
   "outputs": [],
   "source": [
    "from mitiq import ddd\n",
    "\n",
    "rule = ddd.rules.yy"
   ]
  },
  {
   "cell_type": "code",
   "execution_count": 6,
   "metadata": {},
   "outputs": [
    {
     "name": "stdout",
     "output_type": "stream",
     "text": [
      "0: ───Rx(0.032π)────Rx(0.032π)───Rz(0.127π)───Rx(-0.229π)───Rz(0.064π)───@───\n",
      "                                                                         │\n",
      "1: ───Rx(-0.255π)───I────────────Y────────────Y─────────────I────────────X───\n"
     ]
    }
   ],
   "source": [
    "circuits_with_ddd = ddd.generate_circuits_with_ddd(circuit=circuit, rule=rule)\n",
    "print(circuits_with_ddd[0])"
   ]
  },
  {
   "cell_type": "code",
   "execution_count": 7,
   "metadata": {},
   "outputs": [],
   "source": [
    "mitigated_result = ddd.execute_with_ddd(\n",
    "    circuit=circuit,\n",
    "    executor=execute,\n",
    "    rule=rule,\n",
    ")"
   ]
  },
  {
   "cell_type": "code",
   "execution_count": 8,
   "metadata": {},
   "outputs": [
    {
     "name": "stdout",
     "output_type": "stream",
     "text": [
      "Error with mitigation (DDD): 0.00743\n"
     ]
    }
   ],
   "source": [
    "print(f\"Error with mitigation (DDD): {abs(ideal_value - mitigated_result) :.3}\")"
   ]
  },
  {
   "cell_type": "code",
   "execution_count": 48,
   "metadata": {},
   "outputs": [],
   "source": [
    "from mitiq import ddd\n",
    "circuits_with_ddd = ddd.generate_circuits_with_ddd( circuit, rule=rule, num_trials=3)"
   ]
  },
  {
   "cell_type": "code",
   "execution_count": 50,
   "metadata": {},
   "outputs": [
    {
     "data": {
      "text/html": [
       "<pre style=\"overflow: auto; white-space: pre;\">0: ───Rx(0.032π)────Rx(0.032π)───Rz(0.127π)───Rx(-0.229π)───Rz(0.064π)───@───\n",
       "                                                                         │\n",
       "1: ───Rx(-0.255π)───I────────────Y────────────Y─────────────I────────────X───</pre>"
      ],
      "text/plain": [
       "0: ───Rx(0.032π)────Rx(0.032π)───Rz(0.127π)───Rx(-0.229π)───Rz(0.064π)───@───\n",
       "                                                                         │\n",
       "1: ───Rx(-0.255π)───I────────────Y────────────Y─────────────I────────────X───"
      ]
     },
     "execution_count": 50,
     "metadata": {},
     "output_type": "execute_result"
    }
   ],
   "source": [
    "mitigated_result_1 = ddd.execute_with_ddd(\n",
    "    circuit=circuits_with_ddd[0],\n",
    "    executor=execute,\n",
    "    rule=rule,\n",
    ")\n",
    "circuits_with_ddd[0]"
   ]
  },
  {
   "cell_type": "code",
   "execution_count": 39,
   "metadata": {},
   "outputs": [
    {
     "data": {
      "text/html": [
       "<pre style=\"overflow: auto; white-space: pre;\">0: ───Rx(0.032π)────Rx(0.032π)───Rz(0.127π)───Rx(-0.229π)───Rz(0.064π)───@───\n",
       "                                                                         │\n",
       "1: ───Rx(-0.255π)───I────────────Y────────────Y─────────────I────────────X───</pre>"
      ],
      "text/plain": [
       "0: ───Rx(0.032π)────Rx(0.032π)───Rz(0.127π)───Rx(-0.229π)───Rz(0.064π)───@───\n",
       "                                                                         │\n",
       "1: ───Rx(-0.255π)───I────────────Y────────────Y─────────────I────────────X───"
      ]
     },
     "execution_count": 39,
     "metadata": {},
     "output_type": "execute_result"
    }
   ],
   "source": [
    "mitigated_result_2 = ddd.execute_with_ddd(\n",
    "    circuit=circuits_with_ddd[1],\n",
    "    executor=execute,\n",
    "    rule=rule,\n",
    ")\n",
    "circuits_with_ddd[1]"
   ]
  },
  {
   "cell_type": "code",
   "execution_count": 40,
   "metadata": {},
   "outputs": [
    {
     "data": {
      "text/html": [
       "<pre style=\"overflow: auto; white-space: pre;\">0: ───Rx(0.032π)────Rx(0.032π)───Rz(0.127π)───Rx(-0.229π)───Rz(0.064π)───@───\n",
       "                                                                         │\n",
       "1: ───Rx(-0.255π)───I────────────Y────────────Y─────────────I────────────X───</pre>"
      ],
      "text/plain": [
       "0: ───Rx(0.032π)────Rx(0.032π)───Rz(0.127π)───Rx(-0.229π)───Rz(0.064π)───@───\n",
       "                                                                         │\n",
       "1: ───Rx(-0.255π)───I────────────Y────────────Y─────────────I────────────X───"
      ]
     },
     "execution_count": 40,
     "metadata": {},
     "output_type": "execute_result"
    }
   ],
   "source": [
    "mitigated_result_3 = ddd.execute_with_ddd(\n",
    "    circuit=circuits_with_ddd[2],\n",
    "    executor=execute,\n",
    "    rule=rule,\n",
    ")\n",
    "circuits_with_ddd[2]"
   ]
  },
  {
   "cell_type": "code",
   "execution_count": 41,
   "metadata": {},
   "outputs": [
    {
     "data": {
      "text/plain": [
       "0.7953312397003174"
      ]
     },
     "execution_count": 41,
     "metadata": {},
     "output_type": "execute_result"
    }
   ],
   "source": [
    "mitigated_results = [mitigated_result_1, mitigated_result_2, mitigated_result_3]\n",
    "combined_result = ddd.combine_results(mitigated_results)\n",
    "combined_result"
   ]
  },
  {
   "cell_type": "code",
   "execution_count": 42,
   "metadata": {},
   "outputs": [
    {
     "name": "stdout",
     "output_type": "stream",
     "text": [
      "Error with mitigation (DDD): 0.00743\n"
     ]
    }
   ],
   "source": [
    "print(f\"Error with mitigation (DDD): {abs(ideal_value - combined_result) :.3}\")"
   ]
  }
 ],
 "metadata": {
  "kernelspec": {
   "display_name": "mitiqenv",
   "language": "python",
   "name": "python3"
  },
  "language_info": {
   "codemirror_mode": {
    "name": "ipython",
    "version": 3
   },
   "file_extension": ".py",
   "mimetype": "text/x-python",
   "name": "python",
   "nbconvert_exporter": "python",
   "pygments_lexer": "ipython3",
   "version": "3.10.15"
  }
 },
 "nbformat": 4,
 "nbformat_minor": 2
}
