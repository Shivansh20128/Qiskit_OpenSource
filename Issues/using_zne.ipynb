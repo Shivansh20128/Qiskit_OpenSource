{
 "cells": [
  {
   "cell_type": "code",
   "execution_count": 1,
   "metadata": {},
   "outputs": [
    {
     "name": "stdout",
     "output_type": "stream",
     "text": [
      "[1.0, 2.0, 3.0]\n"
     ]
    }
   ],
   "source": [
    "import mitiq\n",
    "\n",
    "from mitiq import benchmarks\n",
    "import numpy as np\n",
    "from cirq import DensityMatrixSimulator, depolarize\n",
    "from mitiq.interface import convert_to_mitiq\n",
    "from mitiq import zne\n",
    "from mitiq.zne.inference import LinearFactory\n",
    "\n",
    "frontend = \"cirq\"\n",
    "circuit = benchmarks.generate_rb_circuits(\n",
    "  n_qubits=1, num_cliffords=2, return_type = frontend, trials=1,\n",
    ")[0]\n",
    "\n",
    "def execute(circuit, noise_level=0.01):\n",
    "    \"\"\"Returns Tr[ρ |0⟩⟨0|] where ρ is the state prepared by the circuit\n",
    "    executed with depolarizing noise.\n",
    "    \"\"\"\n",
    "    # Replace with code based on your frontend and backend.\n",
    "    mitiq_circuit, _ = convert_to_mitiq(circuit)\n",
    "    noisy_circuit = mitiq_circuit.with_noise(depolarize(p=noise_level))\n",
    "    rho = DensityMatrixSimulator().simulate(noisy_circuit).final_density_matrix\n",
    "    return rho[0, 0].real\n",
    "\n",
    "linear_fac = LinearFactory(scale_factors=[1.0, 2.0, 3.0])\n",
    "\n",
    "\n",
    "mitigated_result = zne.execute_with_zne(circuit, execute, factory=linear_fac)\n",
    "\n",
    "print(linear_fac.get_scale_factors())"
   ]
  },
  {
   "cell_type": "code",
   "execution_count": 1,
   "metadata": {},
   "outputs": [
    {
     "name": "stdout",
     "output_type": "stream",
     "text": [
      "\n",
      "Mitiq: A Python toolkit for implementing error mitigation on quantum computers\n",
      "==============================================================================\n",
      "Authored by: Mitiq team, 2020 & later (https://github.com/unitaryfund/mitiq)\n",
      "\n",
      "Mitiq Version:\t0.43.0\n",
      "\n",
      "Core Dependencies\n",
      "-----------------\n",
      "Cirq Version:\t1.4.1\n",
      "NumPy Version:\t1.26.4\n",
      "SciPy Version:\t1.15.2\n",
      "\n",
      "Optional Dependencies\n",
      "---------------------\n",
      "PyQuil Version:\t4.11.0\n",
      "Qiskit Version:\tNot installed\n",
      "Braket Version:\t1.91.0\n",
      "\n",
      "Python Version:\t3.10.15\n",
      "Platform Info:\tDarwin (x86_64)\n"
     ]
    }
   ],
   "source": [
    "from mitiq import about\n",
    "about()"
   ]
  },
  {
   "cell_type": "code",
   "execution_count": 3,
   "metadata": {},
   "outputs": [
    {
     "name": "stdout",
     "output_type": "stream",
     "text": [
      "[1.0, 2.0, 3.0]\n"
     ]
    }
   ],
   "source": [
    "print(linear_fac.get_scale_factors())"
   ]
  },
  {
   "cell_type": "code",
   "execution_count": 4,
   "metadata": {},
   "outputs": [],
   "source": [
    "frontend = \"cirq\""
   ]
  },
  {
   "cell_type": "code",
   "execution_count": 5,
   "metadata": {},
   "outputs": [
    {
     "name": "stdout",
     "output_type": "stream",
     "text": [
      "0: ───Y^-0.5───I───X^-0.5───I───(Z^-0.5-X^0.5)───\n"
     ]
    }
   ],
   "source": [
    "from mitiq import benchmarks\n",
    "\n",
    "circuit = benchmarks.generate_rb_circuits(\n",
    "  n_qubits=1, num_cliffords=2, return_type = frontend,\n",
    ")[0]\n",
    "\n",
    "print(circuit)"
   ]
  },
  {
   "cell_type": "code",
   "execution_count": 6,
   "metadata": {},
   "outputs": [],
   "source": [
    "import numpy as np\n",
    "from cirq import DensityMatrixSimulator, depolarize\n",
    "from mitiq.interface import convert_to_mitiq\n",
    "\n",
    "def execute(circuit, noise_level=0.01):\n",
    "    \"\"\"Returns Tr[ρ |0⟩⟨0|] where ρ is the state prepared by the circuit\n",
    "    executed with depolarizing noise.\n",
    "    \"\"\"\n",
    "    # Replace with code based on your frontend and backend.\n",
    "    mitiq_circuit, _ = convert_to_mitiq(circuit)\n",
    "    noisy_circuit = mitiq_circuit.with_noise(depolarize(p=noise_level))\n",
    "    rho = DensityMatrixSimulator().simulate(noisy_circuit).final_density_matrix\n",
    "    return rho[0, 0].real"
   ]
  },
  {
   "cell_type": "code",
   "execution_count": 7,
   "metadata": {},
   "outputs": [
    {
     "name": "stdout",
     "output_type": "stream",
     "text": [
      "Error without mitigation: 0.03246\n"
     ]
    }
   ],
   "source": [
    "# Compute the expectation value of the |0><0| observable.\n",
    "noisy_value = execute(circuit)\n",
    "ideal_value = execute(circuit, noise_level=0.0)\n",
    "print(f\"Error without mitigation: {abs(ideal_value - noisy_value) :.5f}\")"
   ]
  },
  {
   "cell_type": "code",
   "execution_count": 8,
   "metadata": {},
   "outputs": [],
   "source": [
    "from mitiq import zne\n",
    "\n",
    "mitigated_result = zne.execute_with_zne(circuit, execute)"
   ]
  },
  {
   "cell_type": "code",
   "execution_count": 9,
   "metadata": {},
   "outputs": [
    {
     "name": "stdout",
     "output_type": "stream",
     "text": [
      "Error with mitigation (ZNE): 0.0179\n"
     ]
    }
   ],
   "source": [
    "print(f\"Error with mitigation (ZNE): {abs(ideal_value - mitigated_result):.{3}}\")"
   ]
  },
  {
   "cell_type": "code",
   "execution_count": 10,
   "metadata": {},
   "outputs": [
    {
     "name": "stdout",
     "output_type": "stream",
     "text": [
      "Folded circuit:\n",
      "0: ───Y^-0.5───Y^0.5───Y^-0.5───I───X^-0.5───X^0.5───X^-0.5───I───(Z^-0.5-X^0.5)───\n"
     ]
    }
   ],
   "source": [
    "from mitiq.zne.scaling import fold_gates_at_random\n",
    "\n",
    "folded = fold_gates_at_random(circuit, scale_factor=2.)\n",
    "print(\"Folded circuit:\", folded, sep=\"\\n\")"
   ]
  },
  {
   "cell_type": "code",
   "execution_count": 11,
   "metadata": {},
   "outputs": [],
   "source": [
    "from mitiq.zne.inference import LinearFactory\n",
    "\n",
    "linear_fac = LinearFactory(scale_factors=[1.0, 2.0])"
   ]
  },
  {
   "cell_type": "code",
   "execution_count": 12,
   "metadata": {},
   "outputs": [
    {
     "data": {
      "text/plain": [
       "[]"
      ]
     },
     "execution_count": 12,
     "metadata": {},
     "output_type": "execute_result"
    }
   ],
   "source": [
    "linear_fac.get_scale_factors()"
   ]
  },
  {
   "cell_type": "code",
   "execution_count": null,
   "metadata": {},
   "outputs": [],
   "source": []
  }
 ],
 "metadata": {
  "kernelspec": {
   "display_name": "mitiqenv",
   "language": "python",
   "name": "python3"
  },
  "language_info": {
   "codemirror_mode": {
    "name": "ipython",
    "version": 3
   },
   "file_extension": ".py",
   "mimetype": "text/x-python",
   "name": "python",
   "nbconvert_exporter": "python",
   "pygments_lexer": "ipython3",
   "version": "3.10.15"
  }
 },
 "nbformat": 4,
 "nbformat_minor": 2
}
