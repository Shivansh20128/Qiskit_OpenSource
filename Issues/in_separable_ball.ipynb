{
 "cells": [
  {
   "cell_type": "code",
   "execution_count": 1,
   "metadata": {},
   "outputs": [],
   "source": [
    "import numpy as np\n",
    "\n",
    "def in_separable_ball(mat: np.ndarray) -> bool:\n",
    "    mat_dims = mat.shape\n",
    "    max_dim = max(mat_dims)\n",
    "\n",
    "    # If the matrix is a vector, turn it into a matrix. We could instead turn every matrix into a\n",
    "    # vector of eigenvalues, but that would make the computation take O(n^3) time instead of the\n",
    "    # current method which is O(n^2).\n",
    "\n",
    "    # Case: Vector of eigenvalues.\n",
    "    if len(mat_dims) == 1 or min(mat_dims) == 1:\n",
    "        mat = np.diag(mat)\n",
    "\n",
    "    # If the matrix has trace equal to 0 or less, it cannot be in the separable ball.\n",
    "    if np.trace(mat) < max_dim * np.finfo(float).eps:\n",
    "        return False\n",
    "\n",
    "    mat = mat / np.trace(mat)\n",
    "\n",
    "    # The following check relies on the fact that we scaled the matrix so that trace(mat) = 1.\n",
    "    # The following condition is then exactly the condition mentioned in :cite:`Gurvits_2002_Largest`.\n",
    "    return np.linalg.norm(mat / np.linalg.norm(mat, \"fro\") ** 2 - np.eye(max_dim), \"fro\") <= 1"
   ]
  },
  {
   "cell_type": "code",
   "execution_count": 2,
   "metadata": {},
   "outputs": [],
   "source": [
    "myarr = []\n",
    "for i in range(1000000):\n",
    "    myarr.append(in_separable_ball(np.identity(4) @ np.diag(np.array([1, 1, 1, 0])) / 3 @ np.identity(4).conj().T))"
   ]
  },
  {
   "cell_type": "code",
   "execution_count": 3,
   "metadata": {},
   "outputs": [
    {
     "data": {
      "text/plain": [
       "1000000"
      ]
     },
     "execution_count": 3,
     "metadata": {},
     "output_type": "execute_result"
    }
   ],
   "source": [
    "myarr.count(True)"
   ]
  },
  {
   "cell_type": "code",
   "execution_count": null,
   "metadata": {},
   "outputs": [],
   "source": []
  }
 ],
 "metadata": {
  "kernelspec": {
   "display_name": "qiskitenv",
   "language": "python",
   "name": "python3"
  },
  "language_info": {
   "codemirror_mode": {
    "name": "ipython",
    "version": 3
   },
   "file_extension": ".py",
   "mimetype": "text/x-python",
   "name": "python",
   "nbconvert_exporter": "python",
   "pygments_lexer": "ipython3",
   "version": "3.9.6"
  }
 },
 "nbformat": 4,
 "nbformat_minor": 2
}
