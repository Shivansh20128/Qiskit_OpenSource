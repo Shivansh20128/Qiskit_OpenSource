{
 "cells": [
  {
   "cell_type": "code",
   "execution_count": 1,
   "metadata": {},
   "outputs": [
    {
     "data": {
      "text/plain": [
       "['braket', 'cirq', 'pennylane', 'pyquil', 'qibo', 'qiskit']"
      ]
     },
     "execution_count": 1,
     "metadata": {},
     "output_type": "execute_result"
    }
   ],
   "source": [
    "import mitiq\n",
    "\n",
    "mitiq.SUPPORTED_PROGRAM_TYPES.keys()"
   ]
  },
  {
   "cell_type": "code",
   "execution_count": 2,
   "metadata": {},
   "outputs": [],
   "source": [
    "frontend = \"cirq\""
   ]
  },
  {
   "cell_type": "code",
   "execution_count": 3,
   "metadata": {},
   "outputs": [
    {
     "name": "stdout",
     "output_type": "stream",
     "text": [
      "0: ───Y^-0.5───X^-0.5───Y^0.5───Y^0.5───X^0.5───Y^0.5───X───\n",
      "0: ───Y^0.5───X^0.5───Y^-0.5───X^-0.5───Y^0.5───(Y-X^0.5)───\n",
      "0: ───Y^-0.5───I───Y^0.5───I───I───\n"
     ]
    }
   ],
   "source": [
    "from mitiq import benchmarks\n",
    "\n",
    "circuits = benchmarks.generate_rb_circuits(\n",
    "  n_qubits=1, num_cliffords=2, return_type = frontend, trials=3,\n",
    ")\n",
    "circuit = circuits[0]\n",
    "print(circuits[0])\n",
    "print(circuits[1])\n",
    "print(circuits[2])"
   ]
  },
  {
   "cell_type": "code",
   "execution_count": 4,
   "metadata": {},
   "outputs": [],
   "source": [
    "import numpy as np\n",
    "from cirq import DensityMatrixSimulator, depolarize\n",
    "from mitiq.interface import convert_to_mitiq\n",
    "\n",
    "def execute(circuit, noise_level=0.01):\n",
    "    \"\"\"Returns Tr[ρ |0⟩⟨0|] where ρ is the state prepared by the circuit\n",
    "    executed with depolarizing noise.\n",
    "    \"\"\"\n",
    "    # Replace with code based on your frontend and backend.\n",
    "    mitiq_circuit, _ = convert_to_mitiq(circuit)\n",
    "    noisy_circuit = mitiq_circuit.with_noise(depolarize(p=noise_level))\n",
    "    rho = DensityMatrixSimulator().simulate(noisy_circuit).final_density_matrix\n",
    "    return rho[0, 0].real"
   ]
  },
  {
   "cell_type": "code",
   "execution_count": 5,
   "metadata": {},
   "outputs": [
    {
     "name": "stdout",
     "output_type": "stream",
     "text": [
      "Error without mitigation: 0.04484\n"
     ]
    }
   ],
   "source": [
    "# Compute the expectation value of the |0><0| observable.\n",
    "noisy_value = execute(circuit)\n",
    "ideal_value = execute(circuit, noise_level=0.0)\n",
    "print(f\"Error without mitigation: {abs(ideal_value - noisy_value) :.5f}\")"
   ]
  },
  {
   "cell_type": "code",
   "execution_count": 6,
   "metadata": {},
   "outputs": [],
   "source": [
    "\n"
   ]
  },
  {
   "cell_type": "code",
   "execution_count": 7,
   "metadata": {},
   "outputs": [
    {
     "name": "stdout",
     "output_type": "stream",
     "text": [
      "[]\n",
      "shivansh\n",
      "[0.9607930183410645, 0.9228377342224121, 0.8868370056152344, 0.98039710521698, 0.9566540718078613, 0.9434801340103149, 0.9902970194816589, 0.9761162400245667, 0.9725918769836426]\n",
      "<class 'list'>\n"
     ]
    },
    {
     "name": "stderr",
     "output_type": "stream",
     "text": [
      "/Users/Shared/Drive/Qiskit/mitiq/mitiq/zne/inference.py:178: ExtrapolationWarning: The extrapolation fit may be ill-conditioned. Likely, more data points are necessary to fit the parameters of the model.\n",
      "  opt_params, params_cov = np.polyfit(\n",
      "/Users/Shared/Drive/Qiskit/mitiq/mitiq/zne/inference.py:182: ExtrapolationWarning: The extrapolation fit may be ill-conditioned. Likely, more data points are necessary to fit the parameters of the model.\n",
      "  opt_params = np.polyfit(scale_factors, exp_values, deg, w=weights)\n"
     ]
    }
   ],
   "source": [
    "from mitiq import zne\n",
    "print(linear_fac.get_scale_factors())\n",
    "\n",
    "mitigated_result = zne.execute_with_zne(circuits, execute, factory=linear_fac)"
   ]
  },
  {
   "cell_type": "code",
   "execution_count": 8,
   "metadata": {},
   "outputs": [
    {
     "name": "stdout",
     "output_type": "stream",
     "text": [
      "0.9160624991011783\n"
     ]
    }
   ],
   "source": [
    "print(mitigated_result)"
   ]
  },
  {
   "cell_type": "code",
   "execution_count": 9,
   "metadata": {},
   "outputs": [
    {
     "name": "stdout",
     "output_type": "stream",
     "text": [
      "Error with mitigation (ZNE): 0.0839\n"
     ]
    }
   ],
   "source": [
    "print(f\"Error with mitigation (ZNE): {abs(ideal_value - mitigated_result):.{3}}\")"
   ]
  },
  {
   "cell_type": "code",
   "execution_count": 10,
   "metadata": {},
   "outputs": [
    {
     "name": "stdout",
     "output_type": "stream",
     "text": [
      "Folded circuit:\n",
      "0: ───Y^-0.5───Y^0.5───Y^-0.5───X^-0.5───Y^0.5───Y^0.5───X^0.5───Y^0.5───Y^-0.5───Y^0.5───X───X───X───\n"
     ]
    }
   ],
   "source": [
    "from mitiq.zne.scaling import fold_gates_at_random\n",
    "\n",
    "folded = fold_gates_at_random(circuit, scale_factor=2.)\n",
    "print(\"Folded circuit:\", folded, sep=\"\\n\")"
   ]
  },
  {
   "cell_type": "code",
   "execution_count": 11,
   "metadata": {},
   "outputs": [
    {
     "data": {
      "text/plain": [
       "[]"
      ]
     },
     "execution_count": 11,
     "metadata": {},
     "output_type": "execute_result"
    }
   ],
   "source": [
    "from mitiq.zne.inference import LinearFactory\n",
    "\n",
    "linear_fac = LinearFactory(scale_factors=[1.0, 2.0, 3.0])\n",
    "linear_fac.get_scale_factors()"
   ]
  },
  {
   "cell_type": "code",
   "execution_count": 12,
   "metadata": {},
   "outputs": [],
   "source": [
    "from mitiq import zne\n",
    "\n",
    "mitigated_result = zne.execute_with_zne(\n",
    "     circuit, execute, factory=linear_fac, scale_noise=fold_gates_at_random,\n",
    ")"
   ]
  },
  {
   "cell_type": "code",
   "execution_count": 13,
   "metadata": {},
   "outputs": [
    {
     "name": "stdout",
     "output_type": "stream",
     "text": [
      "Error with mitigation (ZNE): 0.0046\n"
     ]
    }
   ],
   "source": [
    "print(f\"Error with mitigation (ZNE): {abs(ideal_value - mitigated_result):.{3}}\")"
   ]
  },
  {
   "cell_type": "markdown",
   "metadata": {},
   "source": [
    "# Two stage application of ZNE"
   ]
  },
  {
   "cell_type": "code",
   "execution_count": 14,
   "metadata": {},
   "outputs": [
    {
     "data": {
      "text/plain": [
       "[0: ───Y^-0.5───X^-0.5───Y^0.5───Y^0.5───X^0.5───Y^0.5───X───,\n",
       " 0: ───Y^-0.5───X^-0.5───X^0.5───X^-0.5───Y^0.5───Y^-0.5───Y^0.5───Y^0.5───X^0.5───Y^0.5───X───X───X───,\n",
       " 0: ───Y^-0.5───Y^0.5───Y^-0.5───X^-0.5───X^0.5───X^-0.5───Y^0.5───Y^-0.5───Y^0.5───Y^0.5───Y^-0.5───Y^0.5───X^0.5───X^-0.5───X^0.5───Y^0.5───Y^-0.5───Y^0.5───X───X───X───]"
      ]
     },
     "execution_count": 14,
     "metadata": {},
     "output_type": "execute_result"
    }
   ],
   "source": [
    "from mitiq.zne import scaled_circuits, combine_results\n",
    "from mitiq.zne.scaling import fold_gates_at_random\n",
    "\n",
    "scale_factors = [1.0, 2.0, 3.0]\n",
    "\n",
    "folded_circuits = scaled_circuits(\n",
    "    circuit=circuit,\n",
    "    scale_factors=[1.0, 2.0, 3.0],\n",
    "    scale_method=fold_gates_at_random,\n",
    ")\n",
    "\n",
    "folded_circuits"
   ]
  },
  {
   "cell_type": "code",
   "execution_count": 15,
   "metadata": {},
   "outputs": [
    {
     "name": "stdout",
     "output_type": "stream",
     "text": [
      "[0.95515895, 0.9199386, 0.8771806]\n"
     ]
    }
   ],
   "source": [
    "results = [execute(circuit) for circuit in folded_circuits]\n",
    "\n",
    "print(results)"
   ]
  },
  {
   "cell_type": "code",
   "execution_count": 16,
   "metadata": {},
   "outputs": [
    {
     "name": "stdout",
     "output_type": "stream",
     "text": [
      "Unmitigated value: 0.9551589488983154\n",
      "Mitigated value: 0.9828415513038642\n"
     ]
    }
   ],
   "source": [
    "from mitiq.zne.inference import RichardsonFactory\n",
    "\n",
    "extrapolation_method = RichardsonFactory(scale_factors=scale_factors).extrapolate\n",
    "two_stage_zne_result = combine_results(\n",
    "    scale_factors, results, extrapolation_method\n",
    ")\n",
    "\n",
    "print(f'Unmitigated value: {execute(circuit)}')\n",
    "print(f'Mitigated value: {two_stage_zne_result}')"
   ]
  },
  {
   "cell_type": "code",
   "execution_count": null,
   "metadata": {},
   "outputs": [],
   "source": []
  }
 ],
 "metadata": {
  "kernelspec": {
   "display_name": "mitiqenv",
   "language": "python",
   "name": "python3"
  },
  "language_info": {
   "codemirror_mode": {
    "name": "ipython",
    "version": 3
   },
   "file_extension": ".py",
   "mimetype": "text/x-python",
   "name": "python",
   "nbconvert_exporter": "python",
   "pygments_lexer": "ipython3",
   "version": "3.10.15"
  }
 },
 "nbformat": 4,
 "nbformat_minor": 2
}
