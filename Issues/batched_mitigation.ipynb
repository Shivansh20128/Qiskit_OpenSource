{
 "cells": [
  {
   "cell_type": "code",
   "execution_count": 1,
   "metadata": {},
   "outputs": [
    {
     "data": {
      "text/plain": [
       "['braket', 'cirq', 'pennylane', 'pyquil', 'qibo', 'qiskit']"
      ]
     },
     "execution_count": 1,
     "metadata": {},
     "output_type": "execute_result"
    }
   ],
   "source": [
    "import mitiq\n",
    "\n",
    "mitiq.SUPPORTED_PROGRAM_TYPES.keys()"
   ]
  },
  {
   "cell_type": "code",
   "execution_count": 2,
   "metadata": {},
   "outputs": [],
   "source": [
    "frontend = \"cirq\""
   ]
  },
  {
   "cell_type": "code",
   "execution_count": 3,
   "metadata": {},
   "outputs": [
    {
     "name": "stdout",
     "output_type": "stream",
     "text": [
      "0: ───Y───X───X───Y^-0.5───Y^-0.5───\n"
     ]
    }
   ],
   "source": [
    "from mitiq import benchmarks\n",
    "\n",
    "circuit = benchmarks.generate_rb_circuits(\n",
    "  n_qubits=1, num_cliffords=2, return_type = frontend,\n",
    ")[0]\n",
    "\n",
    "print(circuit)"
   ]
  },
  {
   "cell_type": "code",
   "execution_count": 4,
   "metadata": {},
   "outputs": [],
   "source": [
    "import numpy as np\n",
    "from cirq import DensityMatrixSimulator, depolarize\n",
    "from mitiq.interface import convert_to_mitiq\n",
    "\n",
    "def execute(circuit, noise_level=0.01):\n",
    "    \"\"\"Returns Tr[ρ |0⟩⟨0|] where ρ is the state prepared by the circuit\n",
    "    executed with depolarizing noise.\n",
    "    \"\"\"\n",
    "    # Replace with code based on your frontend and backend.\n",
    "    mitiq_circuit, _ = convert_to_mitiq(circuit)\n",
    "    noisy_circuit = mitiq_circuit.with_noise(depolarize(p=noise_level))\n",
    "    rho = DensityMatrixSimulator().simulate(noisy_circuit).final_density_matrix\n",
    "    return rho[0, 0].real"
   ]
  },
  {
   "cell_type": "code",
   "execution_count": 4,
   "metadata": {},
   "outputs": [
    {
     "data": {
      "text/plain": [
       "[0: ───Y───X───X───Y^-0.5───Y^0.5───Y^-0.5───Y^-0.5───Y^0.5───Y^-0.5───,\n",
       " 0: ───Y───Y───Y───X───X───X───X───X───X───Y^-0.5───Y^0.5───Y^-0.5───Y^-0.5───Y^0.5───Y^-0.5───]"
      ]
     },
     "execution_count": 4,
     "metadata": {},
     "output_type": "execute_result"
    }
   ],
   "source": [
    "from mitiq.zne import scaled_circuits, combine_results\n",
    "from mitiq.zne.scaling import fold_gates_at_random\n",
    "\n",
    "scale_factors = [2.0, 3.0]\n",
    "\n",
    "folded_circuits = scaled_circuits(\n",
    "    circuit=circuit,\n",
    "    scale_factors=scale_factors,\n",
    "    scale_method=fold_gates_at_random,\n",
    ")\n",
    "\n",
    "folded_circuits"
   ]
  },
  {
   "cell_type": "code",
   "execution_count": 6,
   "metadata": {},
   "outputs": [
    {
     "name": "stdout",
     "output_type": "stream",
     "text": [
      "[0.92561346, 0.8926793]\n"
     ]
    }
   ],
   "source": [
    "results = [execute(circuit) for circuit in folded_circuits]\n",
    "\n",
    "print(results)"
   ]
  },
  {
   "cell_type": "code",
   "execution_count": 10,
   "metadata": {},
   "outputs": [],
   "source": [
    "from typing import List\n",
    "import cirq\n",
    "import numpy as np\n",
    "from mitiq.interface import mitiq_cirq\n",
    "from mitiq import Executor, Observable, PauliString\n",
    "\n",
    "def batch_compute_density_matrix(circuits: List[cirq.Circuit]) -> List[np.ndarray]:\n",
    "    return [mitiq_cirq.compute_density_matrix(circuit) for circuit in circuits]\n",
    "\n",
    "\n",
    "batched_executor = Executor(batch_compute_density_matrix, max_batch_size=10)"
   ]
  },
  {
   "cell_type": "code",
   "execution_count": 11,
   "metadata": {},
   "outputs": [
    {
     "data": {
      "text/plain": [
       "True"
      ]
     },
     "execution_count": 11,
     "metadata": {},
     "output_type": "execute_result"
    }
   ],
   "source": [
    "batched_executor.can_batch"
   ]
  },
  {
   "cell_type": "code",
   "execution_count": 12,
   "metadata": {},
   "outputs": [
    {
     "name": "stdout",
     "output_type": "stream",
     "text": [
      "Results: [0.9615676999092102, 0.9434799551963806]\n",
      "\n",
      "Calls to executor: 1\n",
      "\n",
      "Executed circuits:\n",
      "\n",
      "0: ───Y^-0.5───X^-0.5───Y^0.5───Y^-0.5───Y^0.5───Y^-0.5───I───I───I───(Z^-0.5-X^0.5)───(X^-0.5-Z^0.5)───(Z^-0.5-X^0.5)───\n",
      "0: ───Y^-0.5───Y^0.5───Y^-0.5───X^-0.5───X^0.5───X^-0.5───Y^0.5───Y^-0.5───Y^0.5───Y^-0.5───Y^0.5───Y^-0.5───I───I───I───(Z^-0.5-X^0.5)───(X^-0.5-Z^0.5)───(Z^-0.5-X^0.5)───\n",
      "\n",
      "Quantum results:\n",
      "\n",
      "[[0.98078376+1.4752150e-08j 0.00473114+3.3582482e-02j]\n",
      " [0.00473114-3.3582367e-02j 0.01921606-1.4752150e-08j]]\n",
      "[[0.9717397 -3.0100345e-08j 0.0138422 +4.2603709e-02j]\n",
      " [0.01384223-4.2603709e-02j 0.02825978-2.9504299e-08j]]\n"
     ]
    }
   ],
   "source": [
    "# circuits = [cirq.Circuit(pauli.on(q)) for pauli in (cirq.X, cirq.Y, cirq.Z)]\n",
    "\n",
    "results = batched_executor.evaluate(folded_circuits, Observable(PauliString(\"Z\")))\n",
    "\n",
    "print(\"Results:\", results)\n",
    "print(\"\\nCalls to executor:\", batched_executor.calls_to_executor)\n",
    "print(\"\\nExecuted circuits:\\n\", *batched_executor.executed_circuits, sep=\"\\n\")\n",
    "print(\"\\nQuantum results:\\n\", *batched_executor.quantum_results, sep=\"\\n\")"
   ]
  },
  {
   "cell_type": "code",
   "execution_count": 1,
   "metadata": {},
   "outputs": [],
   "source": [
    "import functools\n",
    "from unittest.mock import Mock\n",
    "from mitiq.zne.inference import PolyFactory\n",
    "from mitiq.zne import execute_with_zne\n",
    "from mitiq.observable import Observable, PauliString\n",
    "import cirq\n",
    "import numpy as np\n",
    "\n",
    "npX = np.array([[0, 1], [1, 0]])\n",
    "\"\"\"Defines the sigma_x Pauli matrix in SU(2) algebra as a (2,2) `np.array`.\"\"\"\n",
    "\n",
    "npZ = np.array([[1, 0], [0, -1]])\n",
    "\"\"\"Defines the sigma_z Pauli matrix in SU(2) algebra as a (2,2) `np.array`.\"\"\"\n",
    "\n",
    "# Default executor for unit tests\n",
    "def executor(circuit) -> float:\n",
    "    wavefunction = circuit.final_state_vector(\n",
    "        ignore_terminal_measurements=True\n",
    "    )\n",
    "    return np.real(wavefunction.conj().T @ np.kron(npX, npZ) @ wavefunction)\n",
    "\n",
    "def test_with_observable_batched_factory(executor):\n",
    "    observable = Observable(PauliString(spec=\"Z\"))\n",
    "    circuit = cirq.Circuit(cirq.H.on(cirq.LineQubit(0))) * 20\n",
    "    executor = functools.partial(\n",
    "        executor, noise_model_function=cirq.depolarize\n",
    "    )\n",
    "\n",
    "    real_factory = PolyFactory(scale_factors=[1, 3, 5], order=2)\n",
    "    mock_factory = Mock(spec_set=PolyFactory, wraps=real_factory)\n",
    "    zne_val = execute_with_zne(\n",
    "        circuit,\n",
    "        executor=executor,\n",
    "        observable=observable,\n",
    "        factory=mock_factory,\n",
    "    )\n",
    "\n",
    "    mock_factory.run.assert_called_with(\n",
    "        circuit, executor, observable, fold_gates_at_random, 1\n",
    "    )\n",
    "    assert 0 <= zne_val <= 2"
   ]
  },
  {
   "cell_type": "code",
   "execution_count": 2,
   "metadata": {},
   "outputs": [
    {
     "ename": "TypeError",
     "evalue": "the first argument must be callable",
     "output_type": "error",
     "traceback": [
      "\u001b[0;31m---------------------------------------------------------------------------\u001b[0m",
      "\u001b[0;31mTypeError\u001b[0m                                 Traceback (most recent call last)",
      "Cell \u001b[0;32mIn[2], line 5\u001b[0m\n\u001b[1;32m      1\u001b[0m \u001b[38;5;28;01mfrom\u001b[39;00m \u001b[38;5;21;01mmitiq\u001b[39;00m\u001b[38;5;21;01m.\u001b[39;00m\u001b[38;5;21;01minterface\u001b[39;00m\u001b[38;5;21;01m.\u001b[39;00m\u001b[38;5;21;01mmitiq_cirq\u001b[39;00m \u001b[38;5;28;01mimport\u001b[39;00m (\n\u001b[1;32m      2\u001b[0m     compute_density_matrix,\n\u001b[1;32m      3\u001b[0m     sample_bitstrings,\n\u001b[1;32m      4\u001b[0m )\n\u001b[0;32m----> 5\u001b[0m \u001b[43mtest_with_observable_batched_factory\u001b[49m\u001b[43m(\u001b[49m\u001b[43m(\u001b[49m\u001b[43msample_bitstrings\u001b[49m\u001b[43m,\u001b[49m\u001b[43m \u001b[49m\u001b[43mcompute_density_matrix\u001b[49m\u001b[43m)\u001b[49m\u001b[43m)\u001b[49m\n",
      "Cell \u001b[0;32mIn[1], line 25\u001b[0m, in \u001b[0;36mtest_with_observable_batched_factory\u001b[0;34m(executor)\u001b[0m\n\u001b[1;32m     23\u001b[0m observable \u001b[38;5;241m=\u001b[39m Observable(PauliString(spec\u001b[38;5;241m=\u001b[39m\u001b[38;5;124m\"\u001b[39m\u001b[38;5;124mZ\u001b[39m\u001b[38;5;124m\"\u001b[39m))\n\u001b[1;32m     24\u001b[0m circuit \u001b[38;5;241m=\u001b[39m cirq\u001b[38;5;241m.\u001b[39mCircuit(cirq\u001b[38;5;241m.\u001b[39mH\u001b[38;5;241m.\u001b[39mon(cirq\u001b[38;5;241m.\u001b[39mLineQubit(\u001b[38;5;241m0\u001b[39m))) \u001b[38;5;241m*\u001b[39m \u001b[38;5;241m20\u001b[39m\n\u001b[0;32m---> 25\u001b[0m executor \u001b[38;5;241m=\u001b[39m \u001b[43mfunctools\u001b[49m\u001b[38;5;241;43m.\u001b[39;49m\u001b[43mpartial\u001b[49m\u001b[43m(\u001b[49m\n\u001b[1;32m     26\u001b[0m \u001b[43m    \u001b[49m\u001b[43mexecutor\u001b[49m\u001b[43m,\u001b[49m\u001b[43m \u001b[49m\u001b[43mnoise_model_function\u001b[49m\u001b[38;5;241;43m=\u001b[39;49m\u001b[43mcirq\u001b[49m\u001b[38;5;241;43m.\u001b[39;49m\u001b[43mdepolarize\u001b[49m\n\u001b[1;32m     27\u001b[0m \u001b[43m\u001b[49m\u001b[43m)\u001b[49m\n\u001b[1;32m     29\u001b[0m real_factory \u001b[38;5;241m=\u001b[39m PolyFactory(scale_factors\u001b[38;5;241m=\u001b[39m[\u001b[38;5;241m1\u001b[39m, \u001b[38;5;241m3\u001b[39m, \u001b[38;5;241m5\u001b[39m], order\u001b[38;5;241m=\u001b[39m\u001b[38;5;241m2\u001b[39m)\n\u001b[1;32m     30\u001b[0m mock_factory \u001b[38;5;241m=\u001b[39m Mock(spec_set\u001b[38;5;241m=\u001b[39mPolyFactory, wraps\u001b[38;5;241m=\u001b[39mreal_factory)\n",
      "\u001b[0;31mTypeError\u001b[0m: the first argument must be callable"
     ]
    }
   ],
   "source": [
    "from mitiq.interface.mitiq_cirq import (\n",
    "    compute_density_matrix,\n",
    "    sample_bitstrings,\n",
    ")\n",
    "test_with_observable_batched_factory((sample_bitstrings, compute_density_matrix))"
   ]
  }
 ],
 "metadata": {
  "kernelspec": {
   "display_name": "mitiqenv",
   "language": "python",
   "name": "python3"
  },
  "language_info": {
   "codemirror_mode": {
    "name": "ipython",
    "version": 3
   },
   "file_extension": ".py",
   "mimetype": "text/x-python",
   "name": "python",
   "nbconvert_exporter": "python",
   "pygments_lexer": "ipython3",
   "version": "3.10.15"
  }
 },
 "nbformat": 4,
 "nbformat_minor": 2
}
