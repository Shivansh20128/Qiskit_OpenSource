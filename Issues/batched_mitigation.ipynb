{
 "cells": [
  {
   "cell_type": "code",
   "execution_count": 1,
   "metadata": {},
   "outputs": [
    {
     "data": {
      "text/plain": [
       "['braket', 'cirq', 'pennylane', 'pyquil', 'qibo', 'qiskit']"
      ]
     },
     "execution_count": 1,
     "metadata": {},
     "output_type": "execute_result"
    }
   ],
   "source": [
    "import mitiq\n",
    "\n",
    "mitiq.SUPPORTED_PROGRAM_TYPES.keys()"
   ]
  },
  {
   "cell_type": "code",
   "execution_count": 2,
   "metadata": {},
   "outputs": [],
   "source": [
    "frontend = \"cirq\""
   ]
  },
  {
   "cell_type": "code",
   "execution_count": 3,
   "metadata": {},
   "outputs": [
    {
     "name": "stdout",
     "output_type": "stream",
     "text": [
      "0: ───X^0.5───Y^0.5───Y^-0.5───I───X^-0.5───\n"
     ]
    }
   ],
   "source": [
    "from mitiq import benchmarks\n",
    "\n",
    "circuit = benchmarks.generate_rb_circuits(\n",
    "  n_qubits=1, num_cliffords=2, return_type = frontend,\n",
    ")[0]\n",
    "\n",
    "print(circuit)"
   ]
  },
  {
   "cell_type": "code",
   "execution_count": 4,
   "metadata": {},
   "outputs": [],
   "source": [
    "import numpy as np\n",
    "from cirq import DensityMatrixSimulator, depolarize\n",
    "from mitiq.interface import convert_to_mitiq\n",
    "\n",
    "def execute(circuit, noise_level=0.01):\n",
    "    \"\"\"Returns Tr[ρ |0⟩⟨0|] where ρ is the state prepared by the circuit\n",
    "    executed with depolarizing noise.\n",
    "    \"\"\"\n",
    "    # Replace with code based on your frontend and backend.\n",
    "    mitiq_circuit, _ = convert_to_mitiq(circuit)\n",
    "    noisy_circuit = mitiq_circuit.with_noise(depolarize(p=noise_level))\n",
    "    rho = DensityMatrixSimulator().simulate(noisy_circuit).final_density_matrix\n",
    "    return rho[0, 0].real"
   ]
  },
  {
   "cell_type": "code",
   "execution_count": 7,
   "metadata": {},
   "outputs": [
    {
     "data": {
      "text/plain": [
       "[0: ───X^0.5───X^-0.5───X^0.5───Y^0.5───Y^-0.5───I───X^-0.5───X^0.5───X^-0.5───]"
      ]
     },
     "execution_count": 7,
     "metadata": {},
     "output_type": "execute_result"
    }
   ],
   "source": [
    "from mitiq.zne import scaled_circuits, combine_results\n",
    "from mitiq.zne.scaling import fold_gates_at_random\n",
    "\n",
    "scale_factors = 2.0\n",
    "\n",
    "folded_circuits = scaled_circuits(\n",
    "    circuit=circuit,\n",
    "    scale_factors=[scale_factors],\n",
    "    scale_method=fold_gates_at_random,\n",
    ")\n",
    "\n",
    "folded_circuits"
   ]
  },
  {
   "cell_type": "code",
   "execution_count": 8,
   "metadata": {},
   "outputs": [
    {
     "name": "stdout",
     "output_type": "stream",
     "text": [
      "[0.9431023]\n"
     ]
    }
   ],
   "source": [
    "results = [execute(circuit) for circuit in folded_circuits]\n",
    "\n",
    "print(results)"
   ]
  }
 ],
 "metadata": {
  "kernelspec": {
   "display_name": "mitiqenv",
   "language": "python",
   "name": "python3"
  },
  "language_info": {
   "codemirror_mode": {
    "name": "ipython",
    "version": 3
   },
   "file_extension": ".py",
   "mimetype": "text/x-python",
   "name": "python",
   "nbconvert_exporter": "python",
   "pygments_lexer": "ipython3",
   "version": "3.10.15"
  }
 },
 "nbformat": 4,
 "nbformat_minor": 2
}
