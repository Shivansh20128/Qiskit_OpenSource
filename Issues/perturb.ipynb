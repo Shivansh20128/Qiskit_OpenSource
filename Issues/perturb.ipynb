{
 "cells": [
  {
   "cell_type": "code",
   "execution_count": 1,
   "metadata": {},
   "outputs": [],
   "source": [
    "import numpy as np\n",
    "def perturb_vectors(vectors: list[np.ndarray], eps: float = 0.1) -> list[np.ndarray]:\n",
    "    \"\"\"Perturb the vectors by adding a small random number to each element.\n",
    "\n",
    "    :param vectors: List of vectors to perturb.\n",
    "    :param eps: Amount by which to perturb vectors.\n",
    "    :return: Resulting list of perturbed vectors by a factor of epsilon.\n",
    "    \"\"\"\n",
    "    perturbed_vectors: list[np.ndarray] = []\n",
    "    for i, v in enumerate(vectors):\n",
    "        perturbed_vectors.append(v + np.random.randn(v.shape[0]) * eps)\n",
    "\n",
    "        # Normalize the vectors after perturbing them.\n",
    "        perturbed_vectors[i] = perturbed_vectors[i] / np.linalg.norm(perturbed_vectors[i])\n",
    "    return np.array(perturbed_vectors)"
   ]
  },
  {
   "cell_type": "code",
   "execution_count": 15,
   "metadata": {},
   "outputs": [
    {
     "data": {
      "text/plain": [
       "array([[ 0.99461544,  0.06108107,  0.08372118],\n",
       "       [ 0.05581476,  0.99750258, -0.04328177],\n",
       "       [ 0.11782541,  0.02496982,  0.99272034]])"
      ]
     },
     "execution_count": 15,
     "metadata": {},
     "output_type": "execute_result"
    }
   ],
   "source": [
    "vectors = [\n",
    "    np.array([1, 0, 0]),   # Unit vector along x-axis\n",
    "    np.array([0, 1, 0]),   # Unit vector along y-axis\n",
    "    np.array([0, 0, 1])    # Unit vector along z-axis\n",
    "]\n",
    "perturb_vectors(vectors, 0.1)"
   ]
  },
  {
   "cell_type": "code",
   "execution_count": 16,
   "metadata": {},
   "outputs": [
    {
     "name": "stdout",
     "output_type": "stream",
     "text": [
      "Collecting pytest\n",
      "  Downloading pytest-8.3.3-py3-none-any.whl (342 kB)\n",
      "\u001b[K     |████████████████████████████████| 342 kB 2.0 MB/s eta 0:00:01\n",
      "\u001b[?25hRequirement already satisfied: exceptiongroup>=1.0.0rc8 in /Users/Shared/Drive/Qiskit/qiskitenv/lib/python3.9/site-packages (from pytest) (1.2.2)\n",
      "Requirement already satisfied: packaging in /Users/Shared/Drive/Qiskit/qiskitenv/lib/python3.9/site-packages (from pytest) (24.1)\n",
      "Requirement already satisfied: pluggy<2,>=1.5 in /Users/Shared/Drive/Qiskit/qiskitenv/lib/python3.9/site-packages (from pytest) (1.5.0)\n",
      "Collecting iniconfig\n",
      "  Downloading iniconfig-2.0.0-py3-none-any.whl (5.9 kB)\n",
      "Requirement already satisfied: tomli>=1 in /Users/Shared/Drive/Qiskit/qiskitenv/lib/python3.9/site-packages (from pytest) (2.0.2)\n",
      "Installing collected packages: iniconfig, pytest\n",
      "Successfully installed iniconfig-2.0.0 pytest-8.3.3\n",
      "\u001b[33mWARNING: You are using pip version 21.2.4; however, version 24.2 is available.\n",
      "You should consider upgrading via the '/Users/Shared/Drive/Qiskit/qiskitenv/bin/python3 -m pip install --upgrade pip' command.\u001b[0m\n"
     ]
    }
   ],
   "source": [
    "!pip install pytest\n"
   ]
  }
 ],
 "metadata": {
  "kernelspec": {
   "display_name": "qiskitenv",
   "language": "python",
   "name": "python3"
  },
  "language_info": {
   "codemirror_mode": {
    "name": "ipython",
    "version": 3
   },
   "file_extension": ".py",
   "mimetype": "text/x-python",
   "name": "python",
   "nbconvert_exporter": "python",
   "pygments_lexer": "ipython3",
   "version": "3.9.6"
  }
 },
 "nbformat": 4,
 "nbformat_minor": 2
}
