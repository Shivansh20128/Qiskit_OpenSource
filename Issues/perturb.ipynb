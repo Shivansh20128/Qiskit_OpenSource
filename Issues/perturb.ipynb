{
 "cells": [
  {
   "cell_type": "code",
   "execution_count": 1,
   "metadata": {},
   "outputs": [],
   "source": [
    "import numpy as np\n",
    "def perturb_vectors(vectors: list[np.ndarray], eps: float = 0.1) -> list[np.ndarray]:\n",
    "    \"\"\"Perturb the vectors by adding a small random number to each element.\n",
    "\n",
    "    :param vectors: List of vectors to perturb.\n",
    "    :param eps: Amount by which to perturb vectors.\n",
    "    :return: Resulting list of perturbed vectors by a factor of epsilon.\n",
    "    \"\"\"\n",
    "    perturbed_vectors: list[np.ndarray] = []\n",
    "    for i, v in enumerate(vectors):\n",
    "        perturbed_vectors.append(v + np.random.randn(v.shape[0]) * eps)\n",
    "\n",
    "        # Normalize the vectors after perturbing them.\n",
    "        perturbed_vectors[i] = perturbed_vectors[i] / np.linalg.norm(perturbed_vectors[i])\n",
    "    return np.array(perturbed_vectors)"
   ]
  },
  {
   "cell_type": "code",
   "execution_count": 15,
   "metadata": {},
   "outputs": [
    {
     "data": {
      "text/plain": [
       "array([[ 0.99461544,  0.06108107,  0.08372118],\n",
       "       [ 0.05581476,  0.99750258, -0.04328177],\n",
       "       [ 0.11782541,  0.02496982,  0.99272034]])"
      ]
     },
     "execution_count": 15,
     "metadata": {},
     "output_type": "execute_result"
    }
   ],
   "source": [
    "vectors = [\n",
    "    np.array([1, 0, 0]),   # Unit vector along x-axis\n",
    "    np.array([0, 1, 0]),   # Unit vector along y-axis\n",
    "    np.array([0, 0, 1])    # Unit vector along z-axis\n",
    "]\n",
    "perturb_vectors(vectors, 0.1)"
   ]
  },
  {
   "cell_type": "code",
   "execution_count": 5,
   "metadata": {},
   "outputs": [
    {
     "name": "stdout",
     "output_type": "stream",
     "text": [
      "[0.50820574 0.8612357 ]\n",
      "[0.57424535 0.81868326]\n"
     ]
    }
   ],
   "source": [
    "# from toqito.matrix_ops import perturb_vectors\n",
    "import numpy as np\n",
    "vectors = [np.array([1.0, 2.0]), np.array([3.0, 4.0])]\n",
    "perturbed_vectors = perturb_vectors(vectors, eps=0.1)\n",
    "for v in perturbed_vectors:\n",
    "    print(v)"
   ]
  },
  {
   "cell_type": "code",
   "execution_count": null,
   "metadata": {},
   "outputs": [],
   "source": []
  }
 ],
 "metadata": {
  "kernelspec": {
   "display_name": "qiskitenv",
   "language": "python",
   "name": "python3"
  },
  "language_info": {
   "codemirror_mode": {
    "name": "ipython",
    "version": 3
   },
   "file_extension": ".py",
   "mimetype": "text/x-python",
   "name": "python",
   "nbconvert_exporter": "python",
   "pygments_lexer": "ipython3",
   "version": "3.9.6"
  }
 },
 "nbformat": 4,
 "nbformat_minor": 2
}
