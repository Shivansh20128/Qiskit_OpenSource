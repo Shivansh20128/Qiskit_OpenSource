{
 "cells": [
  {
   "cell_type": "code",
   "execution_count": 1,
   "metadata": {},
   "outputs": [],
   "source": [
    "import qiskit"
   ]
  },
  {
   "cell_type": "code",
   "execution_count": 2,
   "metadata": {},
   "outputs": [
    {
     "data": {
      "text/plain": [
       "'1.2.2'"
      ]
     },
     "execution_count": 2,
     "metadata": {},
     "output_type": "execute_result"
    }
   ],
   "source": [
    "qiskit.__version__"
   ]
  },
  {
   "cell_type": "code",
   "execution_count": 3,
   "metadata": {},
   "outputs": [
    {
     "name": "stderr",
     "output_type": "stream",
     "text": [
      "/Users/Shared/Drive/Qiskit/qiskitenv/lib/python3.9/site-packages/urllib3/__init__.py:35: NotOpenSSLWarning: urllib3 v2 only supports OpenSSL 1.1.1+, currently the 'ssl' module is compiled with 'LibreSSL 2.8.3'. See: https://github.com/urllib3/urllib3/issues/3020\n",
      "  warnings.warn(\n"
     ]
    }
   ],
   "source": [
    "from qiskit_ibm_runtime import QiskitRuntimeService\n",
    "\n",
    "service = QiskitRuntimeService(channel=\"ibm_quantum\", token='my-token//')"
   ]
  },
  {
   "cell_type": "code",
   "execution_count": 4,
   "metadata": {},
   "outputs": [],
   "source": [
    "QiskitRuntimeService.save_account(channel=\"ibm_quantum\", token='my-token//', overwrite=True)"
   ]
  },
  {
   "cell_type": "code",
   "execution_count": 5,
   "metadata": {},
   "outputs": [],
   "source": [
    "backend = service.backend(name = \"ibm_brisbane\")"
   ]
  },
  {
   "cell_type": "code",
   "execution_count": 6,
   "metadata": {},
   "outputs": [
    {
     "data": {
      "text/plain": [
       "127"
      ]
     },
     "execution_count": 6,
     "metadata": {},
     "output_type": "execute_result"
    }
   ],
   "source": [
    "backend.num_qubits"
   ]
  },
  {
   "cell_type": "code",
   "execution_count": 8,
   "metadata": {},
   "outputs": [
    {
     "name": "stdout",
     "output_type": "stream",
     "text": [
      "zsh:1: no matches found: qiskit[visualization]\n",
      "Requirement already satisfied: qiskit-aer in /Users/Shared/Drive/Qiskit/qiskitenv/lib/python3.9/site-packages (0.15.1)\n",
      "Requirement already satisfied: scipy>=1.0 in /Users/Shared/Drive/Qiskit/qiskitenv/lib/python3.9/site-packages (from qiskit-aer) (1.13.1)\n",
      "Requirement already satisfied: qiskit>=1.1.0 in /Users/Shared/Drive/Qiskit/qiskitenv/lib/python3.9/site-packages (from qiskit-aer) (1.2.2)\n",
      "Requirement already satisfied: numpy>=1.16.3 in /Users/Shared/Drive/Qiskit/qiskitenv/lib/python3.9/site-packages (from qiskit-aer) (2.0.2)\n",
      "Requirement already satisfied: psutil>=5 in /Users/Shared/Drive/Qiskit/qiskitenv/lib/python3.9/site-packages (from qiskit-aer) (6.0.0)\n",
      "Requirement already satisfied: python-dateutil>=2.8.0 in /Users/Shared/Drive/Qiskit/qiskitenv/lib/python3.9/site-packages (from qiskit>=1.1.0->qiskit-aer) (2.9.0.post0)\n",
      "Requirement already satisfied: rustworkx>=0.15.0 in /Users/Shared/Drive/Qiskit/qiskitenv/lib/python3.9/site-packages (from qiskit>=1.1.0->qiskit-aer) (0.15.1)\n",
      "Requirement already satisfied: dill>=0.3 in /Users/Shared/Drive/Qiskit/qiskitenv/lib/python3.9/site-packages (from qiskit>=1.1.0->qiskit-aer) (0.3.9)\n",
      "Requirement already satisfied: typing-extensions in /Users/Shared/Drive/Qiskit/qiskitenv/lib/python3.9/site-packages (from qiskit>=1.1.0->qiskit-aer) (4.12.2)\n",
      "Requirement already satisfied: sympy>=1.3 in /Users/Shared/Drive/Qiskit/qiskitenv/lib/python3.9/site-packages (from qiskit>=1.1.0->qiskit-aer) (1.13.3)\n",
      "Requirement already satisfied: stevedore>=3.0.0 in /Users/Shared/Drive/Qiskit/qiskitenv/lib/python3.9/site-packages (from qiskit>=1.1.0->qiskit-aer) (5.3.0)\n",
      "Requirement already satisfied: symengine>=0.11 in /Users/Shared/Drive/Qiskit/qiskitenv/lib/python3.9/site-packages (from qiskit>=1.1.0->qiskit-aer) (0.13.0)\n",
      "Requirement already satisfied: six>=1.5 in /Users/Shared/Drive/Qiskit/qiskitenv/lib/python3.9/site-packages (from python-dateutil>=2.8.0->qiskit>=1.1.0->qiskit-aer) (1.16.0)\n",
      "Requirement already satisfied: pbr>=2.0.0 in /Users/Shared/Drive/Qiskit/qiskitenv/lib/python3.9/site-packages (from stevedore>=3.0.0->qiskit>=1.1.0->qiskit-aer) (6.1.0)\n",
      "Requirement already satisfied: mpmath<1.4,>=1.1.0 in /Users/Shared/Drive/Qiskit/qiskitenv/lib/python3.9/site-packages (from sympy>=1.3->qiskit>=1.1.0->qiskit-aer) (1.3.0)\n",
      "\u001b[33mWARNING: You are using pip version 21.2.4; however, version 24.2 is available.\n",
      "You should consider upgrading via the '/Users/Shared/Drive/Qiskit/qiskitenv/bin/python3 -m pip install --upgrade pip' command.\u001b[0m\n",
      "Requirement already satisfied: qiskit in /Users/Shared/Drive/Qiskit/qiskitenv/lib/python3.9/site-packages (1.2.2)\n",
      "Requirement already satisfied: scipy>=1.5 in /Users/Shared/Drive/Qiskit/qiskitenv/lib/python3.9/site-packages (from qiskit) (1.13.1)\n",
      "Requirement already satisfied: typing-extensions in /Users/Shared/Drive/Qiskit/qiskitenv/lib/python3.9/site-packages (from qiskit) (4.12.2)\n",
      "Requirement already satisfied: rustworkx>=0.15.0 in /Users/Shared/Drive/Qiskit/qiskitenv/lib/python3.9/site-packages (from qiskit) (0.15.1)\n",
      "Requirement already satisfied: sympy>=1.3 in /Users/Shared/Drive/Qiskit/qiskitenv/lib/python3.9/site-packages (from qiskit) (1.13.3)\n",
      "Requirement already satisfied: stevedore>=3.0.0 in /Users/Shared/Drive/Qiskit/qiskitenv/lib/python3.9/site-packages (from qiskit) (5.3.0)\n",
      "Requirement already satisfied: symengine>=0.11 in /Users/Shared/Drive/Qiskit/qiskitenv/lib/python3.9/site-packages (from qiskit) (0.13.0)\n",
      "Requirement already satisfied: dill>=0.3 in /Users/Shared/Drive/Qiskit/qiskitenv/lib/python3.9/site-packages (from qiskit) (0.3.9)\n",
      "Requirement already satisfied: numpy<3,>=1.17 in /Users/Shared/Drive/Qiskit/qiskitenv/lib/python3.9/site-packages (from qiskit) (2.0.2)\n",
      "Requirement already satisfied: python-dateutil>=2.8.0 in /Users/Shared/Drive/Qiskit/qiskitenv/lib/python3.9/site-packages (from qiskit) (2.9.0.post0)\n",
      "Requirement already satisfied: six>=1.5 in /Users/Shared/Drive/Qiskit/qiskitenv/lib/python3.9/site-packages (from python-dateutil>=2.8.0->qiskit) (1.16.0)\n",
      "Requirement already satisfied: pbr>=2.0.0 in /Users/Shared/Drive/Qiskit/qiskitenv/lib/python3.9/site-packages (from stevedore>=3.0.0->qiskit) (6.1.0)\n",
      "Requirement already satisfied: mpmath<1.4,>=1.1.0 in /Users/Shared/Drive/Qiskit/qiskitenv/lib/python3.9/site-packages (from sympy>=1.3->qiskit) (1.3.0)\n",
      "\u001b[33mWARNING: You are using pip version 21.2.4; however, version 24.2 is available.\n",
      "You should consider upgrading via the '/Users/Shared/Drive/Qiskit/qiskitenv/bin/python3 -m pip install --upgrade pip' command.\u001b[0m\n",
      "Requirement already satisfied: matplotlib in /Users/Shared/Drive/Qiskit/qiskitenv/lib/python3.9/site-packages (3.9.2)\n",
      "Requirement already satisfied: contourpy>=1.0.1 in /Users/Shared/Drive/Qiskit/qiskitenv/lib/python3.9/site-packages (from matplotlib) (1.3.0)\n",
      "Requirement already satisfied: importlib-resources>=3.2.0 in /Users/Shared/Drive/Qiskit/qiskitenv/lib/python3.9/site-packages (from matplotlib) (6.4.5)\n",
      "Requirement already satisfied: pyparsing>=2.3.1 in /Users/Shared/Drive/Qiskit/qiskitenv/lib/python3.9/site-packages (from matplotlib) (3.1.4)\n",
      "Requirement already satisfied: kiwisolver>=1.3.1 in /Users/Shared/Drive/Qiskit/qiskitenv/lib/python3.9/site-packages (from matplotlib) (1.4.7)\n",
      "Requirement already satisfied: cycler>=0.10 in /Users/Shared/Drive/Qiskit/qiskitenv/lib/python3.9/site-packages (from matplotlib) (0.12.1)\n",
      "Requirement already satisfied: pillow>=8 in /Users/Shared/Drive/Qiskit/qiskitenv/lib/python3.9/site-packages (from matplotlib) (10.4.0)\n",
      "Requirement already satisfied: numpy>=1.23 in /Users/Shared/Drive/Qiskit/qiskitenv/lib/python3.9/site-packages (from matplotlib) (2.0.2)\n",
      "Requirement already satisfied: python-dateutil>=2.7 in /Users/Shared/Drive/Qiskit/qiskitenv/lib/python3.9/site-packages (from matplotlib) (2.9.0.post0)\n",
      "Requirement already satisfied: fonttools>=4.22.0 in /Users/Shared/Drive/Qiskit/qiskitenv/lib/python3.9/site-packages (from matplotlib) (4.54.1)\n",
      "Requirement already satisfied: packaging>=20.0 in /Users/Shared/Drive/Qiskit/qiskitenv/lib/python3.9/site-packages (from matplotlib) (24.1)\n",
      "Requirement already satisfied: zipp>=3.1.0 in /Users/Shared/Drive/Qiskit/qiskitenv/lib/python3.9/site-packages (from importlib-resources>=3.2.0->matplotlib) (3.20.2)\n",
      "Requirement already satisfied: six>=1.5 in /Users/Shared/Drive/Qiskit/qiskitenv/lib/python3.9/site-packages (from python-dateutil>=2.7->matplotlib) (1.16.0)\n",
      "\u001b[33mWARNING: You are using pip version 21.2.4; however, version 24.2 is available.\n",
      "You should consider upgrading via the '/Users/Shared/Drive/Qiskit/qiskitenv/bin/python3 -m pip install --upgrade pip' command.\u001b[0m\n"
     ]
    }
   ],
   "source": [
    "!pip install qiskit[visualization]\n",
    "!pip install qiskit-aer\n",
    "!pip install qiskit\n",
    "!pip install matplotlib\n",
    "!pip install qiskit-ibm-runtime\n",
    "!pip install jupyter"
   ]
  },
  {
   "cell_type": "code",
   "execution_count": 7,
   "metadata": {},
   "outputs": [
    {
     "name": "stdout",
     "output_type": "stream",
     "text": [
      "Collecting qiskit-aer\n",
      "  Downloading qiskit_aer-0.15.1-cp39-cp39-macosx_10_9_x86_64.whl (2.5 MB)\n",
      "\u001b[K     |████████████████████████████████| 2.5 MB 7.7 MB/s eta 0:00:01\n",
      "\u001b[?25hRequirement already satisfied: qiskit>=1.1.0 in /Users/Shared/Drive/Qiskit/qiskitenv/lib/python3.9/site-packages (from qiskit-aer) (1.2.2)\n",
      "Requirement already satisfied: scipy>=1.0 in /Users/Shared/Drive/Qiskit/qiskitenv/lib/python3.9/site-packages (from qiskit-aer) (1.13.1)\n",
      "Requirement already satisfied: psutil>=5 in /Users/Shared/Drive/Qiskit/qiskitenv/lib/python3.9/site-packages (from qiskit-aer) (6.0.0)\n",
      "Requirement already satisfied: numpy>=1.16.3 in /Users/Shared/Drive/Qiskit/qiskitenv/lib/python3.9/site-packages (from qiskit-aer) (2.0.2)\n",
      "Requirement already satisfied: sympy>=1.3 in /Users/Shared/Drive/Qiskit/qiskitenv/lib/python3.9/site-packages (from qiskit>=1.1.0->qiskit-aer) (1.13.3)\n",
      "Requirement already satisfied: typing-extensions in /Users/Shared/Drive/Qiskit/qiskitenv/lib/python3.9/site-packages (from qiskit>=1.1.0->qiskit-aer) (4.12.2)\n",
      "Requirement already satisfied: symengine>=0.11 in /Users/Shared/Drive/Qiskit/qiskitenv/lib/python3.9/site-packages (from qiskit>=1.1.0->qiskit-aer) (0.13.0)\n",
      "Requirement already satisfied: python-dateutil>=2.8.0 in /Users/Shared/Drive/Qiskit/qiskitenv/lib/python3.9/site-packages (from qiskit>=1.1.0->qiskit-aer) (2.9.0.post0)\n",
      "Requirement already satisfied: dill>=0.3 in /Users/Shared/Drive/Qiskit/qiskitenv/lib/python3.9/site-packages (from qiskit>=1.1.0->qiskit-aer) (0.3.9)\n",
      "Requirement already satisfied: stevedore>=3.0.0 in /Users/Shared/Drive/Qiskit/qiskitenv/lib/python3.9/site-packages (from qiskit>=1.1.0->qiskit-aer) (5.3.0)\n",
      "Requirement already satisfied: rustworkx>=0.15.0 in /Users/Shared/Drive/Qiskit/qiskitenv/lib/python3.9/site-packages (from qiskit>=1.1.0->qiskit-aer) (0.15.1)\n",
      "Requirement already satisfied: six>=1.5 in /Users/Shared/Drive/Qiskit/qiskitenv/lib/python3.9/site-packages (from python-dateutil>=2.8.0->qiskit>=1.1.0->qiskit-aer) (1.16.0)\n",
      "Requirement already satisfied: pbr>=2.0.0 in /Users/Shared/Drive/Qiskit/qiskitenv/lib/python3.9/site-packages (from stevedore>=3.0.0->qiskit>=1.1.0->qiskit-aer) (6.1.0)\n",
      "Requirement already satisfied: mpmath<1.4,>=1.1.0 in /Users/Shared/Drive/Qiskit/qiskitenv/lib/python3.9/site-packages (from sympy>=1.3->qiskit>=1.1.0->qiskit-aer) (1.3.0)\n",
      "Installing collected packages: qiskit-aer\n",
      "Successfully installed qiskit-aer-0.15.1\n",
      "\u001b[33mWARNING: You are using pip version 21.2.4; however, version 24.2 is available.\n",
      "You should consider upgrading via the '/Users/Shared/Drive/Qiskit/qiskitenv/bin/python3 -m pip install --upgrade pip' command.\u001b[0m\n"
     ]
    }
   ],
   "source": []
  },
  {
   "cell_type": "code",
   "execution_count": null,
   "metadata": {},
   "outputs": [],
   "source": []
  }
 ],
 "metadata": {
  "kernelspec": {
   "display_name": "qiskitenv",
   "language": "python",
   "name": "python3"
  },
  "language_info": {
   "codemirror_mode": {
    "name": "ipython",
    "version": 3
   },
   "file_extension": ".py",
   "mimetype": "text/x-python",
   "name": "python",
   "nbconvert_exporter": "python",
   "pygments_lexer": "ipython3",
   "version": "3.9.6"
  }
 },
 "nbformat": 4,
 "nbformat_minor": 2
}
