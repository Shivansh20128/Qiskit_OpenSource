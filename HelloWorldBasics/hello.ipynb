{
 "cells": [
  {
   "cell_type": "code",
   "execution_count": 2,
   "metadata": {},
   "outputs": [],
   "source": [
    "import qiskit"
   ]
  },
  {
   "cell_type": "code",
   "execution_count": 3,
   "metadata": {},
   "outputs": [
    {
     "data": {
      "text/plain": [
       "'1.1.0'"
      ]
     },
     "execution_count": 3,
     "metadata": {},
     "output_type": "execute_result"
    }
   ],
   "source": [
    "qiskit.__version__"
   ]
  },
  {
   "cell_type": "code",
   "execution_count": 1,
   "metadata": {},
   "outputs": [],
   "source": [
    "from qiskit_ibm_runtime import QiskitRuntimeService\n",
    "\n",
    "service = QiskitRuntimeService(channel=\"ibm_quantum\", token='5e440e70175c2e2eb3b171dda03e44191a7a251fdf3e6ccdc04f3fea2c18e487adc8692372540734ca3f31d570408e012ab162fa902938eb9924b619b32002e4')"
   ]
  },
  {
   "cell_type": "code",
   "execution_count": 4,
   "metadata": {},
   "outputs": [],
   "source": [
    "QiskitRuntimeService.save_account(channel=\"ibm_quantum\", token='5e440e70175c2e2eb3b171dda03e44191a7a251fdf3e6ccdc04f3fea2c18e487adc8692372540734ca3f31d570408e012ab162fa902938eb9924b619b32002e4', overwrite=True)"
   ]
  },
  {
   "cell_type": "code",
   "execution_count": 7,
   "metadata": {},
   "outputs": [],
   "source": [
    "backend = service.backend(name = \"ibm_brisbane\")"
   ]
  },
  {
   "cell_type": "code",
   "execution_count": 8,
   "metadata": {},
   "outputs": [
    {
     "data": {
      "text/plain": [
       "127"
      ]
     },
     "execution_count": 8,
     "metadata": {},
     "output_type": "execute_result"
    }
   ],
   "source": [
    "backend.num_qubits"
   ]
  },
  {
   "cell_type": "code",
   "execution_count": 2,
   "metadata": {},
   "outputs": [
    {
     "name": "stdout",
     "output_type": "stream",
     "text": [
      "Requirement already satisfied: qiskit[visualization] in d:\\qiskit\\qiskitenv\\lib\\site-packages (1.1.0)\n",
      "Requirement already satisfied: dill>=0.3 in d:\\qiskit\\qiskitenv\\lib\\site-packages (from qiskit[visualization]) (0.3.8)\n",
      "Requirement already satisfied: numpy<3,>=1.17 in d:\\qiskit\\qiskitenv\\lib\\site-packages (from qiskit[visualization]) (1.26.4)\n",
      "Requirement already satisfied: python-dateutil>=2.8.0 in d:\\qiskit\\qiskitenv\\lib\\site-packages (from qiskit[visualization]) (2.9.0.post0)\n",
      "Requirement already satisfied: sympy>=1.3 in d:\\qiskit\\qiskitenv\\lib\\site-packages (from qiskit[visualization]) (1.12.1)\n",
      "Requirement already satisfied: typing-extensions in d:\\qiskit\\qiskitenv\\lib\\site-packages (from qiskit[visualization]) (4.12.0)\n",
      "Requirement already satisfied: scipy>=1.5 in d:\\qiskit\\qiskitenv\\lib\\site-packages (from qiskit[visualization]) (1.13.1)\n",
      "Requirement already satisfied: symengine>=0.11 in d:\\qiskit\\qiskitenv\\lib\\site-packages (from qiskit[visualization]) (0.11.0)\n",
      "Requirement already satisfied: stevedore>=3.0.0 in d:\\qiskit\\qiskitenv\\lib\\site-packages (from qiskit[visualization]) (5.2.0)\n",
      "Requirement already satisfied: rustworkx>=0.14.0 in d:\\qiskit\\qiskitenv\\lib\\site-packages (from qiskit[visualization]) (0.14.2)\n",
      "Requirement already satisfied: Pillow>=4.2.1 in d:\\qiskit\\qiskitenv\\lib\\site-packages (from qiskit[visualization]) (10.3.0)\n",
      "Requirement already satisfied: seaborn>=0.9.0 in d:\\qiskit\\qiskitenv\\lib\\site-packages (from qiskit[visualization]) (0.13.2)\n",
      "Requirement already satisfied: matplotlib>=3.3 in d:\\qiskit\\qiskitenv\\lib\\site-packages (from qiskit[visualization]) (3.9.0)\n",
      "Requirement already satisfied: pydot in d:\\qiskit\\qiskitenv\\lib\\site-packages (from qiskit[visualization]) (2.0.0)\n",
      "Requirement already satisfied: pylatexenc>=1.4 in d:\\qiskit\\qiskitenv\\lib\\site-packages (from qiskit[visualization]) (2.10)\n",
      "Requirement already satisfied: kiwisolver>=1.3.1 in d:\\qiskit\\qiskitenv\\lib\\site-packages (from matplotlib>=3.3->qiskit[visualization]) (1.4.5)\n",
      "Requirement already satisfied: pyparsing>=2.3.1 in d:\\qiskit\\qiskitenv\\lib\\site-packages (from matplotlib>=3.3->qiskit[visualization]) (3.1.2)\n",
      "Requirement already satisfied: packaging>=20.0 in d:\\qiskit\\qiskitenv\\lib\\site-packages (from matplotlib>=3.3->qiskit[visualization]) (24.0)\n",
      "Requirement already satisfied: fonttools>=4.22.0 in d:\\qiskit\\qiskitenv\\lib\\site-packages (from matplotlib>=3.3->qiskit[visualization]) (4.52.4)\n",
      "Requirement already satisfied: cycler>=0.10 in d:\\qiskit\\qiskitenv\\lib\\site-packages (from matplotlib>=3.3->qiskit[visualization]) (0.12.1)\n",
      "Requirement already satisfied: importlib-resources>=3.2.0 in d:\\qiskit\\qiskitenv\\lib\\site-packages (from matplotlib>=3.3->qiskit[visualization]) (6.4.0)\n",
      "Requirement already satisfied: contourpy>=1.0.1 in d:\\qiskit\\qiskitenv\\lib\\site-packages (from matplotlib>=3.3->qiskit[visualization]) (1.2.1)\n",
      "Requirement already satisfied: six>=1.5 in d:\\qiskit\\qiskitenv\\lib\\site-packages (from python-dateutil>=2.8.0->qiskit[visualization]) (1.16.0)\n",
      "Requirement already satisfied: pandas>=1.2 in d:\\qiskit\\qiskitenv\\lib\\site-packages (from seaborn>=0.9.0->qiskit[visualization]) (2.2.2)\n",
      "Requirement already satisfied: pbr!=2.1.0,>=2.0.0 in d:\\qiskit\\qiskitenv\\lib\\site-packages (from stevedore>=3.0.0->qiskit[visualization]) (6.0.0)\n",
      "Requirement already satisfied: mpmath<1.4.0,>=1.1.0 in d:\\qiskit\\qiskitenv\\lib\\site-packages (from sympy>=1.3->qiskit[visualization]) (1.3.0)\n",
      "Requirement already satisfied: zipp>=3.1.0 in d:\\qiskit\\qiskitenv\\lib\\site-packages (from importlib-resources>=3.2.0->matplotlib>=3.3->qiskit[visualization]) (3.19.0)\n",
      "Requirement already satisfied: tzdata>=2022.7 in d:\\qiskit\\qiskitenv\\lib\\site-packages (from pandas>=1.2->seaborn>=0.9.0->qiskit[visualization]) (2024.1)\n",
      "Requirement already satisfied: pytz>=2020.1 in d:\\qiskit\\qiskitenv\\lib\\site-packages (from pandas>=1.2->seaborn>=0.9.0->qiskit[visualization]) (2024.1)\n"
     ]
    },
    {
     "name": "stderr",
     "output_type": "stream",
     "text": [
      "WARNING: You are using pip version 22.0.4; however, version 24.1.2 is available.\n",
      "You should consider upgrading via the 'd:\\Qiskit\\qiskitenv\\Scripts\\python.exe -m pip install --upgrade pip' command.\n"
     ]
    }
   ],
   "source": [
    "!pip install qiskit[visualization]"
   ]
  },
  {
   "cell_type": "code",
   "execution_count": 1,
   "metadata": {},
   "outputs": [
    {
     "name": "stdout",
     "output_type": "stream",
     "text": [
      "Requirement already satisfied: qiskit-aer in d:\\qiskit\\qiskitenv\\lib\\site-packages (0.14.2)\n",
      "Requirement already satisfied: psutil>=5 in d:\\qiskit\\qiskitenv\\lib\\site-packages (from qiskit-aer) (5.9.8)\n",
      "Requirement already satisfied: scipy>=1.0 in d:\\qiskit\\qiskitenv\\lib\\site-packages (from qiskit-aer) (1.13.1)\n",
      "Requirement already satisfied: numpy>=1.16.3 in d:\\qiskit\\qiskitenv\\lib\\site-packages (from qiskit-aer) (1.26.4)\n",
      "Requirement already satisfied: qiskit>=0.45.2 in d:\\qiskit\\qiskitenv\\lib\\site-packages (from qiskit-aer) (1.1.0)\n",
      "Requirement already satisfied: dill>=0.3 in d:\\qiskit\\qiskitenv\\lib\\site-packages (from qiskit>=0.45.2->qiskit-aer) (0.3.8)\n",
      "Requirement already satisfied: rustworkx>=0.14.0 in d:\\qiskit\\qiskitenv\\lib\\site-packages (from qiskit>=0.45.2->qiskit-aer) (0.14.2)\n",
      "Requirement already satisfied: stevedore>=3.0.0 in d:\\qiskit\\qiskitenv\\lib\\site-packages (from qiskit>=0.45.2->qiskit-aer) (5.2.0)\n",
      "Requirement already satisfied: typing-extensions in d:\\qiskit\\qiskitenv\\lib\\site-packages (from qiskit>=0.45.2->qiskit-aer) (4.12.0)\n",
      "Requirement already satisfied: symengine>=0.11 in d:\\qiskit\\qiskitenv\\lib\\site-packages (from qiskit>=0.45.2->qiskit-aer) (0.11.0)\n",
      "Requirement already satisfied: python-dateutil>=2.8.0 in d:\\qiskit\\qiskitenv\\lib\\site-packages (from qiskit>=0.45.2->qiskit-aer) (2.9.0.post0)\n",
      "Requirement already satisfied: sympy>=1.3 in d:\\qiskit\\qiskitenv\\lib\\site-packages (from qiskit>=0.45.2->qiskit-aer) (1.12.1)\n",
      "Requirement already satisfied: six>=1.5 in d:\\qiskit\\qiskitenv\\lib\\site-packages (from python-dateutil>=2.8.0->qiskit>=0.45.2->qiskit-aer) (1.16.0)\n",
      "Requirement already satisfied: pbr!=2.1.0,>=2.0.0 in d:\\qiskit\\qiskitenv\\lib\\site-packages (from stevedore>=3.0.0->qiskit>=0.45.2->qiskit-aer) (6.0.0)\n",
      "Requirement already satisfied: mpmath<1.4.0,>=1.1.0 in d:\\qiskit\\qiskitenv\\lib\\site-packages (from sympy>=1.3->qiskit>=0.45.2->qiskit-aer) (1.3.0)\n"
     ]
    },
    {
     "name": "stderr",
     "output_type": "stream",
     "text": [
      "WARNING: You are using pip version 22.0.4; however, version 24.2 is available.\n",
      "You should consider upgrading via the 'd:\\Qiskit\\qiskitenv\\Scripts\\python.exe -m pip install --upgrade pip' command.\n"
     ]
    }
   ],
   "source": [
    "!pip install qiskit-aer"
   ]
  },
  {
   "cell_type": "code",
   "execution_count": null,
   "metadata": {},
   "outputs": [],
   "source": []
  }
 ],
 "metadata": {
  "kernelspec": {
   "display_name": "qiskitenv",
   "language": "python",
   "name": "python3"
  },
  "language_info": {
   "codemirror_mode": {
    "name": "ipython",
    "version": 3
   },
   "file_extension": ".py",
   "mimetype": "text/x-python",
   "name": "python",
   "nbconvert_exporter": "python",
   "pygments_lexer": "ipython3",
   "version": "3.9.13"
  }
 },
 "nbformat": 4,
 "nbformat_minor": 2
}
